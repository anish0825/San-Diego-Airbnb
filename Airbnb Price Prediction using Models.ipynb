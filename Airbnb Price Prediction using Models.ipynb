{
 "cells": [
  {
   "cell_type": "code",
   "execution_count": 1,
   "metadata": {},
   "outputs": [],
   "source": [
    "#Import all the useful Libraries\n",
    "import pandas as pd\n",
    "import numpy as np\n",
    "import seaborn as sns\n",
    "import matplotlib.pyplot as plt\n",
    "import pandas.api.types as ptypes\n",
    "from datetime import datetime\n",
    "import dateutil.parser\n",
    "\n",
    "from sklearn.impute import SimpleImputer\n",
    "\n",
    "from sklearn.linear_model import LinearRegression\n",
    "from sklearn import metrics\n",
    "# The command below means that the output of multiple commands in a cell will be output at once\n",
    "from IPython.core.interactiveshell import InteractiveShell\n",
    "InteractiveShell.ast_node_interactivity = \"all\"\n",
    "\n",
    "# The command below tells jupyter to display up to 100 columns, this keeps everything visible\n",
    "pd.set_option('display.max_columns', 100)\n",
    "pd.set_option('expand_frame_repr', True)\n",
    "\n",
    "# Show figures in notebook\n",
    "%matplotlib inline"
   ]
  },
  {
   "cell_type": "code",
   "execution_count": 2,
   "metadata": {},
   "outputs": [
    {
     "name": "stderr",
     "output_type": "stream",
     "text": [
      "C:\\Users\\Anish\\Anaconda3\\lib\\site-packages\\IPython\\core\\interactiveshell.py:3063: DtypeWarning: Columns (43,94) have mixed types.Specify dtype option on import or set low_memory=False.\n",
      "  interactivity=interactivity, compiler=compiler, result=result)\n"
     ]
    }
   ],
   "source": [
    "#Reading data in csv\n",
    "df=pd.read_csv('listings.csv')"
   ]
  },
  {
   "cell_type": "code",
   "execution_count": 3,
   "metadata": {},
   "outputs": [
    {
     "data": {
      "text/html": [
       "<div>\n",
       "<style scoped>\n",
       "    .dataframe tbody tr th:only-of-type {\n",
       "        vertical-align: middle;\n",
       "    }\n",
       "\n",
       "    .dataframe tbody tr th {\n",
       "        vertical-align: top;\n",
       "    }\n",
       "\n",
       "    .dataframe thead th {\n",
       "        text-align: right;\n",
       "    }\n",
       "</style>\n",
       "<table border=\"1\" class=\"dataframe\">\n",
       "  <thead>\n",
       "    <tr style=\"text-align: right;\">\n",
       "      <th></th>\n",
       "      <th>id</th>\n",
       "      <th>listing_url</th>\n",
       "      <th>scrape_id</th>\n",
       "      <th>last_scraped</th>\n",
       "      <th>name</th>\n",
       "      <th>summary</th>\n",
       "      <th>space</th>\n",
       "      <th>description</th>\n",
       "      <th>experiences_offered</th>\n",
       "      <th>neighborhood_overview</th>\n",
       "      <th>notes</th>\n",
       "      <th>transit</th>\n",
       "      <th>access</th>\n",
       "      <th>interaction</th>\n",
       "      <th>house_rules</th>\n",
       "      <th>thumbnail_url</th>\n",
       "      <th>medium_url</th>\n",
       "      <th>picture_url</th>\n",
       "      <th>xl_picture_url</th>\n",
       "      <th>host_id</th>\n",
       "      <th>host_url</th>\n",
       "      <th>host_name</th>\n",
       "      <th>host_since</th>\n",
       "      <th>host_location</th>\n",
       "      <th>host_about</th>\n",
       "      <th>host_response_time</th>\n",
       "      <th>host_response_rate</th>\n",
       "      <th>host_acceptance_rate</th>\n",
       "      <th>host_is_superhost</th>\n",
       "      <th>host_thumbnail_url</th>\n",
       "      <th>host_picture_url</th>\n",
       "      <th>host_neighbourhood</th>\n",
       "      <th>host_listings_count</th>\n",
       "      <th>host_total_listings_count</th>\n",
       "      <th>host_verifications</th>\n",
       "      <th>host_has_profile_pic</th>\n",
       "      <th>host_identity_verified</th>\n",
       "      <th>street</th>\n",
       "      <th>neighbourhood</th>\n",
       "      <th>neighbourhood_cleansed</th>\n",
       "      <th>neighbourhood_group_cleansed</th>\n",
       "      <th>city</th>\n",
       "      <th>state</th>\n",
       "      <th>zipcode</th>\n",
       "      <th>market</th>\n",
       "      <th>smart_location</th>\n",
       "      <th>country_code</th>\n",
       "      <th>country</th>\n",
       "      <th>latitude</th>\n",
       "      <th>longitude</th>\n",
       "      <th>...</th>\n",
       "      <th>beds</th>\n",
       "      <th>bed_type</th>\n",
       "      <th>amenities</th>\n",
       "      <th>square_feet</th>\n",
       "      <th>price</th>\n",
       "      <th>weekly_price</th>\n",
       "      <th>monthly_price</th>\n",
       "      <th>security_deposit</th>\n",
       "      <th>cleaning_fee</th>\n",
       "      <th>guests_included</th>\n",
       "      <th>extra_people</th>\n",
       "      <th>minimum_nights</th>\n",
       "      <th>maximum_nights</th>\n",
       "      <th>minimum_minimum_nights</th>\n",
       "      <th>maximum_minimum_nights</th>\n",
       "      <th>minimum_maximum_nights</th>\n",
       "      <th>maximum_maximum_nights</th>\n",
       "      <th>minimum_nights_avg_ntm</th>\n",
       "      <th>maximum_nights_avg_ntm</th>\n",
       "      <th>calendar_updated</th>\n",
       "      <th>has_availability</th>\n",
       "      <th>availability_30</th>\n",
       "      <th>availability_60</th>\n",
       "      <th>availability_90</th>\n",
       "      <th>availability_365</th>\n",
       "      <th>calendar_last_scraped</th>\n",
       "      <th>number_of_reviews</th>\n",
       "      <th>number_of_reviews_ltm</th>\n",
       "      <th>first_review</th>\n",
       "      <th>last_review</th>\n",
       "      <th>review_scores_rating</th>\n",
       "      <th>review_scores_accuracy</th>\n",
       "      <th>review_scores_cleanliness</th>\n",
       "      <th>review_scores_checkin</th>\n",
       "      <th>review_scores_communication</th>\n",
       "      <th>review_scores_location</th>\n",
       "      <th>review_scores_value</th>\n",
       "      <th>requires_license</th>\n",
       "      <th>license</th>\n",
       "      <th>jurisdiction_names</th>\n",
       "      <th>instant_bookable</th>\n",
       "      <th>is_business_travel_ready</th>\n",
       "      <th>cancellation_policy</th>\n",
       "      <th>require_guest_profile_picture</th>\n",
       "      <th>require_guest_phone_verification</th>\n",
       "      <th>calculated_host_listings_count</th>\n",
       "      <th>calculated_host_listings_count_entire_homes</th>\n",
       "      <th>calculated_host_listings_count_private_rooms</th>\n",
       "      <th>calculated_host_listings_count_shared_rooms</th>\n",
       "      <th>reviews_per_month</th>\n",
       "    </tr>\n",
       "  </thead>\n",
       "  <tbody>\n",
       "    <tr>\n",
       "      <th>0</th>\n",
       "      <td>5570</td>\n",
       "      <td>https://www.airbnb.com/rooms/5570</td>\n",
       "      <td>20191121092222</td>\n",
       "      <td>2019-11-21</td>\n",
       "      <td>Ocean front condo on the sand</td>\n",
       "      <td>Missionbeachretreat.   Great Ocean Front Condo...</td>\n",
       "      <td>This charming two bedroom beachfront condomini...</td>\n",
       "      <td>Missionbeachretreat.   Great Ocean Front Condo...</td>\n",
       "      <td>none</td>\n",
       "      <td>While some may compare San Diego’s Mission Bea...</td>\n",
       "      <td>NaN</td>\n",
       "      <td>Bus #8 goes to La Jolla and Old Town transit c...</td>\n",
       "      <td>2 Bedrooms (1 Queen, 2 Twins)  1 Bath Balcony ...</td>\n",
       "      <td>Once reservation is made I will call guest.  I...</td>\n",
       "      <td>Min 4 nights winter.  7 nights Spring Break, l...</td>\n",
       "      <td>NaN</td>\n",
       "      <td>NaN</td>\n",
       "      <td>https://a0.muscache.com/im/pictures/d3342744-1...</td>\n",
       "      <td>NaN</td>\n",
       "      <td>8435</td>\n",
       "      <td>https://www.airbnb.com/users/show/8435</td>\n",
       "      <td>Jef Karchin</td>\n",
       "      <td>2009-02-23</td>\n",
       "      <td>San Diego, California, United States</td>\n",
       "      <td>Real estate broker,  Jef  Karchin real estate ...</td>\n",
       "      <td>within a few hours</td>\n",
       "      <td>100%</td>\n",
       "      <td>NaN</td>\n",
       "      <td>f</td>\n",
       "      <td>https://a0.muscache.com/im/users/8435/profile_...</td>\n",
       "      <td>https://a0.muscache.com/im/users/8435/profile_...</td>\n",
       "      <td>Mission Beach</td>\n",
       "      <td>3.0</td>\n",
       "      <td>3.0</td>\n",
       "      <td>['email', 'phone', 'kba']</td>\n",
       "      <td>t</td>\n",
       "      <td>t</td>\n",
       "      <td>San Diego, CA, United States</td>\n",
       "      <td>Mission Beach</td>\n",
       "      <td>Mission Bay</td>\n",
       "      <td>NaN</td>\n",
       "      <td>San Diego</td>\n",
       "      <td>CA</td>\n",
       "      <td>92109</td>\n",
       "      <td>San Diego</td>\n",
       "      <td>San Diego, CA</td>\n",
       "      <td>US</td>\n",
       "      <td>United States</td>\n",
       "      <td>32.78430</td>\n",
       "      <td>-117.25258</td>\n",
       "      <td>...</td>\n",
       "      <td>4.0</td>\n",
       "      <td>Real Bed</td>\n",
       "      <td>{TV,\"Cable TV\",Internet,Wifi,Kitchen,\"Free par...</td>\n",
       "      <td>850.0</td>\n",
       "      <td>$2,050.00</td>\n",
       "      <td>NaN</td>\n",
       "      <td>NaN</td>\n",
       "      <td>$500.00</td>\n",
       "      <td>$150.00</td>\n",
       "      <td>1</td>\n",
       "      <td>$0.00</td>\n",
       "      <td>3</td>\n",
       "      <td>365</td>\n",
       "      <td>3</td>\n",
       "      <td>3</td>\n",
       "      <td>365</td>\n",
       "      <td>365</td>\n",
       "      <td>3.0</td>\n",
       "      <td>365.0</td>\n",
       "      <td>2 months ago</td>\n",
       "      <td>t</td>\n",
       "      <td>12</td>\n",
       "      <td>20</td>\n",
       "      <td>31</td>\n",
       "      <td>176</td>\n",
       "      <td>2019-11-21</td>\n",
       "      <td>0</td>\n",
       "      <td>0</td>\n",
       "      <td>NaN</td>\n",
       "      <td>NaN</td>\n",
       "      <td>NaN</td>\n",
       "      <td>NaN</td>\n",
       "      <td>NaN</td>\n",
       "      <td>NaN</td>\n",
       "      <td>NaN</td>\n",
       "      <td>NaN</td>\n",
       "      <td>NaN</td>\n",
       "      <td>f</td>\n",
       "      <td>NaN</td>\n",
       "      <td>{\"SAN DIEGO\",\" SAN DIEGO TOURISM MARKETING DIS...</td>\n",
       "      <td>f</td>\n",
       "      <td>f</td>\n",
       "      <td>strict_14_with_grace_period</td>\n",
       "      <td>f</td>\n",
       "      <td>f</td>\n",
       "      <td>2</td>\n",
       "      <td>2</td>\n",
       "      <td>0</td>\n",
       "      <td>0</td>\n",
       "      <td>NaN</td>\n",
       "    </tr>\n",
       "    <tr>\n",
       "      <th>1</th>\n",
       "      <td>8488</td>\n",
       "      <td>https://www.airbnb.com/rooms/8488</td>\n",
       "      <td>20191121092222</td>\n",
       "      <td>2019-11-21</td>\n",
       "      <td>Juniper Zen Palace- SD's Best Hood!</td>\n",
       "      <td>Walk every where in San Diegos most charming a...</td>\n",
       "      <td>Private craftsman home in the heart of Histori...</td>\n",
       "      <td>Walk every where in San Diegos most charming a...</td>\n",
       "      <td>none</td>\n",
       "      <td>South Park is a charming community and our nei...</td>\n",
       "      <td>we have no cable tv. just streaming services. ...</td>\n",
       "      <td>bus route  to downtown is 1/2 block away!</td>\n",
       "      <td>backyard</td>\n",
       "      <td>NaN</td>\n",
       "      <td>• Check-in time is 3PM. We are fun, easygoing ...</td>\n",
       "      <td>NaN</td>\n",
       "      <td>NaN</td>\n",
       "      <td>https://a0.muscache.com/im/pictures/b1f12e62-1...</td>\n",
       "      <td>NaN</td>\n",
       "      <td>25186</td>\n",
       "      <td>https://www.airbnb.com/users/show/25186</td>\n",
       "      <td>Helene</td>\n",
       "      <td>2009-07-10</td>\n",
       "      <td>Los Angeles, California, United States</td>\n",
       "      <td>HI! I am a photographer on tour. I have severa...</td>\n",
       "      <td>within an hour</td>\n",
       "      <td>100%</td>\n",
       "      <td>NaN</td>\n",
       "      <td>f</td>\n",
       "      <td>https://a0.muscache.com/im/pictures/user/b83cc...</td>\n",
       "      <td>https://a0.muscache.com/im/pictures/user/b83cc...</td>\n",
       "      <td>Burlingame</td>\n",
       "      <td>4.0</td>\n",
       "      <td>4.0</td>\n",
       "      <td>['email', 'phone', 'facebook', 'reviews', 'off...</td>\n",
       "      <td>t</td>\n",
       "      <td>t</td>\n",
       "      <td>San Diego, CA, United States</td>\n",
       "      <td>South Park</td>\n",
       "      <td>South Park</td>\n",
       "      <td>NaN</td>\n",
       "      <td>San Diego</td>\n",
       "      <td>CA</td>\n",
       "      <td>92104</td>\n",
       "      <td>San Diego</td>\n",
       "      <td>San Diego, CA</td>\n",
       "      <td>US</td>\n",
       "      <td>United States</td>\n",
       "      <td>32.72839</td>\n",
       "      <td>-117.12824</td>\n",
       "      <td>...</td>\n",
       "      <td>3.0</td>\n",
       "      <td>Real Bed</td>\n",
       "      <td>{TV,Internet,Wifi,Kitchen,\"Free parking on pre...</td>\n",
       "      <td>NaN</td>\n",
       "      <td>$225.00</td>\n",
       "      <td>NaN</td>\n",
       "      <td>NaN</td>\n",
       "      <td>$300.00</td>\n",
       "      <td>$175.00</td>\n",
       "      <td>4</td>\n",
       "      <td>$50.00</td>\n",
       "      <td>3</td>\n",
       "      <td>1125</td>\n",
       "      <td>3</td>\n",
       "      <td>3</td>\n",
       "      <td>1125</td>\n",
       "      <td>1125</td>\n",
       "      <td>3.0</td>\n",
       "      <td>1125.0</td>\n",
       "      <td>5 weeks ago</td>\n",
       "      <td>t</td>\n",
       "      <td>6</td>\n",
       "      <td>20</td>\n",
       "      <td>42</td>\n",
       "      <td>218</td>\n",
       "      <td>2019-11-21</td>\n",
       "      <td>40</td>\n",
       "      <td>0</td>\n",
       "      <td>2010-10-13</td>\n",
       "      <td>2016-03-24</td>\n",
       "      <td>97.0</td>\n",
       "      <td>9.0</td>\n",
       "      <td>9.0</td>\n",
       "      <td>10.0</td>\n",
       "      <td>10.0</td>\n",
       "      <td>10.0</td>\n",
       "      <td>9.0</td>\n",
       "      <td>f</td>\n",
       "      <td>NaN</td>\n",
       "      <td>{\"SAN DIEGO\",\" SAN DIEGO TOURISM MARKETING DIS...</td>\n",
       "      <td>f</td>\n",
       "      <td>f</td>\n",
       "      <td>strict_14_with_grace_period</td>\n",
       "      <td>t</td>\n",
       "      <td>t</td>\n",
       "      <td>2</td>\n",
       "      <td>2</td>\n",
       "      <td>0</td>\n",
       "      <td>0</td>\n",
       "      <td>0.36</td>\n",
       "    </tr>\n",
       "    <tr>\n",
       "      <th>2</th>\n",
       "      <td>29967</td>\n",
       "      <td>https://www.airbnb.com/rooms/29967</td>\n",
       "      <td>20191121092222</td>\n",
       "      <td>2019-11-21</td>\n",
       "      <td>Great home, 10 min walk to Beach</td>\n",
       "      <td>This 2 bedroom, 2 full bathroom home offers al...</td>\n",
       "      <td>This two bedroom (1 CA king bed, 1 queen bed),...</td>\n",
       "      <td>This 2 bedroom, 2 full bathroom home offers al...</td>\n",
       "      <td>none</td>\n",
       "      <td>NaN</td>\n",
       "      <td>NaN</td>\n",
       "      <td>NaN</td>\n",
       "      <td>NaN</td>\n",
       "      <td>NaN</td>\n",
       "      <td>This is not a party house. This is a quiet fam...</td>\n",
       "      <td>NaN</td>\n",
       "      <td>NaN</td>\n",
       "      <td>https://a0.muscache.com/im/pictures/76103867/c...</td>\n",
       "      <td>NaN</td>\n",
       "      <td>129123</td>\n",
       "      <td>https://www.airbnb.com/users/show/129123</td>\n",
       "      <td>Michael</td>\n",
       "      <td>2010-05-21</td>\n",
       "      <td>San Diego, California, United States</td>\n",
       "      <td>We love living part of the year in San Diego. ...</td>\n",
       "      <td>within an hour</td>\n",
       "      <td>100%</td>\n",
       "      <td>NaN</td>\n",
       "      <td>f</td>\n",
       "      <td>https://a0.muscache.com/im/users/129123/profil...</td>\n",
       "      <td>https://a0.muscache.com/im/users/129123/profil...</td>\n",
       "      <td>Pacific Beach</td>\n",
       "      <td>6.0</td>\n",
       "      <td>6.0</td>\n",
       "      <td>['email', 'phone', 'reviews', 'kba', 'work_ema...</td>\n",
       "      <td>t</td>\n",
       "      <td>t</td>\n",
       "      <td>San Diego, CA, United States</td>\n",
       "      <td>Pacific Beach</td>\n",
       "      <td>Pacific Beach</td>\n",
       "      <td>NaN</td>\n",
       "      <td>San Diego</td>\n",
       "      <td>CA</td>\n",
       "      <td>92109</td>\n",
       "      <td>San Diego</td>\n",
       "      <td>San Diego, CA</td>\n",
       "      <td>US</td>\n",
       "      <td>United States</td>\n",
       "      <td>32.80724</td>\n",
       "      <td>-117.25630</td>\n",
       "      <td>...</td>\n",
       "      <td>3.0</td>\n",
       "      <td>Real Bed</td>\n",
       "      <td>{TV,\"Cable TV\",Internet,Wifi,Kitchen,\"Free par...</td>\n",
       "      <td>NaN</td>\n",
       "      <td>$225.00</td>\n",
       "      <td>NaN</td>\n",
       "      <td>$2,900.00</td>\n",
       "      <td>$250.00</td>\n",
       "      <td>$80.00</td>\n",
       "      <td>6</td>\n",
       "      <td>$15.00</td>\n",
       "      <td>4</td>\n",
       "      <td>365</td>\n",
       "      <td>4</td>\n",
       "      <td>4</td>\n",
       "      <td>365</td>\n",
       "      <td>365</td>\n",
       "      <td>4.0</td>\n",
       "      <td>365.0</td>\n",
       "      <td>3 months ago</td>\n",
       "      <td>t</td>\n",
       "      <td>0</td>\n",
       "      <td>0</td>\n",
       "      <td>0</td>\n",
       "      <td>234</td>\n",
       "      <td>2019-11-21</td>\n",
       "      <td>60</td>\n",
       "      <td>0</td>\n",
       "      <td>2010-07-09</td>\n",
       "      <td>2018-08-09</td>\n",
       "      <td>98.0</td>\n",
       "      <td>10.0</td>\n",
       "      <td>10.0</td>\n",
       "      <td>10.0</td>\n",
       "      <td>10.0</td>\n",
       "      <td>10.0</td>\n",
       "      <td>10.0</td>\n",
       "      <td>f</td>\n",
       "      <td>NaN</td>\n",
       "      <td>{\"SAN DIEGO\",\" SAN DIEGO TOURISM MARKETING DIS...</td>\n",
       "      <td>f</td>\n",
       "      <td>f</td>\n",
       "      <td>moderate</td>\n",
       "      <td>f</td>\n",
       "      <td>f</td>\n",
       "      <td>5</td>\n",
       "      <td>5</td>\n",
       "      <td>0</td>\n",
       "      <td>0</td>\n",
       "      <td>0.53</td>\n",
       "    </tr>\n",
       "    <tr>\n",
       "      <th>3</th>\n",
       "      <td>38245</td>\n",
       "      <td>https://www.airbnb.com/rooms/38245</td>\n",
       "      <td>20191121092222</td>\n",
       "      <td>2019-11-21</td>\n",
       "      <td>Point Loma/Liberty Station-NTC</td>\n",
       "      <td>Stay in a 1928 Spanish Style home.  Den is dow...</td>\n",
       "      <td>Please note:  1928 home; remodeled in 2015. Co...</td>\n",
       "      <td>Stay in a 1928 Spanish Style home.  Den is dow...</td>\n",
       "      <td>none</td>\n",
       "      <td>This neighborhood is an expensive, high-end Po...</td>\n",
       "      <td>I have a puppy now:  April 10th.  Lindbergh Fi...</td>\n",
       "      <td>Public transit is across the street (100 meter...</td>\n",
       "      <td>Guests can sit in the dining room to eat or re...</td>\n",
       "      <td>I can meet and greet you; once in a while; ano...</td>\n",
       "      <td>No drugs.      light alcohol is fine.    No sm...</td>\n",
       "      <td>NaN</td>\n",
       "      <td>NaN</td>\n",
       "      <td>https://a0.muscache.com/im/pictures/f3073822-e...</td>\n",
       "      <td>NaN</td>\n",
       "      <td>164137</td>\n",
       "      <td>https://www.airbnb.com/users/show/164137</td>\n",
       "      <td>Melinda</td>\n",
       "      <td>2010-07-12</td>\n",
       "      <td>San Diego, California, United States</td>\n",
       "      <td>Hello Future and Returning Friends!   It is Sp...</td>\n",
       "      <td>within an hour</td>\n",
       "      <td>100%</td>\n",
       "      <td>NaN</td>\n",
       "      <td>f</td>\n",
       "      <td>https://a0.muscache.com/im/users/164137/profil...</td>\n",
       "      <td>https://a0.muscache.com/im/users/164137/profil...</td>\n",
       "      <td>Loma Portal</td>\n",
       "      <td>3.0</td>\n",
       "      <td>3.0</td>\n",
       "      <td>['email', 'phone', 'reviews', 'kba']</td>\n",
       "      <td>t</td>\n",
       "      <td>t</td>\n",
       "      <td>San Diego, CA, United States</td>\n",
       "      <td>Loma Portal</td>\n",
       "      <td>Roseville</td>\n",
       "      <td>NaN</td>\n",
       "      <td>San Diego</td>\n",
       "      <td>CA</td>\n",
       "      <td>92106</td>\n",
       "      <td>San Diego</td>\n",
       "      <td>San Diego, CA</td>\n",
       "      <td>US</td>\n",
       "      <td>United States</td>\n",
       "      <td>32.74202</td>\n",
       "      <td>-117.21870</td>\n",
       "      <td>...</td>\n",
       "      <td>1.0</td>\n",
       "      <td>Real Bed</td>\n",
       "      <td>{TV,\"Cable TV\",Internet,Wifi,\"Air conditioning...</td>\n",
       "      <td>NaN</td>\n",
       "      <td>$75.00</td>\n",
       "      <td>$310.00</td>\n",
       "      <td>$1,020.00</td>\n",
       "      <td>$100.00</td>\n",
       "      <td>$16.00</td>\n",
       "      <td>1</td>\n",
       "      <td>$10.00</td>\n",
       "      <td>1</td>\n",
       "      <td>21</td>\n",
       "      <td>1</td>\n",
       "      <td>1</td>\n",
       "      <td>21</td>\n",
       "      <td>21</td>\n",
       "      <td>1.0</td>\n",
       "      <td>21.0</td>\n",
       "      <td>5 days ago</td>\n",
       "      <td>t</td>\n",
       "      <td>0</td>\n",
       "      <td>1</td>\n",
       "      <td>31</td>\n",
       "      <td>306</td>\n",
       "      <td>2019-11-21</td>\n",
       "      <td>143</td>\n",
       "      <td>6</td>\n",
       "      <td>2010-09-09</td>\n",
       "      <td>2019-10-20</td>\n",
       "      <td>86.0</td>\n",
       "      <td>9.0</td>\n",
       "      <td>9.0</td>\n",
       "      <td>10.0</td>\n",
       "      <td>10.0</td>\n",
       "      <td>9.0</td>\n",
       "      <td>9.0</td>\n",
       "      <td>f</td>\n",
       "      <td>NaN</td>\n",
       "      <td>{\"SAN DIEGO\",\" SAN DIEGO TOURISM MARKETING DIS...</td>\n",
       "      <td>f</td>\n",
       "      <td>f</td>\n",
       "      <td>moderate</td>\n",
       "      <td>t</td>\n",
       "      <td>t</td>\n",
       "      <td>3</td>\n",
       "      <td>0</td>\n",
       "      <td>3</td>\n",
       "      <td>0</td>\n",
       "      <td>1.28</td>\n",
       "    </tr>\n",
       "    <tr>\n",
       "      <th>4</th>\n",
       "      <td>39516</td>\n",
       "      <td>https://www.airbnb.com/rooms/39516</td>\n",
       "      <td>20191121092222</td>\n",
       "      <td>2019-11-21</td>\n",
       "      <td>Art Studio Retreat/Rustic Cabin</td>\n",
       "      <td>We love having explorers from all over the wor...</td>\n",
       "      <td>Nestled in South/North Park, a gentrified neig...</td>\n",
       "      <td>We love having explorers from all over the wor...</td>\n",
       "      <td>none</td>\n",
       "      <td>We love our eclectic neighborhood, with a smal...</td>\n",
       "      <td>There's no need to miss your exercise plan whi...</td>\n",
       "      <td>If you enjoy a good hearty walk,  (1 mile) you...</td>\n",
       "      <td>Pool opens April, as weather allows Patio by A...</td>\n",
       "      <td>We take the lead from our guests. When our sid...</td>\n",
       "      <td>This is a retreat-like setting and peacefulnes...</td>\n",
       "      <td>NaN</td>\n",
       "      <td>NaN</td>\n",
       "      <td>https://a0.muscache.com/im/pictures/2ee5c482-c...</td>\n",
       "      <td>NaN</td>\n",
       "      <td>169649</td>\n",
       "      <td>https://www.airbnb.com/users/show/169649</td>\n",
       "      <td>Chris  And Jean</td>\n",
       "      <td>2010-07-17</td>\n",
       "      <td>San Diego, California, United States</td>\n",
       "      <td>Jean is a grateful cancer survivor, activist, ...</td>\n",
       "      <td>within an hour</td>\n",
       "      <td>100%</td>\n",
       "      <td>NaN</td>\n",
       "      <td>t</td>\n",
       "      <td>https://a0.muscache.com/im/users/169649/profil...</td>\n",
       "      <td>https://a0.muscache.com/im/users/169649/profil...</td>\n",
       "      <td>North Park</td>\n",
       "      <td>1.0</td>\n",
       "      <td>1.0</td>\n",
       "      <td>['email', 'phone', 'reviews', 'jumio', 'offlin...</td>\n",
       "      <td>t</td>\n",
       "      <td>t</td>\n",
       "      <td>San Diego, CA, United States</td>\n",
       "      <td>North Park</td>\n",
       "      <td>North Hills</td>\n",
       "      <td>NaN</td>\n",
       "      <td>San Diego</td>\n",
       "      <td>CA</td>\n",
       "      <td>92104</td>\n",
       "      <td>San Diego</td>\n",
       "      <td>San Diego, CA</td>\n",
       "      <td>US</td>\n",
       "      <td>United States</td>\n",
       "      <td>32.73188</td>\n",
       "      <td>-117.11918</td>\n",
       "      <td>...</td>\n",
       "      <td>1.0</td>\n",
       "      <td>Real Bed</td>\n",
       "      <td>{Internet,Wifi,Pool,Kitchen,\"Pets live on this...</td>\n",
       "      <td>250.0</td>\n",
       "      <td>$74.00</td>\n",
       "      <td>$450.00</td>\n",
       "      <td>NaN</td>\n",
       "      <td>NaN</td>\n",
       "      <td>$25.00</td>\n",
       "      <td>1</td>\n",
       "      <td>$0.00</td>\n",
       "      <td>3</td>\n",
       "      <td>7</td>\n",
       "      <td>3</td>\n",
       "      <td>3</td>\n",
       "      <td>7</td>\n",
       "      <td>7</td>\n",
       "      <td>3.0</td>\n",
       "      <td>7.0</td>\n",
       "      <td>yesterday</td>\n",
       "      <td>t</td>\n",
       "      <td>16</td>\n",
       "      <td>37</td>\n",
       "      <td>61</td>\n",
       "      <td>319</td>\n",
       "      <td>2019-11-21</td>\n",
       "      <td>384</td>\n",
       "      <td>45</td>\n",
       "      <td>2010-07-20</td>\n",
       "      <td>2019-10-28</td>\n",
       "      <td>98.0</td>\n",
       "      <td>10.0</td>\n",
       "      <td>10.0</td>\n",
       "      <td>10.0</td>\n",
       "      <td>10.0</td>\n",
       "      <td>10.0</td>\n",
       "      <td>10.0</td>\n",
       "      <td>f</td>\n",
       "      <td>NaN</td>\n",
       "      <td>{\"SAN DIEGO\",\" SAN DIEGO TOURISM MARKETING DIS...</td>\n",
       "      <td>f</td>\n",
       "      <td>f</td>\n",
       "      <td>strict_14_with_grace_period</td>\n",
       "      <td>t</td>\n",
       "      <td>f</td>\n",
       "      <td>1</td>\n",
       "      <td>1</td>\n",
       "      <td>0</td>\n",
       "      <td>0</td>\n",
       "      <td>3.38</td>\n",
       "    </tr>\n",
       "  </tbody>\n",
       "</table>\n",
       "<p>5 rows × 106 columns</p>\n",
       "</div>"
      ],
      "text/plain": [
       "      id                         listing_url       scrape_id last_scraped  \\\n",
       "0   5570   https://www.airbnb.com/rooms/5570  20191121092222   2019-11-21   \n",
       "1   8488   https://www.airbnb.com/rooms/8488  20191121092222   2019-11-21   \n",
       "2  29967  https://www.airbnb.com/rooms/29967  20191121092222   2019-11-21   \n",
       "3  38245  https://www.airbnb.com/rooms/38245  20191121092222   2019-11-21   \n",
       "4  39516  https://www.airbnb.com/rooms/39516  20191121092222   2019-11-21   \n",
       "\n",
       "                                  name  \\\n",
       "0        Ocean front condo on the sand   \n",
       "1  Juniper Zen Palace- SD's Best Hood!   \n",
       "2     Great home, 10 min walk to Beach   \n",
       "3       Point Loma/Liberty Station-NTC   \n",
       "4      Art Studio Retreat/Rustic Cabin   \n",
       "\n",
       "                                             summary  \\\n",
       "0  Missionbeachretreat.   Great Ocean Front Condo...   \n",
       "1  Walk every where in San Diegos most charming a...   \n",
       "2  This 2 bedroom, 2 full bathroom home offers al...   \n",
       "3  Stay in a 1928 Spanish Style home.  Den is dow...   \n",
       "4  We love having explorers from all over the wor...   \n",
       "\n",
       "                                               space  \\\n",
       "0  This charming two bedroom beachfront condomini...   \n",
       "1  Private craftsman home in the heart of Histori...   \n",
       "2  This two bedroom (1 CA king bed, 1 queen bed),...   \n",
       "3  Please note:  1928 home; remodeled in 2015. Co...   \n",
       "4  Nestled in South/North Park, a gentrified neig...   \n",
       "\n",
       "                                         description experiences_offered  \\\n",
       "0  Missionbeachretreat.   Great Ocean Front Condo...                none   \n",
       "1  Walk every where in San Diegos most charming a...                none   \n",
       "2  This 2 bedroom, 2 full bathroom home offers al...                none   \n",
       "3  Stay in a 1928 Spanish Style home.  Den is dow...                none   \n",
       "4  We love having explorers from all over the wor...                none   \n",
       "\n",
       "                               neighborhood_overview  \\\n",
       "0  While some may compare San Diego’s Mission Bea...   \n",
       "1  South Park is a charming community and our nei...   \n",
       "2                                                NaN   \n",
       "3  This neighborhood is an expensive, high-end Po...   \n",
       "4  We love our eclectic neighborhood, with a smal...   \n",
       "\n",
       "                                               notes  \\\n",
       "0                                                NaN   \n",
       "1  we have no cable tv. just streaming services. ...   \n",
       "2                                                NaN   \n",
       "3  I have a puppy now:  April 10th.  Lindbergh Fi...   \n",
       "4  There's no need to miss your exercise plan whi...   \n",
       "\n",
       "                                             transit  \\\n",
       "0  Bus #8 goes to La Jolla and Old Town transit c...   \n",
       "1          bus route  to downtown is 1/2 block away!   \n",
       "2                                                NaN   \n",
       "3  Public transit is across the street (100 meter...   \n",
       "4  If you enjoy a good hearty walk,  (1 mile) you...   \n",
       "\n",
       "                                              access  \\\n",
       "0  2 Bedrooms (1 Queen, 2 Twins)  1 Bath Balcony ...   \n",
       "1                                           backyard   \n",
       "2                                                NaN   \n",
       "3  Guests can sit in the dining room to eat or re...   \n",
       "4  Pool opens April, as weather allows Patio by A...   \n",
       "\n",
       "                                         interaction  \\\n",
       "0  Once reservation is made I will call guest.  I...   \n",
       "1                                                NaN   \n",
       "2                                                NaN   \n",
       "3  I can meet and greet you; once in a while; ano...   \n",
       "4  We take the lead from our guests. When our sid...   \n",
       "\n",
       "                                         house_rules  thumbnail_url  \\\n",
       "0  Min 4 nights winter.  7 nights Spring Break, l...            NaN   \n",
       "1  • Check-in time is 3PM. We are fun, easygoing ...            NaN   \n",
       "2  This is not a party house. This is a quiet fam...            NaN   \n",
       "3  No drugs.      light alcohol is fine.    No sm...            NaN   \n",
       "4  This is a retreat-like setting and peacefulnes...            NaN   \n",
       "\n",
       "   medium_url                                        picture_url  \\\n",
       "0         NaN  https://a0.muscache.com/im/pictures/d3342744-1...   \n",
       "1         NaN  https://a0.muscache.com/im/pictures/b1f12e62-1...   \n",
       "2         NaN  https://a0.muscache.com/im/pictures/76103867/c...   \n",
       "3         NaN  https://a0.muscache.com/im/pictures/f3073822-e...   \n",
       "4         NaN  https://a0.muscache.com/im/pictures/2ee5c482-c...   \n",
       "\n",
       "   xl_picture_url  host_id                                  host_url  \\\n",
       "0             NaN     8435    https://www.airbnb.com/users/show/8435   \n",
       "1             NaN    25186   https://www.airbnb.com/users/show/25186   \n",
       "2             NaN   129123  https://www.airbnb.com/users/show/129123   \n",
       "3             NaN   164137  https://www.airbnb.com/users/show/164137   \n",
       "4             NaN   169649  https://www.airbnb.com/users/show/169649   \n",
       "\n",
       "         host_name  host_since                           host_location  \\\n",
       "0      Jef Karchin  2009-02-23    San Diego, California, United States   \n",
       "1           Helene  2009-07-10  Los Angeles, California, United States   \n",
       "2          Michael  2010-05-21    San Diego, California, United States   \n",
       "3          Melinda  2010-07-12    San Diego, California, United States   \n",
       "4  Chris  And Jean  2010-07-17    San Diego, California, United States   \n",
       "\n",
       "                                          host_about  host_response_time  \\\n",
       "0  Real estate broker,  Jef  Karchin real estate ...  within a few hours   \n",
       "1  HI! I am a photographer on tour. I have severa...      within an hour   \n",
       "2  We love living part of the year in San Diego. ...      within an hour   \n",
       "3  Hello Future and Returning Friends!   It is Sp...      within an hour   \n",
       "4  Jean is a grateful cancer survivor, activist, ...      within an hour   \n",
       "\n",
       "  host_response_rate  host_acceptance_rate host_is_superhost  \\\n",
       "0               100%                   NaN                 f   \n",
       "1               100%                   NaN                 f   \n",
       "2               100%                   NaN                 f   \n",
       "3               100%                   NaN                 f   \n",
       "4               100%                   NaN                 t   \n",
       "\n",
       "                                  host_thumbnail_url  \\\n",
       "0  https://a0.muscache.com/im/users/8435/profile_...   \n",
       "1  https://a0.muscache.com/im/pictures/user/b83cc...   \n",
       "2  https://a0.muscache.com/im/users/129123/profil...   \n",
       "3  https://a0.muscache.com/im/users/164137/profil...   \n",
       "4  https://a0.muscache.com/im/users/169649/profil...   \n",
       "\n",
       "                                    host_picture_url host_neighbourhood  \\\n",
       "0  https://a0.muscache.com/im/users/8435/profile_...      Mission Beach   \n",
       "1  https://a0.muscache.com/im/pictures/user/b83cc...         Burlingame   \n",
       "2  https://a0.muscache.com/im/users/129123/profil...      Pacific Beach   \n",
       "3  https://a0.muscache.com/im/users/164137/profil...        Loma Portal   \n",
       "4  https://a0.muscache.com/im/users/169649/profil...         North Park   \n",
       "\n",
       "   host_listings_count  host_total_listings_count  \\\n",
       "0                  3.0                        3.0   \n",
       "1                  4.0                        4.0   \n",
       "2                  6.0                        6.0   \n",
       "3                  3.0                        3.0   \n",
       "4                  1.0                        1.0   \n",
       "\n",
       "                                  host_verifications host_has_profile_pic  \\\n",
       "0                          ['email', 'phone', 'kba']                    t   \n",
       "1  ['email', 'phone', 'facebook', 'reviews', 'off...                    t   \n",
       "2  ['email', 'phone', 'reviews', 'kba', 'work_ema...                    t   \n",
       "3               ['email', 'phone', 'reviews', 'kba']                    t   \n",
       "4  ['email', 'phone', 'reviews', 'jumio', 'offlin...                    t   \n",
       "\n",
       "  host_identity_verified                        street  neighbourhood  \\\n",
       "0                      t  San Diego, CA, United States  Mission Beach   \n",
       "1                      t  San Diego, CA, United States     South Park   \n",
       "2                      t  San Diego, CA, United States  Pacific Beach   \n",
       "3                      t  San Diego, CA, United States    Loma Portal   \n",
       "4                      t  San Diego, CA, United States     North Park   \n",
       "\n",
       "  neighbourhood_cleansed  neighbourhood_group_cleansed       city state  \\\n",
       "0            Mission Bay                           NaN  San Diego    CA   \n",
       "1             South Park                           NaN  San Diego    CA   \n",
       "2          Pacific Beach                           NaN  San Diego    CA   \n",
       "3              Roseville                           NaN  San Diego    CA   \n",
       "4            North Hills                           NaN  San Diego    CA   \n",
       "\n",
       "  zipcode     market smart_location country_code        country  latitude  \\\n",
       "0   92109  San Diego  San Diego, CA           US  United States  32.78430   \n",
       "1   92104  San Diego  San Diego, CA           US  United States  32.72839   \n",
       "2   92109  San Diego  San Diego, CA           US  United States  32.80724   \n",
       "3   92106  San Diego  San Diego, CA           US  United States  32.74202   \n",
       "4   92104  San Diego  San Diego, CA           US  United States  32.73188   \n",
       "\n",
       "   longitude  ... beds  bed_type  \\\n",
       "0 -117.25258  ...  4.0  Real Bed   \n",
       "1 -117.12824  ...  3.0  Real Bed   \n",
       "2 -117.25630  ...  3.0  Real Bed   \n",
       "3 -117.21870  ...  1.0  Real Bed   \n",
       "4 -117.11918  ...  1.0  Real Bed   \n",
       "\n",
       "                                           amenities  square_feet      price  \\\n",
       "0  {TV,\"Cable TV\",Internet,Wifi,Kitchen,\"Free par...        850.0  $2,050.00   \n",
       "1  {TV,Internet,Wifi,Kitchen,\"Free parking on pre...          NaN    $225.00   \n",
       "2  {TV,\"Cable TV\",Internet,Wifi,Kitchen,\"Free par...          NaN    $225.00   \n",
       "3  {TV,\"Cable TV\",Internet,Wifi,\"Air conditioning...          NaN     $75.00   \n",
       "4  {Internet,Wifi,Pool,Kitchen,\"Pets live on this...        250.0     $74.00   \n",
       "\n",
       "   weekly_price  monthly_price security_deposit cleaning_fee  guests_included  \\\n",
       "0           NaN            NaN          $500.00      $150.00                1   \n",
       "1           NaN            NaN          $300.00      $175.00                4   \n",
       "2           NaN      $2,900.00          $250.00       $80.00                6   \n",
       "3       $310.00      $1,020.00          $100.00       $16.00                1   \n",
       "4       $450.00            NaN              NaN       $25.00                1   \n",
       "\n",
       "  extra_people minimum_nights maximum_nights minimum_minimum_nights  \\\n",
       "0        $0.00              3            365                      3   \n",
       "1       $50.00              3           1125                      3   \n",
       "2       $15.00              4            365                      4   \n",
       "3       $10.00              1             21                      1   \n",
       "4        $0.00              3              7                      3   \n",
       "\n",
       "  maximum_minimum_nights  minimum_maximum_nights maximum_maximum_nights  \\\n",
       "0                      3                     365                    365   \n",
       "1                      3                    1125                   1125   \n",
       "2                      4                     365                    365   \n",
       "3                      1                      21                     21   \n",
       "4                      3                       7                      7   \n",
       "\n",
       "   minimum_nights_avg_ntm  maximum_nights_avg_ntm  calendar_updated  \\\n",
       "0                     3.0                   365.0      2 months ago   \n",
       "1                     3.0                  1125.0       5 weeks ago   \n",
       "2                     4.0                   365.0      3 months ago   \n",
       "3                     1.0                    21.0        5 days ago   \n",
       "4                     3.0                     7.0         yesterday   \n",
       "\n",
       "   has_availability  availability_30  availability_60  availability_90  \\\n",
       "0                 t               12               20               31   \n",
       "1                 t                6               20               42   \n",
       "2                 t                0                0                0   \n",
       "3                 t                0                1               31   \n",
       "4                 t               16               37               61   \n",
       "\n",
       "   availability_365 calendar_last_scraped number_of_reviews  \\\n",
       "0               176            2019-11-21                 0   \n",
       "1               218            2019-11-21                40   \n",
       "2               234            2019-11-21                60   \n",
       "3               306            2019-11-21               143   \n",
       "4               319            2019-11-21               384   \n",
       "\n",
       "   number_of_reviews_ltm  first_review  last_review  review_scores_rating  \\\n",
       "0                      0           NaN          NaN                   NaN   \n",
       "1                      0    2010-10-13   2016-03-24                  97.0   \n",
       "2                      0    2010-07-09   2018-08-09                  98.0   \n",
       "3                      6    2010-09-09   2019-10-20                  86.0   \n",
       "4                     45    2010-07-20   2019-10-28                  98.0   \n",
       "\n",
       "  review_scores_accuracy  review_scores_cleanliness  review_scores_checkin  \\\n",
       "0                    NaN                        NaN                    NaN   \n",
       "1                    9.0                        9.0                   10.0   \n",
       "2                   10.0                       10.0                   10.0   \n",
       "3                    9.0                        9.0                   10.0   \n",
       "4                   10.0                       10.0                   10.0   \n",
       "\n",
       "  review_scores_communication review_scores_location  review_scores_value  \\\n",
       "0                         NaN                    NaN                  NaN   \n",
       "1                        10.0                   10.0                  9.0   \n",
       "2                        10.0                   10.0                 10.0   \n",
       "3                        10.0                    9.0                  9.0   \n",
       "4                        10.0                   10.0                 10.0   \n",
       "\n",
       "   requires_license  license  \\\n",
       "0                 f      NaN   \n",
       "1                 f      NaN   \n",
       "2                 f      NaN   \n",
       "3                 f      NaN   \n",
       "4                 f      NaN   \n",
       "\n",
       "                                  jurisdiction_names  instant_bookable  \\\n",
       "0  {\"SAN DIEGO\",\" SAN DIEGO TOURISM MARKETING DIS...                 f   \n",
       "1  {\"SAN DIEGO\",\" SAN DIEGO TOURISM MARKETING DIS...                 f   \n",
       "2  {\"SAN DIEGO\",\" SAN DIEGO TOURISM MARKETING DIS...                 f   \n",
       "3  {\"SAN DIEGO\",\" SAN DIEGO TOURISM MARKETING DIS...                 f   \n",
       "4  {\"SAN DIEGO\",\" SAN DIEGO TOURISM MARKETING DIS...                 f   \n",
       "\n",
       "   is_business_travel_ready          cancellation_policy  \\\n",
       "0                         f  strict_14_with_grace_period   \n",
       "1                         f  strict_14_with_grace_period   \n",
       "2                         f                     moderate   \n",
       "3                         f                     moderate   \n",
       "4                         f  strict_14_with_grace_period   \n",
       "\n",
       "  require_guest_profile_picture require_guest_phone_verification  \\\n",
       "0                             f                                f   \n",
       "1                             t                                t   \n",
       "2                             f                                f   \n",
       "3                             t                                t   \n",
       "4                             t                                f   \n",
       "\n",
       "  calculated_host_listings_count calculated_host_listings_count_entire_homes  \\\n",
       "0                              2                                           2   \n",
       "1                              2                                           2   \n",
       "2                              5                                           5   \n",
       "3                              3                                           0   \n",
       "4                              1                                           1   \n",
       "\n",
       "  calculated_host_listings_count_private_rooms  \\\n",
       "0                                            0   \n",
       "1                                            0   \n",
       "2                                            0   \n",
       "3                                            3   \n",
       "4                                            0   \n",
       "\n",
       "  calculated_host_listings_count_shared_rooms reviews_per_month  \n",
       "0                                           0               NaN  \n",
       "1                                           0              0.36  \n",
       "2                                           0              0.53  \n",
       "3                                           0              1.28  \n",
       "4                                           0              3.38  \n",
       "\n",
       "[5 rows x 106 columns]"
      ]
     },
     "execution_count": 3,
     "metadata": {},
     "output_type": "execute_result"
    }
   ],
   "source": [
    "df.head()"
   ]
  },
  {
   "cell_type": "code",
   "execution_count": 4,
   "metadata": {},
   "outputs": [
    {
     "data": {
      "text/plain": [
       "(13574, 106)"
      ]
     },
     "execution_count": 4,
     "metadata": {},
     "output_type": "execute_result"
    }
   ],
   "source": [
    "#Looking at the rows and colums in the dataset respectively\n",
    "df.shape"
   ]
  },
  {
   "cell_type": "code",
   "execution_count": 5,
   "metadata": {},
   "outputs": [
    {
     "data": {
      "text/plain": [
       "0"
      ]
     },
     "execution_count": 5,
     "metadata": {},
     "output_type": "execute_result"
    }
   ],
   "source": [
    "#Check for duplicate terms\n",
    "df.duplicated().sum()\n",
    "df.drop_duplicates(inplace=True)"
   ]
  },
  {
   "cell_type": "code",
   "execution_count": 6,
   "metadata": {},
   "outputs": [
    {
     "data": {
      "text/plain": [
       "id                                                 0\n",
       "listing_url                                        0\n",
       "scrape_id                                          0\n",
       "last_scraped                                       0\n",
       "name                                               0\n",
       "                                                ... \n",
       "calculated_host_listings_count                     0\n",
       "calculated_host_listings_count_entire_homes        0\n",
       "calculated_host_listings_count_private_rooms       0\n",
       "calculated_host_listings_count_shared_rooms        0\n",
       "reviews_per_month                               2178\n",
       "Length: 106, dtype: int64"
      ]
     },
     "execution_count": 6,
     "metadata": {},
     "output_type": "execute_result"
    }
   ],
   "source": [
    "df.isnull().sum()"
   ]
  },
  {
   "cell_type": "code",
   "execution_count": 7,
   "metadata": {},
   "outputs": [
    {
     "data": {
      "text/html": [
       "<div>\n",
       "<style scoped>\n",
       "    .dataframe tbody tr th:only-of-type {\n",
       "        vertical-align: middle;\n",
       "    }\n",
       "\n",
       "    .dataframe tbody tr th {\n",
       "        vertical-align: top;\n",
       "    }\n",
       "\n",
       "    .dataframe thead th {\n",
       "        text-align: right;\n",
       "    }\n",
       "</style>\n",
       "<table border=\"1\" class=\"dataframe\">\n",
       "  <thead>\n",
       "    <tr style=\"text-align: right;\">\n",
       "      <th></th>\n",
       "      <th>id</th>\n",
       "      <th>listing_url</th>\n",
       "      <th>scrape_id</th>\n",
       "      <th>last_scraped</th>\n",
       "      <th>name</th>\n",
       "      <th>summary</th>\n",
       "      <th>space</th>\n",
       "      <th>description</th>\n",
       "      <th>experiences_offered</th>\n",
       "      <th>neighborhood_overview</th>\n",
       "      <th>notes</th>\n",
       "      <th>transit</th>\n",
       "      <th>access</th>\n",
       "      <th>interaction</th>\n",
       "      <th>house_rules</th>\n",
       "      <th>thumbnail_url</th>\n",
       "      <th>medium_url</th>\n",
       "      <th>picture_url</th>\n",
       "      <th>xl_picture_url</th>\n",
       "      <th>host_id</th>\n",
       "      <th>host_url</th>\n",
       "      <th>host_name</th>\n",
       "      <th>host_since</th>\n",
       "      <th>host_location</th>\n",
       "      <th>host_about</th>\n",
       "      <th>host_response_time</th>\n",
       "      <th>host_response_rate</th>\n",
       "      <th>host_acceptance_rate</th>\n",
       "      <th>host_is_superhost</th>\n",
       "      <th>host_thumbnail_url</th>\n",
       "      <th>host_picture_url</th>\n",
       "      <th>host_neighbourhood</th>\n",
       "      <th>host_listings_count</th>\n",
       "      <th>host_total_listings_count</th>\n",
       "      <th>host_verifications</th>\n",
       "      <th>host_has_profile_pic</th>\n",
       "      <th>host_identity_verified</th>\n",
       "      <th>street</th>\n",
       "      <th>neighbourhood</th>\n",
       "      <th>neighbourhood_cleansed</th>\n",
       "      <th>neighbourhood_group_cleansed</th>\n",
       "      <th>city</th>\n",
       "      <th>state</th>\n",
       "      <th>zipcode</th>\n",
       "      <th>market</th>\n",
       "      <th>smart_location</th>\n",
       "      <th>country_code</th>\n",
       "      <th>country</th>\n",
       "      <th>latitude</th>\n",
       "      <th>longitude</th>\n",
       "      <th>...</th>\n",
       "      <th>beds</th>\n",
       "      <th>bed_type</th>\n",
       "      <th>amenities</th>\n",
       "      <th>square_feet</th>\n",
       "      <th>price</th>\n",
       "      <th>weekly_price</th>\n",
       "      <th>monthly_price</th>\n",
       "      <th>security_deposit</th>\n",
       "      <th>cleaning_fee</th>\n",
       "      <th>guests_included</th>\n",
       "      <th>extra_people</th>\n",
       "      <th>minimum_nights</th>\n",
       "      <th>maximum_nights</th>\n",
       "      <th>minimum_minimum_nights</th>\n",
       "      <th>maximum_minimum_nights</th>\n",
       "      <th>minimum_maximum_nights</th>\n",
       "      <th>maximum_maximum_nights</th>\n",
       "      <th>minimum_nights_avg_ntm</th>\n",
       "      <th>maximum_nights_avg_ntm</th>\n",
       "      <th>calendar_updated</th>\n",
       "      <th>has_availability</th>\n",
       "      <th>availability_30</th>\n",
       "      <th>availability_60</th>\n",
       "      <th>availability_90</th>\n",
       "      <th>availability_365</th>\n",
       "      <th>calendar_last_scraped</th>\n",
       "      <th>number_of_reviews</th>\n",
       "      <th>number_of_reviews_ltm</th>\n",
       "      <th>first_review</th>\n",
       "      <th>last_review</th>\n",
       "      <th>review_scores_rating</th>\n",
       "      <th>review_scores_accuracy</th>\n",
       "      <th>review_scores_cleanliness</th>\n",
       "      <th>review_scores_checkin</th>\n",
       "      <th>review_scores_communication</th>\n",
       "      <th>review_scores_location</th>\n",
       "      <th>review_scores_value</th>\n",
       "      <th>requires_license</th>\n",
       "      <th>license</th>\n",
       "      <th>jurisdiction_names</th>\n",
       "      <th>instant_bookable</th>\n",
       "      <th>is_business_travel_ready</th>\n",
       "      <th>cancellation_policy</th>\n",
       "      <th>require_guest_profile_picture</th>\n",
       "      <th>require_guest_phone_verification</th>\n",
       "      <th>calculated_host_listings_count</th>\n",
       "      <th>calculated_host_listings_count_entire_homes</th>\n",
       "      <th>calculated_host_listings_count_private_rooms</th>\n",
       "      <th>calculated_host_listings_count_shared_rooms</th>\n",
       "      <th>reviews_per_month</th>\n",
       "    </tr>\n",
       "  </thead>\n",
       "  <tbody>\n",
       "    <tr>\n",
       "      <th>0</th>\n",
       "      <td>5570</td>\n",
       "      <td>https://www.airbnb.com/rooms/5570</td>\n",
       "      <td>20191121092222</td>\n",
       "      <td>2019-11-21</td>\n",
       "      <td>Ocean front condo on the sand</td>\n",
       "      <td>Missionbeachretreat.   Great Ocean Front Condo...</td>\n",
       "      <td>This charming two bedroom beachfront condomini...</td>\n",
       "      <td>Missionbeachretreat.   Great Ocean Front Condo...</td>\n",
       "      <td>none</td>\n",
       "      <td>While some may compare San Diego’s Mission Bea...</td>\n",
       "      <td>NaN</td>\n",
       "      <td>Bus #8 goes to La Jolla and Old Town transit c...</td>\n",
       "      <td>2 Bedrooms (1 Queen, 2 Twins)  1 Bath Balcony ...</td>\n",
       "      <td>Once reservation is made I will call guest.  I...</td>\n",
       "      <td>Min 4 nights winter.  7 nights Spring Break, l...</td>\n",
       "      <td>NaN</td>\n",
       "      <td>NaN</td>\n",
       "      <td>https://a0.muscache.com/im/pictures/d3342744-1...</td>\n",
       "      <td>NaN</td>\n",
       "      <td>8435</td>\n",
       "      <td>https://www.airbnb.com/users/show/8435</td>\n",
       "      <td>Jef Karchin</td>\n",
       "      <td>2009-02-23</td>\n",
       "      <td>San Diego, California, United States</td>\n",
       "      <td>Real estate broker,  Jef  Karchin real estate ...</td>\n",
       "      <td>within a few hours</td>\n",
       "      <td>100%</td>\n",
       "      <td>NaN</td>\n",
       "      <td>f</td>\n",
       "      <td>https://a0.muscache.com/im/users/8435/profile_...</td>\n",
       "      <td>https://a0.muscache.com/im/users/8435/profile_...</td>\n",
       "      <td>Mission Beach</td>\n",
       "      <td>3.0</td>\n",
       "      <td>3.0</td>\n",
       "      <td>['email', 'phone', 'kba']</td>\n",
       "      <td>t</td>\n",
       "      <td>t</td>\n",
       "      <td>San Diego, CA, United States</td>\n",
       "      <td>Mission Beach</td>\n",
       "      <td>Mission Bay</td>\n",
       "      <td>NaN</td>\n",
       "      <td>San Diego</td>\n",
       "      <td>CA</td>\n",
       "      <td>92109</td>\n",
       "      <td>San Diego</td>\n",
       "      <td>San Diego, CA</td>\n",
       "      <td>US</td>\n",
       "      <td>United States</td>\n",
       "      <td>32.78430</td>\n",
       "      <td>-117.25258</td>\n",
       "      <td>...</td>\n",
       "      <td>4.0</td>\n",
       "      <td>Real Bed</td>\n",
       "      <td>{TV,\"Cable TV\",Internet,Wifi,Kitchen,\"Free par...</td>\n",
       "      <td>850.0</td>\n",
       "      <td>$2,050.00</td>\n",
       "      <td>NaN</td>\n",
       "      <td>NaN</td>\n",
       "      <td>$500.00</td>\n",
       "      <td>$150.00</td>\n",
       "      <td>1</td>\n",
       "      <td>$0.00</td>\n",
       "      <td>3</td>\n",
       "      <td>365</td>\n",
       "      <td>3</td>\n",
       "      <td>3</td>\n",
       "      <td>365</td>\n",
       "      <td>365</td>\n",
       "      <td>3.0</td>\n",
       "      <td>365.0</td>\n",
       "      <td>2 months ago</td>\n",
       "      <td>t</td>\n",
       "      <td>12</td>\n",
       "      <td>20</td>\n",
       "      <td>31</td>\n",
       "      <td>176</td>\n",
       "      <td>2019-11-21</td>\n",
       "      <td>0</td>\n",
       "      <td>0</td>\n",
       "      <td>NaN</td>\n",
       "      <td>NaN</td>\n",
       "      <td>NaN</td>\n",
       "      <td>NaN</td>\n",
       "      <td>NaN</td>\n",
       "      <td>NaN</td>\n",
       "      <td>NaN</td>\n",
       "      <td>NaN</td>\n",
       "      <td>NaN</td>\n",
       "      <td>f</td>\n",
       "      <td>NaN</td>\n",
       "      <td>{\"SAN DIEGO\",\" SAN DIEGO TOURISM MARKETING DIS...</td>\n",
       "      <td>f</td>\n",
       "      <td>f</td>\n",
       "      <td>strict_14_with_grace_period</td>\n",
       "      <td>f</td>\n",
       "      <td>f</td>\n",
       "      <td>2</td>\n",
       "      <td>2</td>\n",
       "      <td>0</td>\n",
       "      <td>0</td>\n",
       "      <td>NaN</td>\n",
       "    </tr>\n",
       "    <tr>\n",
       "      <th>1</th>\n",
       "      <td>8488</td>\n",
       "      <td>https://www.airbnb.com/rooms/8488</td>\n",
       "      <td>20191121092222</td>\n",
       "      <td>2019-11-21</td>\n",
       "      <td>Juniper Zen Palace- SD's Best Hood!</td>\n",
       "      <td>Walk every where in San Diegos most charming a...</td>\n",
       "      <td>Private craftsman home in the heart of Histori...</td>\n",
       "      <td>Walk every where in San Diegos most charming a...</td>\n",
       "      <td>none</td>\n",
       "      <td>South Park is a charming community and our nei...</td>\n",
       "      <td>we have no cable tv. just streaming services. ...</td>\n",
       "      <td>bus route  to downtown is 1/2 block away!</td>\n",
       "      <td>backyard</td>\n",
       "      <td>NaN</td>\n",
       "      <td>• Check-in time is 3PM. We are fun, easygoing ...</td>\n",
       "      <td>NaN</td>\n",
       "      <td>NaN</td>\n",
       "      <td>https://a0.muscache.com/im/pictures/b1f12e62-1...</td>\n",
       "      <td>NaN</td>\n",
       "      <td>25186</td>\n",
       "      <td>https://www.airbnb.com/users/show/25186</td>\n",
       "      <td>Helene</td>\n",
       "      <td>2009-07-10</td>\n",
       "      <td>Los Angeles, California, United States</td>\n",
       "      <td>HI! I am a photographer on tour. I have severa...</td>\n",
       "      <td>within an hour</td>\n",
       "      <td>100%</td>\n",
       "      <td>NaN</td>\n",
       "      <td>f</td>\n",
       "      <td>https://a0.muscache.com/im/pictures/user/b83cc...</td>\n",
       "      <td>https://a0.muscache.com/im/pictures/user/b83cc...</td>\n",
       "      <td>Burlingame</td>\n",
       "      <td>4.0</td>\n",
       "      <td>4.0</td>\n",
       "      <td>['email', 'phone', 'facebook', 'reviews', 'off...</td>\n",
       "      <td>t</td>\n",
       "      <td>t</td>\n",
       "      <td>San Diego, CA, United States</td>\n",
       "      <td>South Park</td>\n",
       "      <td>South Park</td>\n",
       "      <td>NaN</td>\n",
       "      <td>San Diego</td>\n",
       "      <td>CA</td>\n",
       "      <td>92104</td>\n",
       "      <td>San Diego</td>\n",
       "      <td>San Diego, CA</td>\n",
       "      <td>US</td>\n",
       "      <td>United States</td>\n",
       "      <td>32.72839</td>\n",
       "      <td>-117.12824</td>\n",
       "      <td>...</td>\n",
       "      <td>3.0</td>\n",
       "      <td>Real Bed</td>\n",
       "      <td>{TV,Internet,Wifi,Kitchen,\"Free parking on pre...</td>\n",
       "      <td>NaN</td>\n",
       "      <td>$225.00</td>\n",
       "      <td>NaN</td>\n",
       "      <td>NaN</td>\n",
       "      <td>$300.00</td>\n",
       "      <td>$175.00</td>\n",
       "      <td>4</td>\n",
       "      <td>$50.00</td>\n",
       "      <td>3</td>\n",
       "      <td>1125</td>\n",
       "      <td>3</td>\n",
       "      <td>3</td>\n",
       "      <td>1125</td>\n",
       "      <td>1125</td>\n",
       "      <td>3.0</td>\n",
       "      <td>1125.0</td>\n",
       "      <td>5 weeks ago</td>\n",
       "      <td>t</td>\n",
       "      <td>6</td>\n",
       "      <td>20</td>\n",
       "      <td>42</td>\n",
       "      <td>218</td>\n",
       "      <td>2019-11-21</td>\n",
       "      <td>40</td>\n",
       "      <td>0</td>\n",
       "      <td>2010-10-13</td>\n",
       "      <td>2016-03-24</td>\n",
       "      <td>97.0</td>\n",
       "      <td>9.0</td>\n",
       "      <td>9.0</td>\n",
       "      <td>10.0</td>\n",
       "      <td>10.0</td>\n",
       "      <td>10.0</td>\n",
       "      <td>9.0</td>\n",
       "      <td>f</td>\n",
       "      <td>NaN</td>\n",
       "      <td>{\"SAN DIEGO\",\" SAN DIEGO TOURISM MARKETING DIS...</td>\n",
       "      <td>f</td>\n",
       "      <td>f</td>\n",
       "      <td>strict_14_with_grace_period</td>\n",
       "      <td>t</td>\n",
       "      <td>t</td>\n",
       "      <td>2</td>\n",
       "      <td>2</td>\n",
       "      <td>0</td>\n",
       "      <td>0</td>\n",
       "      <td>0.36</td>\n",
       "    </tr>\n",
       "    <tr>\n",
       "      <th>2</th>\n",
       "      <td>29967</td>\n",
       "      <td>https://www.airbnb.com/rooms/29967</td>\n",
       "      <td>20191121092222</td>\n",
       "      <td>2019-11-21</td>\n",
       "      <td>Great home, 10 min walk to Beach</td>\n",
       "      <td>This 2 bedroom, 2 full bathroom home offers al...</td>\n",
       "      <td>This two bedroom (1 CA king bed, 1 queen bed),...</td>\n",
       "      <td>This 2 bedroom, 2 full bathroom home offers al...</td>\n",
       "      <td>none</td>\n",
       "      <td>NaN</td>\n",
       "      <td>NaN</td>\n",
       "      <td>NaN</td>\n",
       "      <td>NaN</td>\n",
       "      <td>NaN</td>\n",
       "      <td>This is not a party house. This is a quiet fam...</td>\n",
       "      <td>NaN</td>\n",
       "      <td>NaN</td>\n",
       "      <td>https://a0.muscache.com/im/pictures/76103867/c...</td>\n",
       "      <td>NaN</td>\n",
       "      <td>129123</td>\n",
       "      <td>https://www.airbnb.com/users/show/129123</td>\n",
       "      <td>Michael</td>\n",
       "      <td>2010-05-21</td>\n",
       "      <td>San Diego, California, United States</td>\n",
       "      <td>We love living part of the year in San Diego. ...</td>\n",
       "      <td>within an hour</td>\n",
       "      <td>100%</td>\n",
       "      <td>NaN</td>\n",
       "      <td>f</td>\n",
       "      <td>https://a0.muscache.com/im/users/129123/profil...</td>\n",
       "      <td>https://a0.muscache.com/im/users/129123/profil...</td>\n",
       "      <td>Pacific Beach</td>\n",
       "      <td>6.0</td>\n",
       "      <td>6.0</td>\n",
       "      <td>['email', 'phone', 'reviews', 'kba', 'work_ema...</td>\n",
       "      <td>t</td>\n",
       "      <td>t</td>\n",
       "      <td>San Diego, CA, United States</td>\n",
       "      <td>Pacific Beach</td>\n",
       "      <td>Pacific Beach</td>\n",
       "      <td>NaN</td>\n",
       "      <td>San Diego</td>\n",
       "      <td>CA</td>\n",
       "      <td>92109</td>\n",
       "      <td>San Diego</td>\n",
       "      <td>San Diego, CA</td>\n",
       "      <td>US</td>\n",
       "      <td>United States</td>\n",
       "      <td>32.80724</td>\n",
       "      <td>-117.25630</td>\n",
       "      <td>...</td>\n",
       "      <td>3.0</td>\n",
       "      <td>Real Bed</td>\n",
       "      <td>{TV,\"Cable TV\",Internet,Wifi,Kitchen,\"Free par...</td>\n",
       "      <td>NaN</td>\n",
       "      <td>$225.00</td>\n",
       "      <td>NaN</td>\n",
       "      <td>$2,900.00</td>\n",
       "      <td>$250.00</td>\n",
       "      <td>$80.00</td>\n",
       "      <td>6</td>\n",
       "      <td>$15.00</td>\n",
       "      <td>4</td>\n",
       "      <td>365</td>\n",
       "      <td>4</td>\n",
       "      <td>4</td>\n",
       "      <td>365</td>\n",
       "      <td>365</td>\n",
       "      <td>4.0</td>\n",
       "      <td>365.0</td>\n",
       "      <td>3 months ago</td>\n",
       "      <td>t</td>\n",
       "      <td>0</td>\n",
       "      <td>0</td>\n",
       "      <td>0</td>\n",
       "      <td>234</td>\n",
       "      <td>2019-11-21</td>\n",
       "      <td>60</td>\n",
       "      <td>0</td>\n",
       "      <td>2010-07-09</td>\n",
       "      <td>2018-08-09</td>\n",
       "      <td>98.0</td>\n",
       "      <td>10.0</td>\n",
       "      <td>10.0</td>\n",
       "      <td>10.0</td>\n",
       "      <td>10.0</td>\n",
       "      <td>10.0</td>\n",
       "      <td>10.0</td>\n",
       "      <td>f</td>\n",
       "      <td>NaN</td>\n",
       "      <td>{\"SAN DIEGO\",\" SAN DIEGO TOURISM MARKETING DIS...</td>\n",
       "      <td>f</td>\n",
       "      <td>f</td>\n",
       "      <td>moderate</td>\n",
       "      <td>f</td>\n",
       "      <td>f</td>\n",
       "      <td>5</td>\n",
       "      <td>5</td>\n",
       "      <td>0</td>\n",
       "      <td>0</td>\n",
       "      <td>0.53</td>\n",
       "    </tr>\n",
       "    <tr>\n",
       "      <th>3</th>\n",
       "      <td>38245</td>\n",
       "      <td>https://www.airbnb.com/rooms/38245</td>\n",
       "      <td>20191121092222</td>\n",
       "      <td>2019-11-21</td>\n",
       "      <td>Point Loma/Liberty Station-NTC</td>\n",
       "      <td>Stay in a 1928 Spanish Style home.  Den is dow...</td>\n",
       "      <td>Please note:  1928 home; remodeled in 2015. Co...</td>\n",
       "      <td>Stay in a 1928 Spanish Style home.  Den is dow...</td>\n",
       "      <td>none</td>\n",
       "      <td>This neighborhood is an expensive, high-end Po...</td>\n",
       "      <td>I have a puppy now:  April 10th.  Lindbergh Fi...</td>\n",
       "      <td>Public transit is across the street (100 meter...</td>\n",
       "      <td>Guests can sit in the dining room to eat or re...</td>\n",
       "      <td>I can meet and greet you; once in a while; ano...</td>\n",
       "      <td>No drugs.      light alcohol is fine.    No sm...</td>\n",
       "      <td>NaN</td>\n",
       "      <td>NaN</td>\n",
       "      <td>https://a0.muscache.com/im/pictures/f3073822-e...</td>\n",
       "      <td>NaN</td>\n",
       "      <td>164137</td>\n",
       "      <td>https://www.airbnb.com/users/show/164137</td>\n",
       "      <td>Melinda</td>\n",
       "      <td>2010-07-12</td>\n",
       "      <td>San Diego, California, United States</td>\n",
       "      <td>Hello Future and Returning Friends!   It is Sp...</td>\n",
       "      <td>within an hour</td>\n",
       "      <td>100%</td>\n",
       "      <td>NaN</td>\n",
       "      <td>f</td>\n",
       "      <td>https://a0.muscache.com/im/users/164137/profil...</td>\n",
       "      <td>https://a0.muscache.com/im/users/164137/profil...</td>\n",
       "      <td>Loma Portal</td>\n",
       "      <td>3.0</td>\n",
       "      <td>3.0</td>\n",
       "      <td>['email', 'phone', 'reviews', 'kba']</td>\n",
       "      <td>t</td>\n",
       "      <td>t</td>\n",
       "      <td>San Diego, CA, United States</td>\n",
       "      <td>Loma Portal</td>\n",
       "      <td>Roseville</td>\n",
       "      <td>NaN</td>\n",
       "      <td>San Diego</td>\n",
       "      <td>CA</td>\n",
       "      <td>92106</td>\n",
       "      <td>San Diego</td>\n",
       "      <td>San Diego, CA</td>\n",
       "      <td>US</td>\n",
       "      <td>United States</td>\n",
       "      <td>32.74202</td>\n",
       "      <td>-117.21870</td>\n",
       "      <td>...</td>\n",
       "      <td>1.0</td>\n",
       "      <td>Real Bed</td>\n",
       "      <td>{TV,\"Cable TV\",Internet,Wifi,\"Air conditioning...</td>\n",
       "      <td>NaN</td>\n",
       "      <td>$75.00</td>\n",
       "      <td>$310.00</td>\n",
       "      <td>$1,020.00</td>\n",
       "      <td>$100.00</td>\n",
       "      <td>$16.00</td>\n",
       "      <td>1</td>\n",
       "      <td>$10.00</td>\n",
       "      <td>1</td>\n",
       "      <td>21</td>\n",
       "      <td>1</td>\n",
       "      <td>1</td>\n",
       "      <td>21</td>\n",
       "      <td>21</td>\n",
       "      <td>1.0</td>\n",
       "      <td>21.0</td>\n",
       "      <td>5 days ago</td>\n",
       "      <td>t</td>\n",
       "      <td>0</td>\n",
       "      <td>1</td>\n",
       "      <td>31</td>\n",
       "      <td>306</td>\n",
       "      <td>2019-11-21</td>\n",
       "      <td>143</td>\n",
       "      <td>6</td>\n",
       "      <td>2010-09-09</td>\n",
       "      <td>2019-10-20</td>\n",
       "      <td>86.0</td>\n",
       "      <td>9.0</td>\n",
       "      <td>9.0</td>\n",
       "      <td>10.0</td>\n",
       "      <td>10.0</td>\n",
       "      <td>9.0</td>\n",
       "      <td>9.0</td>\n",
       "      <td>f</td>\n",
       "      <td>NaN</td>\n",
       "      <td>{\"SAN DIEGO\",\" SAN DIEGO TOURISM MARKETING DIS...</td>\n",
       "      <td>f</td>\n",
       "      <td>f</td>\n",
       "      <td>moderate</td>\n",
       "      <td>t</td>\n",
       "      <td>t</td>\n",
       "      <td>3</td>\n",
       "      <td>0</td>\n",
       "      <td>3</td>\n",
       "      <td>0</td>\n",
       "      <td>1.28</td>\n",
       "    </tr>\n",
       "    <tr>\n",
       "      <th>4</th>\n",
       "      <td>39516</td>\n",
       "      <td>https://www.airbnb.com/rooms/39516</td>\n",
       "      <td>20191121092222</td>\n",
       "      <td>2019-11-21</td>\n",
       "      <td>Art Studio Retreat/Rustic Cabin</td>\n",
       "      <td>We love having explorers from all over the wor...</td>\n",
       "      <td>Nestled in South/North Park, a gentrified neig...</td>\n",
       "      <td>We love having explorers from all over the wor...</td>\n",
       "      <td>none</td>\n",
       "      <td>We love our eclectic neighborhood, with a smal...</td>\n",
       "      <td>There's no need to miss your exercise plan whi...</td>\n",
       "      <td>If you enjoy a good hearty walk,  (1 mile) you...</td>\n",
       "      <td>Pool opens April, as weather allows Patio by A...</td>\n",
       "      <td>We take the lead from our guests. When our sid...</td>\n",
       "      <td>This is a retreat-like setting and peacefulnes...</td>\n",
       "      <td>NaN</td>\n",
       "      <td>NaN</td>\n",
       "      <td>https://a0.muscache.com/im/pictures/2ee5c482-c...</td>\n",
       "      <td>NaN</td>\n",
       "      <td>169649</td>\n",
       "      <td>https://www.airbnb.com/users/show/169649</td>\n",
       "      <td>Chris  And Jean</td>\n",
       "      <td>2010-07-17</td>\n",
       "      <td>San Diego, California, United States</td>\n",
       "      <td>Jean is a grateful cancer survivor, activist, ...</td>\n",
       "      <td>within an hour</td>\n",
       "      <td>100%</td>\n",
       "      <td>NaN</td>\n",
       "      <td>t</td>\n",
       "      <td>https://a0.muscache.com/im/users/169649/profil...</td>\n",
       "      <td>https://a0.muscache.com/im/users/169649/profil...</td>\n",
       "      <td>North Park</td>\n",
       "      <td>1.0</td>\n",
       "      <td>1.0</td>\n",
       "      <td>['email', 'phone', 'reviews', 'jumio', 'offlin...</td>\n",
       "      <td>t</td>\n",
       "      <td>t</td>\n",
       "      <td>San Diego, CA, United States</td>\n",
       "      <td>North Park</td>\n",
       "      <td>North Hills</td>\n",
       "      <td>NaN</td>\n",
       "      <td>San Diego</td>\n",
       "      <td>CA</td>\n",
       "      <td>92104</td>\n",
       "      <td>San Diego</td>\n",
       "      <td>San Diego, CA</td>\n",
       "      <td>US</td>\n",
       "      <td>United States</td>\n",
       "      <td>32.73188</td>\n",
       "      <td>-117.11918</td>\n",
       "      <td>...</td>\n",
       "      <td>1.0</td>\n",
       "      <td>Real Bed</td>\n",
       "      <td>{Internet,Wifi,Pool,Kitchen,\"Pets live on this...</td>\n",
       "      <td>250.0</td>\n",
       "      <td>$74.00</td>\n",
       "      <td>$450.00</td>\n",
       "      <td>NaN</td>\n",
       "      <td>NaN</td>\n",
       "      <td>$25.00</td>\n",
       "      <td>1</td>\n",
       "      <td>$0.00</td>\n",
       "      <td>3</td>\n",
       "      <td>7</td>\n",
       "      <td>3</td>\n",
       "      <td>3</td>\n",
       "      <td>7</td>\n",
       "      <td>7</td>\n",
       "      <td>3.0</td>\n",
       "      <td>7.0</td>\n",
       "      <td>yesterday</td>\n",
       "      <td>t</td>\n",
       "      <td>16</td>\n",
       "      <td>37</td>\n",
       "      <td>61</td>\n",
       "      <td>319</td>\n",
       "      <td>2019-11-21</td>\n",
       "      <td>384</td>\n",
       "      <td>45</td>\n",
       "      <td>2010-07-20</td>\n",
       "      <td>2019-10-28</td>\n",
       "      <td>98.0</td>\n",
       "      <td>10.0</td>\n",
       "      <td>10.0</td>\n",
       "      <td>10.0</td>\n",
       "      <td>10.0</td>\n",
       "      <td>10.0</td>\n",
       "      <td>10.0</td>\n",
       "      <td>f</td>\n",
       "      <td>NaN</td>\n",
       "      <td>{\"SAN DIEGO\",\" SAN DIEGO TOURISM MARKETING DIS...</td>\n",
       "      <td>f</td>\n",
       "      <td>f</td>\n",
       "      <td>strict_14_with_grace_period</td>\n",
       "      <td>t</td>\n",
       "      <td>f</td>\n",
       "      <td>1</td>\n",
       "      <td>1</td>\n",
       "      <td>0</td>\n",
       "      <td>0</td>\n",
       "      <td>3.38</td>\n",
       "    </tr>\n",
       "  </tbody>\n",
       "</table>\n",
       "<p>5 rows × 106 columns</p>\n",
       "</div>"
      ],
      "text/plain": [
       "      id                         listing_url       scrape_id last_scraped  \\\n",
       "0   5570   https://www.airbnb.com/rooms/5570  20191121092222   2019-11-21   \n",
       "1   8488   https://www.airbnb.com/rooms/8488  20191121092222   2019-11-21   \n",
       "2  29967  https://www.airbnb.com/rooms/29967  20191121092222   2019-11-21   \n",
       "3  38245  https://www.airbnb.com/rooms/38245  20191121092222   2019-11-21   \n",
       "4  39516  https://www.airbnb.com/rooms/39516  20191121092222   2019-11-21   \n",
       "\n",
       "                                  name  \\\n",
       "0        Ocean front condo on the sand   \n",
       "1  Juniper Zen Palace- SD's Best Hood!   \n",
       "2     Great home, 10 min walk to Beach   \n",
       "3       Point Loma/Liberty Station-NTC   \n",
       "4      Art Studio Retreat/Rustic Cabin   \n",
       "\n",
       "                                             summary  \\\n",
       "0  Missionbeachretreat.   Great Ocean Front Condo...   \n",
       "1  Walk every where in San Diegos most charming a...   \n",
       "2  This 2 bedroom, 2 full bathroom home offers al...   \n",
       "3  Stay in a 1928 Spanish Style home.  Den is dow...   \n",
       "4  We love having explorers from all over the wor...   \n",
       "\n",
       "                                               space  \\\n",
       "0  This charming two bedroom beachfront condomini...   \n",
       "1  Private craftsman home in the heart of Histori...   \n",
       "2  This two bedroom (1 CA king bed, 1 queen bed),...   \n",
       "3  Please note:  1928 home; remodeled in 2015. Co...   \n",
       "4  Nestled in South/North Park, a gentrified neig...   \n",
       "\n",
       "                                         description experiences_offered  \\\n",
       "0  Missionbeachretreat.   Great Ocean Front Condo...                none   \n",
       "1  Walk every where in San Diegos most charming a...                none   \n",
       "2  This 2 bedroom, 2 full bathroom home offers al...                none   \n",
       "3  Stay in a 1928 Spanish Style home.  Den is dow...                none   \n",
       "4  We love having explorers from all over the wor...                none   \n",
       "\n",
       "                               neighborhood_overview  \\\n",
       "0  While some may compare San Diego’s Mission Bea...   \n",
       "1  South Park is a charming community and our nei...   \n",
       "2                                                NaN   \n",
       "3  This neighborhood is an expensive, high-end Po...   \n",
       "4  We love our eclectic neighborhood, with a smal...   \n",
       "\n",
       "                                               notes  \\\n",
       "0                                                NaN   \n",
       "1  we have no cable tv. just streaming services. ...   \n",
       "2                                                NaN   \n",
       "3  I have a puppy now:  April 10th.  Lindbergh Fi...   \n",
       "4  There's no need to miss your exercise plan whi...   \n",
       "\n",
       "                                             transit  \\\n",
       "0  Bus #8 goes to La Jolla and Old Town transit c...   \n",
       "1          bus route  to downtown is 1/2 block away!   \n",
       "2                                                NaN   \n",
       "3  Public transit is across the street (100 meter...   \n",
       "4  If you enjoy a good hearty walk,  (1 mile) you...   \n",
       "\n",
       "                                              access  \\\n",
       "0  2 Bedrooms (1 Queen, 2 Twins)  1 Bath Balcony ...   \n",
       "1                                           backyard   \n",
       "2                                                NaN   \n",
       "3  Guests can sit in the dining room to eat or re...   \n",
       "4  Pool opens April, as weather allows Patio by A...   \n",
       "\n",
       "                                         interaction  \\\n",
       "0  Once reservation is made I will call guest.  I...   \n",
       "1                                                NaN   \n",
       "2                                                NaN   \n",
       "3  I can meet and greet you; once in a while; ano...   \n",
       "4  We take the lead from our guests. When our sid...   \n",
       "\n",
       "                                         house_rules  thumbnail_url  \\\n",
       "0  Min 4 nights winter.  7 nights Spring Break, l...            NaN   \n",
       "1  • Check-in time is 3PM. We are fun, easygoing ...            NaN   \n",
       "2  This is not a party house. This is a quiet fam...            NaN   \n",
       "3  No drugs.      light alcohol is fine.    No sm...            NaN   \n",
       "4  This is a retreat-like setting and peacefulnes...            NaN   \n",
       "\n",
       "   medium_url                                        picture_url  \\\n",
       "0         NaN  https://a0.muscache.com/im/pictures/d3342744-1...   \n",
       "1         NaN  https://a0.muscache.com/im/pictures/b1f12e62-1...   \n",
       "2         NaN  https://a0.muscache.com/im/pictures/76103867/c...   \n",
       "3         NaN  https://a0.muscache.com/im/pictures/f3073822-e...   \n",
       "4         NaN  https://a0.muscache.com/im/pictures/2ee5c482-c...   \n",
       "\n",
       "   xl_picture_url  host_id                                  host_url  \\\n",
       "0             NaN     8435    https://www.airbnb.com/users/show/8435   \n",
       "1             NaN    25186   https://www.airbnb.com/users/show/25186   \n",
       "2             NaN   129123  https://www.airbnb.com/users/show/129123   \n",
       "3             NaN   164137  https://www.airbnb.com/users/show/164137   \n",
       "4             NaN   169649  https://www.airbnb.com/users/show/169649   \n",
       "\n",
       "         host_name  host_since                           host_location  \\\n",
       "0      Jef Karchin  2009-02-23    San Diego, California, United States   \n",
       "1           Helene  2009-07-10  Los Angeles, California, United States   \n",
       "2          Michael  2010-05-21    San Diego, California, United States   \n",
       "3          Melinda  2010-07-12    San Diego, California, United States   \n",
       "4  Chris  And Jean  2010-07-17    San Diego, California, United States   \n",
       "\n",
       "                                          host_about  host_response_time  \\\n",
       "0  Real estate broker,  Jef  Karchin real estate ...  within a few hours   \n",
       "1  HI! I am a photographer on tour. I have severa...      within an hour   \n",
       "2  We love living part of the year in San Diego. ...      within an hour   \n",
       "3  Hello Future and Returning Friends!   It is Sp...      within an hour   \n",
       "4  Jean is a grateful cancer survivor, activist, ...      within an hour   \n",
       "\n",
       "  host_response_rate  host_acceptance_rate host_is_superhost  \\\n",
       "0               100%                   NaN                 f   \n",
       "1               100%                   NaN                 f   \n",
       "2               100%                   NaN                 f   \n",
       "3               100%                   NaN                 f   \n",
       "4               100%                   NaN                 t   \n",
       "\n",
       "                                  host_thumbnail_url  \\\n",
       "0  https://a0.muscache.com/im/users/8435/profile_...   \n",
       "1  https://a0.muscache.com/im/pictures/user/b83cc...   \n",
       "2  https://a0.muscache.com/im/users/129123/profil...   \n",
       "3  https://a0.muscache.com/im/users/164137/profil...   \n",
       "4  https://a0.muscache.com/im/users/169649/profil...   \n",
       "\n",
       "                                    host_picture_url host_neighbourhood  \\\n",
       "0  https://a0.muscache.com/im/users/8435/profile_...      Mission Beach   \n",
       "1  https://a0.muscache.com/im/pictures/user/b83cc...         Burlingame   \n",
       "2  https://a0.muscache.com/im/users/129123/profil...      Pacific Beach   \n",
       "3  https://a0.muscache.com/im/users/164137/profil...        Loma Portal   \n",
       "4  https://a0.muscache.com/im/users/169649/profil...         North Park   \n",
       "\n",
       "   host_listings_count  host_total_listings_count  \\\n",
       "0                  3.0                        3.0   \n",
       "1                  4.0                        4.0   \n",
       "2                  6.0                        6.0   \n",
       "3                  3.0                        3.0   \n",
       "4                  1.0                        1.0   \n",
       "\n",
       "                                  host_verifications host_has_profile_pic  \\\n",
       "0                          ['email', 'phone', 'kba']                    t   \n",
       "1  ['email', 'phone', 'facebook', 'reviews', 'off...                    t   \n",
       "2  ['email', 'phone', 'reviews', 'kba', 'work_ema...                    t   \n",
       "3               ['email', 'phone', 'reviews', 'kba']                    t   \n",
       "4  ['email', 'phone', 'reviews', 'jumio', 'offlin...                    t   \n",
       "\n",
       "  host_identity_verified                        street  neighbourhood  \\\n",
       "0                      t  San Diego, CA, United States  Mission Beach   \n",
       "1                      t  San Diego, CA, United States     South Park   \n",
       "2                      t  San Diego, CA, United States  Pacific Beach   \n",
       "3                      t  San Diego, CA, United States    Loma Portal   \n",
       "4                      t  San Diego, CA, United States     North Park   \n",
       "\n",
       "  neighbourhood_cleansed  neighbourhood_group_cleansed       city state  \\\n",
       "0            Mission Bay                           NaN  San Diego    CA   \n",
       "1             South Park                           NaN  San Diego    CA   \n",
       "2          Pacific Beach                           NaN  San Diego    CA   \n",
       "3              Roseville                           NaN  San Diego    CA   \n",
       "4            North Hills                           NaN  San Diego    CA   \n",
       "\n",
       "  zipcode     market smart_location country_code        country  latitude  \\\n",
       "0   92109  San Diego  San Diego, CA           US  United States  32.78430   \n",
       "1   92104  San Diego  San Diego, CA           US  United States  32.72839   \n",
       "2   92109  San Diego  San Diego, CA           US  United States  32.80724   \n",
       "3   92106  San Diego  San Diego, CA           US  United States  32.74202   \n",
       "4   92104  San Diego  San Diego, CA           US  United States  32.73188   \n",
       "\n",
       "   longitude  ... beds  bed_type  \\\n",
       "0 -117.25258  ...  4.0  Real Bed   \n",
       "1 -117.12824  ...  3.0  Real Bed   \n",
       "2 -117.25630  ...  3.0  Real Bed   \n",
       "3 -117.21870  ...  1.0  Real Bed   \n",
       "4 -117.11918  ...  1.0  Real Bed   \n",
       "\n",
       "                                           amenities  square_feet      price  \\\n",
       "0  {TV,\"Cable TV\",Internet,Wifi,Kitchen,\"Free par...        850.0  $2,050.00   \n",
       "1  {TV,Internet,Wifi,Kitchen,\"Free parking on pre...          NaN    $225.00   \n",
       "2  {TV,\"Cable TV\",Internet,Wifi,Kitchen,\"Free par...          NaN    $225.00   \n",
       "3  {TV,\"Cable TV\",Internet,Wifi,\"Air conditioning...          NaN     $75.00   \n",
       "4  {Internet,Wifi,Pool,Kitchen,\"Pets live on this...        250.0     $74.00   \n",
       "\n",
       "   weekly_price  monthly_price security_deposit cleaning_fee  guests_included  \\\n",
       "0           NaN            NaN          $500.00      $150.00                1   \n",
       "1           NaN            NaN          $300.00      $175.00                4   \n",
       "2           NaN      $2,900.00          $250.00       $80.00                6   \n",
       "3       $310.00      $1,020.00          $100.00       $16.00                1   \n",
       "4       $450.00            NaN              NaN       $25.00                1   \n",
       "\n",
       "  extra_people minimum_nights maximum_nights minimum_minimum_nights  \\\n",
       "0        $0.00              3            365                      3   \n",
       "1       $50.00              3           1125                      3   \n",
       "2       $15.00              4            365                      4   \n",
       "3       $10.00              1             21                      1   \n",
       "4        $0.00              3              7                      3   \n",
       "\n",
       "  maximum_minimum_nights  minimum_maximum_nights maximum_maximum_nights  \\\n",
       "0                      3                     365                    365   \n",
       "1                      3                    1125                   1125   \n",
       "2                      4                     365                    365   \n",
       "3                      1                      21                     21   \n",
       "4                      3                       7                      7   \n",
       "\n",
       "   minimum_nights_avg_ntm  maximum_nights_avg_ntm  calendar_updated  \\\n",
       "0                     3.0                   365.0      2 months ago   \n",
       "1                     3.0                  1125.0       5 weeks ago   \n",
       "2                     4.0                   365.0      3 months ago   \n",
       "3                     1.0                    21.0        5 days ago   \n",
       "4                     3.0                     7.0         yesterday   \n",
       "\n",
       "   has_availability  availability_30  availability_60  availability_90  \\\n",
       "0                 t               12               20               31   \n",
       "1                 t                6               20               42   \n",
       "2                 t                0                0                0   \n",
       "3                 t                0                1               31   \n",
       "4                 t               16               37               61   \n",
       "\n",
       "   availability_365 calendar_last_scraped number_of_reviews  \\\n",
       "0               176            2019-11-21                 0   \n",
       "1               218            2019-11-21                40   \n",
       "2               234            2019-11-21                60   \n",
       "3               306            2019-11-21               143   \n",
       "4               319            2019-11-21               384   \n",
       "\n",
       "   number_of_reviews_ltm  first_review  last_review  review_scores_rating  \\\n",
       "0                      0           NaN          NaN                   NaN   \n",
       "1                      0    2010-10-13   2016-03-24                  97.0   \n",
       "2                      0    2010-07-09   2018-08-09                  98.0   \n",
       "3                      6    2010-09-09   2019-10-20                  86.0   \n",
       "4                     45    2010-07-20   2019-10-28                  98.0   \n",
       "\n",
       "  review_scores_accuracy  review_scores_cleanliness  review_scores_checkin  \\\n",
       "0                    NaN                        NaN                    NaN   \n",
       "1                    9.0                        9.0                   10.0   \n",
       "2                   10.0                       10.0                   10.0   \n",
       "3                    9.0                        9.0                   10.0   \n",
       "4                   10.0                       10.0                   10.0   \n",
       "\n",
       "  review_scores_communication review_scores_location  review_scores_value  \\\n",
       "0                         NaN                    NaN                  NaN   \n",
       "1                        10.0                   10.0                  9.0   \n",
       "2                        10.0                   10.0                 10.0   \n",
       "3                        10.0                    9.0                  9.0   \n",
       "4                        10.0                   10.0                 10.0   \n",
       "\n",
       "   requires_license  license  \\\n",
       "0                 f      NaN   \n",
       "1                 f      NaN   \n",
       "2                 f      NaN   \n",
       "3                 f      NaN   \n",
       "4                 f      NaN   \n",
       "\n",
       "                                  jurisdiction_names  instant_bookable  \\\n",
       "0  {\"SAN DIEGO\",\" SAN DIEGO TOURISM MARKETING DIS...                 f   \n",
       "1  {\"SAN DIEGO\",\" SAN DIEGO TOURISM MARKETING DIS...                 f   \n",
       "2  {\"SAN DIEGO\",\" SAN DIEGO TOURISM MARKETING DIS...                 f   \n",
       "3  {\"SAN DIEGO\",\" SAN DIEGO TOURISM MARKETING DIS...                 f   \n",
       "4  {\"SAN DIEGO\",\" SAN DIEGO TOURISM MARKETING DIS...                 f   \n",
       "\n",
       "   is_business_travel_ready          cancellation_policy  \\\n",
       "0                         f  strict_14_with_grace_period   \n",
       "1                         f  strict_14_with_grace_period   \n",
       "2                         f                     moderate   \n",
       "3                         f                     moderate   \n",
       "4                         f  strict_14_with_grace_period   \n",
       "\n",
       "  require_guest_profile_picture require_guest_phone_verification  \\\n",
       "0                             f                                f   \n",
       "1                             t                                t   \n",
       "2                             f                                f   \n",
       "3                             t                                t   \n",
       "4                             t                                f   \n",
       "\n",
       "  calculated_host_listings_count calculated_host_listings_count_entire_homes  \\\n",
       "0                              2                                           2   \n",
       "1                              2                                           2   \n",
       "2                              5                                           5   \n",
       "3                              3                                           0   \n",
       "4                              1                                           1   \n",
       "\n",
       "  calculated_host_listings_count_private_rooms  \\\n",
       "0                                            0   \n",
       "1                                            0   \n",
       "2                                            0   \n",
       "3                                            3   \n",
       "4                                            0   \n",
       "\n",
       "  calculated_host_listings_count_shared_rooms reviews_per_month  \n",
       "0                                           0               NaN  \n",
       "1                                           0              0.36  \n",
       "2                                           0              0.53  \n",
       "3                                           0              1.28  \n",
       "4                                           0              3.38  \n",
       "\n",
       "[5 rows x 106 columns]"
      ]
     },
     "execution_count": 7,
     "metadata": {},
     "output_type": "execute_result"
    }
   ],
   "source": [
    "df.head()"
   ]
  },
  {
   "cell_type": "code",
   "execution_count": 8,
   "metadata": {},
   "outputs": [
    {
     "data": {
      "text/plain": [
       "id                                                 0\n",
       "listing_url                                        0\n",
       "scrape_id                                          0\n",
       "last_scraped                                       0\n",
       "name                                               0\n",
       "                                                ... \n",
       "calculated_host_listings_count                     0\n",
       "calculated_host_listings_count_entire_homes        0\n",
       "calculated_host_listings_count_private_rooms       0\n",
       "calculated_host_listings_count_shared_rooms        0\n",
       "reviews_per_month                               2178\n",
       "Length: 106, dtype: int64"
      ]
     },
     "execution_count": 8,
     "metadata": {},
     "output_type": "execute_result"
    }
   ],
   "source": [
    "df.isnull().sum()"
   ]
  },
  {
   "cell_type": "code",
   "execution_count": 9,
   "metadata": {},
   "outputs": [
    {
     "name": "stdout",
     "output_type": "stream",
     "text": [
      "97\n",
      "9\n"
     ]
    }
   ],
   "source": [
    "#Checking in dataset the number of columns having Greater than 60%  missing values and less than 60% \n",
    "nacounts = df.isna().sum()\n",
    "less_than_60 = list(nacounts[nacounts.sort_values() < df.shape[0]*0.6].index)\n",
    "greater_than_60 = list(nacounts[nacounts.sort_values() > df.shape[0]*0.6].index)\n",
    "print(len(less_than_60))\n",
    "print(len(greater_than_60))"
   ]
  },
  {
   "cell_type": "code",
   "execution_count": 10,
   "metadata": {},
   "outputs": [],
   "source": [
    "#Considering only the columns or features having less than 60% missing values\n",
    "new_df = df[nacounts[nacounts.sort_values() < df.shape[0]*0.6].index]"
   ]
  },
  {
   "cell_type": "code",
   "execution_count": 11,
   "metadata": {},
   "outputs": [
    {
     "data": {
      "text/html": [
       "<div>\n",
       "<style scoped>\n",
       "    .dataframe tbody tr th:only-of-type {\n",
       "        vertical-align: middle;\n",
       "    }\n",
       "\n",
       "    .dataframe tbody tr th {\n",
       "        vertical-align: top;\n",
       "    }\n",
       "\n",
       "    .dataframe thead th {\n",
       "        text-align: right;\n",
       "    }\n",
       "</style>\n",
       "<table border=\"1\" class=\"dataframe\">\n",
       "  <thead>\n",
       "    <tr style=\"text-align: right;\">\n",
       "      <th></th>\n",
       "      <th>id</th>\n",
       "      <th>listing_url</th>\n",
       "      <th>scrape_id</th>\n",
       "      <th>last_scraped</th>\n",
       "      <th>name</th>\n",
       "      <th>summary</th>\n",
       "      <th>space</th>\n",
       "      <th>description</th>\n",
       "      <th>experiences_offered</th>\n",
       "      <th>neighborhood_overview</th>\n",
       "      <th>notes</th>\n",
       "      <th>transit</th>\n",
       "      <th>access</th>\n",
       "      <th>interaction</th>\n",
       "      <th>house_rules</th>\n",
       "      <th>picture_url</th>\n",
       "      <th>host_id</th>\n",
       "      <th>host_url</th>\n",
       "      <th>host_name</th>\n",
       "      <th>host_since</th>\n",
       "      <th>host_location</th>\n",
       "      <th>host_about</th>\n",
       "      <th>host_response_time</th>\n",
       "      <th>host_response_rate</th>\n",
       "      <th>host_is_superhost</th>\n",
       "      <th>host_thumbnail_url</th>\n",
       "      <th>host_picture_url</th>\n",
       "      <th>host_neighbourhood</th>\n",
       "      <th>host_listings_count</th>\n",
       "      <th>host_total_listings_count</th>\n",
       "      <th>host_verifications</th>\n",
       "      <th>host_has_profile_pic</th>\n",
       "      <th>host_identity_verified</th>\n",
       "      <th>street</th>\n",
       "      <th>neighbourhood</th>\n",
       "      <th>neighbourhood_cleansed</th>\n",
       "      <th>city</th>\n",
       "      <th>state</th>\n",
       "      <th>zipcode</th>\n",
       "      <th>market</th>\n",
       "      <th>smart_location</th>\n",
       "      <th>country_code</th>\n",
       "      <th>country</th>\n",
       "      <th>latitude</th>\n",
       "      <th>longitude</th>\n",
       "      <th>is_location_exact</th>\n",
       "      <th>property_type</th>\n",
       "      <th>room_type</th>\n",
       "      <th>accommodates</th>\n",
       "      <th>bathrooms</th>\n",
       "      <th>bedrooms</th>\n",
       "      <th>beds</th>\n",
       "      <th>bed_type</th>\n",
       "      <th>amenities</th>\n",
       "      <th>price</th>\n",
       "      <th>security_deposit</th>\n",
       "      <th>cleaning_fee</th>\n",
       "      <th>guests_included</th>\n",
       "      <th>extra_people</th>\n",
       "      <th>minimum_nights</th>\n",
       "      <th>maximum_nights</th>\n",
       "      <th>minimum_minimum_nights</th>\n",
       "      <th>maximum_minimum_nights</th>\n",
       "      <th>minimum_maximum_nights</th>\n",
       "      <th>maximum_maximum_nights</th>\n",
       "      <th>minimum_nights_avg_ntm</th>\n",
       "      <th>maximum_nights_avg_ntm</th>\n",
       "      <th>calendar_updated</th>\n",
       "      <th>has_availability</th>\n",
       "      <th>availability_30</th>\n",
       "      <th>availability_60</th>\n",
       "      <th>availability_90</th>\n",
       "      <th>availability_365</th>\n",
       "      <th>calendar_last_scraped</th>\n",
       "      <th>number_of_reviews</th>\n",
       "      <th>number_of_reviews_ltm</th>\n",
       "      <th>first_review</th>\n",
       "      <th>last_review</th>\n",
       "      <th>review_scores_rating</th>\n",
       "      <th>review_scores_accuracy</th>\n",
       "      <th>review_scores_cleanliness</th>\n",
       "      <th>review_scores_checkin</th>\n",
       "      <th>review_scores_communication</th>\n",
       "      <th>review_scores_location</th>\n",
       "      <th>review_scores_value</th>\n",
       "      <th>requires_license</th>\n",
       "      <th>jurisdiction_names</th>\n",
       "      <th>instant_bookable</th>\n",
       "      <th>is_business_travel_ready</th>\n",
       "      <th>cancellation_policy</th>\n",
       "      <th>require_guest_profile_picture</th>\n",
       "      <th>require_guest_phone_verification</th>\n",
       "      <th>calculated_host_listings_count</th>\n",
       "      <th>calculated_host_listings_count_entire_homes</th>\n",
       "      <th>calculated_host_listings_count_private_rooms</th>\n",
       "      <th>calculated_host_listings_count_shared_rooms</th>\n",
       "      <th>reviews_per_month</th>\n",
       "    </tr>\n",
       "  </thead>\n",
       "  <tbody>\n",
       "    <tr>\n",
       "      <th>0</th>\n",
       "      <td>5570</td>\n",
       "      <td>https://www.airbnb.com/rooms/5570</td>\n",
       "      <td>20191121092222</td>\n",
       "      <td>2019-11-21</td>\n",
       "      <td>Ocean front condo on the sand</td>\n",
       "      <td>Missionbeachretreat.   Great Ocean Front Condo...</td>\n",
       "      <td>This charming two bedroom beachfront condomini...</td>\n",
       "      <td>Missionbeachretreat.   Great Ocean Front Condo...</td>\n",
       "      <td>none</td>\n",
       "      <td>While some may compare San Diego’s Mission Bea...</td>\n",
       "      <td>NaN</td>\n",
       "      <td>Bus #8 goes to La Jolla and Old Town transit c...</td>\n",
       "      <td>2 Bedrooms (1 Queen, 2 Twins)  1 Bath Balcony ...</td>\n",
       "      <td>Once reservation is made I will call guest.  I...</td>\n",
       "      <td>Min 4 nights winter.  7 nights Spring Break, l...</td>\n",
       "      <td>https://a0.muscache.com/im/pictures/d3342744-1...</td>\n",
       "      <td>8435</td>\n",
       "      <td>https://www.airbnb.com/users/show/8435</td>\n",
       "      <td>Jef Karchin</td>\n",
       "      <td>2009-02-23</td>\n",
       "      <td>San Diego, California, United States</td>\n",
       "      <td>Real estate broker,  Jef  Karchin real estate ...</td>\n",
       "      <td>within a few hours</td>\n",
       "      <td>100%</td>\n",
       "      <td>f</td>\n",
       "      <td>https://a0.muscache.com/im/users/8435/profile_...</td>\n",
       "      <td>https://a0.muscache.com/im/users/8435/profile_...</td>\n",
       "      <td>Mission Beach</td>\n",
       "      <td>3.0</td>\n",
       "      <td>3.0</td>\n",
       "      <td>['email', 'phone', 'kba']</td>\n",
       "      <td>t</td>\n",
       "      <td>t</td>\n",
       "      <td>San Diego, CA, United States</td>\n",
       "      <td>Mission Beach</td>\n",
       "      <td>Mission Bay</td>\n",
       "      <td>San Diego</td>\n",
       "      <td>CA</td>\n",
       "      <td>92109</td>\n",
       "      <td>San Diego</td>\n",
       "      <td>San Diego, CA</td>\n",
       "      <td>US</td>\n",
       "      <td>United States</td>\n",
       "      <td>32.78430</td>\n",
       "      <td>-117.25258</td>\n",
       "      <td>t</td>\n",
       "      <td>Condominium</td>\n",
       "      <td>Entire home/apt</td>\n",
       "      <td>6</td>\n",
       "      <td>1.0</td>\n",
       "      <td>2.0</td>\n",
       "      <td>4.0</td>\n",
       "      <td>Real Bed</td>\n",
       "      <td>{TV,\"Cable TV\",Internet,Wifi,Kitchen,\"Free par...</td>\n",
       "      <td>$2,050.00</td>\n",
       "      <td>$500.00</td>\n",
       "      <td>$150.00</td>\n",
       "      <td>1</td>\n",
       "      <td>$0.00</td>\n",
       "      <td>3</td>\n",
       "      <td>365</td>\n",
       "      <td>3</td>\n",
       "      <td>3</td>\n",
       "      <td>365</td>\n",
       "      <td>365</td>\n",
       "      <td>3.0</td>\n",
       "      <td>365.0</td>\n",
       "      <td>2 months ago</td>\n",
       "      <td>t</td>\n",
       "      <td>12</td>\n",
       "      <td>20</td>\n",
       "      <td>31</td>\n",
       "      <td>176</td>\n",
       "      <td>2019-11-21</td>\n",
       "      <td>0</td>\n",
       "      <td>0</td>\n",
       "      <td>NaN</td>\n",
       "      <td>NaN</td>\n",
       "      <td>NaN</td>\n",
       "      <td>NaN</td>\n",
       "      <td>NaN</td>\n",
       "      <td>NaN</td>\n",
       "      <td>NaN</td>\n",
       "      <td>NaN</td>\n",
       "      <td>NaN</td>\n",
       "      <td>f</td>\n",
       "      <td>{\"SAN DIEGO\",\" SAN DIEGO TOURISM MARKETING DIS...</td>\n",
       "      <td>f</td>\n",
       "      <td>f</td>\n",
       "      <td>strict_14_with_grace_period</td>\n",
       "      <td>f</td>\n",
       "      <td>f</td>\n",
       "      <td>2</td>\n",
       "      <td>2</td>\n",
       "      <td>0</td>\n",
       "      <td>0</td>\n",
       "      <td>NaN</td>\n",
       "    </tr>\n",
       "    <tr>\n",
       "      <th>1</th>\n",
       "      <td>8488</td>\n",
       "      <td>https://www.airbnb.com/rooms/8488</td>\n",
       "      <td>20191121092222</td>\n",
       "      <td>2019-11-21</td>\n",
       "      <td>Juniper Zen Palace- SD's Best Hood!</td>\n",
       "      <td>Walk every where in San Diegos most charming a...</td>\n",
       "      <td>Private craftsman home in the heart of Histori...</td>\n",
       "      <td>Walk every where in San Diegos most charming a...</td>\n",
       "      <td>none</td>\n",
       "      <td>South Park is a charming community and our nei...</td>\n",
       "      <td>we have no cable tv. just streaming services. ...</td>\n",
       "      <td>bus route  to downtown is 1/2 block away!</td>\n",
       "      <td>backyard</td>\n",
       "      <td>NaN</td>\n",
       "      <td>• Check-in time is 3PM. We are fun, easygoing ...</td>\n",
       "      <td>https://a0.muscache.com/im/pictures/b1f12e62-1...</td>\n",
       "      <td>25186</td>\n",
       "      <td>https://www.airbnb.com/users/show/25186</td>\n",
       "      <td>Helene</td>\n",
       "      <td>2009-07-10</td>\n",
       "      <td>Los Angeles, California, United States</td>\n",
       "      <td>HI! I am a photographer on tour. I have severa...</td>\n",
       "      <td>within an hour</td>\n",
       "      <td>100%</td>\n",
       "      <td>f</td>\n",
       "      <td>https://a0.muscache.com/im/pictures/user/b83cc...</td>\n",
       "      <td>https://a0.muscache.com/im/pictures/user/b83cc...</td>\n",
       "      <td>Burlingame</td>\n",
       "      <td>4.0</td>\n",
       "      <td>4.0</td>\n",
       "      <td>['email', 'phone', 'facebook', 'reviews', 'off...</td>\n",
       "      <td>t</td>\n",
       "      <td>t</td>\n",
       "      <td>San Diego, CA, United States</td>\n",
       "      <td>South Park</td>\n",
       "      <td>South Park</td>\n",
       "      <td>San Diego</td>\n",
       "      <td>CA</td>\n",
       "      <td>92104</td>\n",
       "      <td>San Diego</td>\n",
       "      <td>San Diego, CA</td>\n",
       "      <td>US</td>\n",
       "      <td>United States</td>\n",
       "      <td>32.72839</td>\n",
       "      <td>-117.12824</td>\n",
       "      <td>t</td>\n",
       "      <td>House</td>\n",
       "      <td>Entire home/apt</td>\n",
       "      <td>5</td>\n",
       "      <td>2.0</td>\n",
       "      <td>3.0</td>\n",
       "      <td>3.0</td>\n",
       "      <td>Real Bed</td>\n",
       "      <td>{TV,Internet,Wifi,Kitchen,\"Free parking on pre...</td>\n",
       "      <td>$225.00</td>\n",
       "      <td>$300.00</td>\n",
       "      <td>$175.00</td>\n",
       "      <td>4</td>\n",
       "      <td>$50.00</td>\n",
       "      <td>3</td>\n",
       "      <td>1125</td>\n",
       "      <td>3</td>\n",
       "      <td>3</td>\n",
       "      <td>1125</td>\n",
       "      <td>1125</td>\n",
       "      <td>3.0</td>\n",
       "      <td>1125.0</td>\n",
       "      <td>5 weeks ago</td>\n",
       "      <td>t</td>\n",
       "      <td>6</td>\n",
       "      <td>20</td>\n",
       "      <td>42</td>\n",
       "      <td>218</td>\n",
       "      <td>2019-11-21</td>\n",
       "      <td>40</td>\n",
       "      <td>0</td>\n",
       "      <td>2010-10-13</td>\n",
       "      <td>2016-03-24</td>\n",
       "      <td>97.0</td>\n",
       "      <td>9.0</td>\n",
       "      <td>9.0</td>\n",
       "      <td>10.0</td>\n",
       "      <td>10.0</td>\n",
       "      <td>10.0</td>\n",
       "      <td>9.0</td>\n",
       "      <td>f</td>\n",
       "      <td>{\"SAN DIEGO\",\" SAN DIEGO TOURISM MARKETING DIS...</td>\n",
       "      <td>f</td>\n",
       "      <td>f</td>\n",
       "      <td>strict_14_with_grace_period</td>\n",
       "      <td>t</td>\n",
       "      <td>t</td>\n",
       "      <td>2</td>\n",
       "      <td>2</td>\n",
       "      <td>0</td>\n",
       "      <td>0</td>\n",
       "      <td>0.36</td>\n",
       "    </tr>\n",
       "    <tr>\n",
       "      <th>2</th>\n",
       "      <td>29967</td>\n",
       "      <td>https://www.airbnb.com/rooms/29967</td>\n",
       "      <td>20191121092222</td>\n",
       "      <td>2019-11-21</td>\n",
       "      <td>Great home, 10 min walk to Beach</td>\n",
       "      <td>This 2 bedroom, 2 full bathroom home offers al...</td>\n",
       "      <td>This two bedroom (1 CA king bed, 1 queen bed),...</td>\n",
       "      <td>This 2 bedroom, 2 full bathroom home offers al...</td>\n",
       "      <td>none</td>\n",
       "      <td>NaN</td>\n",
       "      <td>NaN</td>\n",
       "      <td>NaN</td>\n",
       "      <td>NaN</td>\n",
       "      <td>NaN</td>\n",
       "      <td>This is not a party house. This is a quiet fam...</td>\n",
       "      <td>https://a0.muscache.com/im/pictures/76103867/c...</td>\n",
       "      <td>129123</td>\n",
       "      <td>https://www.airbnb.com/users/show/129123</td>\n",
       "      <td>Michael</td>\n",
       "      <td>2010-05-21</td>\n",
       "      <td>San Diego, California, United States</td>\n",
       "      <td>We love living part of the year in San Diego. ...</td>\n",
       "      <td>within an hour</td>\n",
       "      <td>100%</td>\n",
       "      <td>f</td>\n",
       "      <td>https://a0.muscache.com/im/users/129123/profil...</td>\n",
       "      <td>https://a0.muscache.com/im/users/129123/profil...</td>\n",
       "      <td>Pacific Beach</td>\n",
       "      <td>6.0</td>\n",
       "      <td>6.0</td>\n",
       "      <td>['email', 'phone', 'reviews', 'kba', 'work_ema...</td>\n",
       "      <td>t</td>\n",
       "      <td>t</td>\n",
       "      <td>San Diego, CA, United States</td>\n",
       "      <td>Pacific Beach</td>\n",
       "      <td>Pacific Beach</td>\n",
       "      <td>San Diego</td>\n",
       "      <td>CA</td>\n",
       "      <td>92109</td>\n",
       "      <td>San Diego</td>\n",
       "      <td>San Diego, CA</td>\n",
       "      <td>US</td>\n",
       "      <td>United States</td>\n",
       "      <td>32.80724</td>\n",
       "      <td>-117.25630</td>\n",
       "      <td>t</td>\n",
       "      <td>Bungalow</td>\n",
       "      <td>Entire home/apt</td>\n",
       "      <td>8</td>\n",
       "      <td>2.0</td>\n",
       "      <td>2.0</td>\n",
       "      <td>3.0</td>\n",
       "      <td>Real Bed</td>\n",
       "      <td>{TV,\"Cable TV\",Internet,Wifi,Kitchen,\"Free par...</td>\n",
       "      <td>$225.00</td>\n",
       "      <td>$250.00</td>\n",
       "      <td>$80.00</td>\n",
       "      <td>6</td>\n",
       "      <td>$15.00</td>\n",
       "      <td>4</td>\n",
       "      <td>365</td>\n",
       "      <td>4</td>\n",
       "      <td>4</td>\n",
       "      <td>365</td>\n",
       "      <td>365</td>\n",
       "      <td>4.0</td>\n",
       "      <td>365.0</td>\n",
       "      <td>3 months ago</td>\n",
       "      <td>t</td>\n",
       "      <td>0</td>\n",
       "      <td>0</td>\n",
       "      <td>0</td>\n",
       "      <td>234</td>\n",
       "      <td>2019-11-21</td>\n",
       "      <td>60</td>\n",
       "      <td>0</td>\n",
       "      <td>2010-07-09</td>\n",
       "      <td>2018-08-09</td>\n",
       "      <td>98.0</td>\n",
       "      <td>10.0</td>\n",
       "      <td>10.0</td>\n",
       "      <td>10.0</td>\n",
       "      <td>10.0</td>\n",
       "      <td>10.0</td>\n",
       "      <td>10.0</td>\n",
       "      <td>f</td>\n",
       "      <td>{\"SAN DIEGO\",\" SAN DIEGO TOURISM MARKETING DIS...</td>\n",
       "      <td>f</td>\n",
       "      <td>f</td>\n",
       "      <td>moderate</td>\n",
       "      <td>f</td>\n",
       "      <td>f</td>\n",
       "      <td>5</td>\n",
       "      <td>5</td>\n",
       "      <td>0</td>\n",
       "      <td>0</td>\n",
       "      <td>0.53</td>\n",
       "    </tr>\n",
       "    <tr>\n",
       "      <th>3</th>\n",
       "      <td>38245</td>\n",
       "      <td>https://www.airbnb.com/rooms/38245</td>\n",
       "      <td>20191121092222</td>\n",
       "      <td>2019-11-21</td>\n",
       "      <td>Point Loma/Liberty Station-NTC</td>\n",
       "      <td>Stay in a 1928 Spanish Style home.  Den is dow...</td>\n",
       "      <td>Please note:  1928 home; remodeled in 2015. Co...</td>\n",
       "      <td>Stay in a 1928 Spanish Style home.  Den is dow...</td>\n",
       "      <td>none</td>\n",
       "      <td>This neighborhood is an expensive, high-end Po...</td>\n",
       "      <td>I have a puppy now:  April 10th.  Lindbergh Fi...</td>\n",
       "      <td>Public transit is across the street (100 meter...</td>\n",
       "      <td>Guests can sit in the dining room to eat or re...</td>\n",
       "      <td>I can meet and greet you; once in a while; ano...</td>\n",
       "      <td>No drugs.      light alcohol is fine.    No sm...</td>\n",
       "      <td>https://a0.muscache.com/im/pictures/f3073822-e...</td>\n",
       "      <td>164137</td>\n",
       "      <td>https://www.airbnb.com/users/show/164137</td>\n",
       "      <td>Melinda</td>\n",
       "      <td>2010-07-12</td>\n",
       "      <td>San Diego, California, United States</td>\n",
       "      <td>Hello Future and Returning Friends!   It is Sp...</td>\n",
       "      <td>within an hour</td>\n",
       "      <td>100%</td>\n",
       "      <td>f</td>\n",
       "      <td>https://a0.muscache.com/im/users/164137/profil...</td>\n",
       "      <td>https://a0.muscache.com/im/users/164137/profil...</td>\n",
       "      <td>Loma Portal</td>\n",
       "      <td>3.0</td>\n",
       "      <td>3.0</td>\n",
       "      <td>['email', 'phone', 'reviews', 'kba']</td>\n",
       "      <td>t</td>\n",
       "      <td>t</td>\n",
       "      <td>San Diego, CA, United States</td>\n",
       "      <td>Loma Portal</td>\n",
       "      <td>Roseville</td>\n",
       "      <td>San Diego</td>\n",
       "      <td>CA</td>\n",
       "      <td>92106</td>\n",
       "      <td>San Diego</td>\n",
       "      <td>San Diego, CA</td>\n",
       "      <td>US</td>\n",
       "      <td>United States</td>\n",
       "      <td>32.74202</td>\n",
       "      <td>-117.21870</td>\n",
       "      <td>t</td>\n",
       "      <td>House</td>\n",
       "      <td>Private room</td>\n",
       "      <td>1</td>\n",
       "      <td>1.0</td>\n",
       "      <td>1.0</td>\n",
       "      <td>1.0</td>\n",
       "      <td>Real Bed</td>\n",
       "      <td>{TV,\"Cable TV\",Internet,Wifi,\"Air conditioning...</td>\n",
       "      <td>$75.00</td>\n",
       "      <td>$100.00</td>\n",
       "      <td>$16.00</td>\n",
       "      <td>1</td>\n",
       "      <td>$10.00</td>\n",
       "      <td>1</td>\n",
       "      <td>21</td>\n",
       "      <td>1</td>\n",
       "      <td>1</td>\n",
       "      <td>21</td>\n",
       "      <td>21</td>\n",
       "      <td>1.0</td>\n",
       "      <td>21.0</td>\n",
       "      <td>5 days ago</td>\n",
       "      <td>t</td>\n",
       "      <td>0</td>\n",
       "      <td>1</td>\n",
       "      <td>31</td>\n",
       "      <td>306</td>\n",
       "      <td>2019-11-21</td>\n",
       "      <td>143</td>\n",
       "      <td>6</td>\n",
       "      <td>2010-09-09</td>\n",
       "      <td>2019-10-20</td>\n",
       "      <td>86.0</td>\n",
       "      <td>9.0</td>\n",
       "      <td>9.0</td>\n",
       "      <td>10.0</td>\n",
       "      <td>10.0</td>\n",
       "      <td>9.0</td>\n",
       "      <td>9.0</td>\n",
       "      <td>f</td>\n",
       "      <td>{\"SAN DIEGO\",\" SAN DIEGO TOURISM MARKETING DIS...</td>\n",
       "      <td>f</td>\n",
       "      <td>f</td>\n",
       "      <td>moderate</td>\n",
       "      <td>t</td>\n",
       "      <td>t</td>\n",
       "      <td>3</td>\n",
       "      <td>0</td>\n",
       "      <td>3</td>\n",
       "      <td>0</td>\n",
       "      <td>1.28</td>\n",
       "    </tr>\n",
       "    <tr>\n",
       "      <th>4</th>\n",
       "      <td>39516</td>\n",
       "      <td>https://www.airbnb.com/rooms/39516</td>\n",
       "      <td>20191121092222</td>\n",
       "      <td>2019-11-21</td>\n",
       "      <td>Art Studio Retreat/Rustic Cabin</td>\n",
       "      <td>We love having explorers from all over the wor...</td>\n",
       "      <td>Nestled in South/North Park, a gentrified neig...</td>\n",
       "      <td>We love having explorers from all over the wor...</td>\n",
       "      <td>none</td>\n",
       "      <td>We love our eclectic neighborhood, with a smal...</td>\n",
       "      <td>There's no need to miss your exercise plan whi...</td>\n",
       "      <td>If you enjoy a good hearty walk,  (1 mile) you...</td>\n",
       "      <td>Pool opens April, as weather allows Patio by A...</td>\n",
       "      <td>We take the lead from our guests. When our sid...</td>\n",
       "      <td>This is a retreat-like setting and peacefulnes...</td>\n",
       "      <td>https://a0.muscache.com/im/pictures/2ee5c482-c...</td>\n",
       "      <td>169649</td>\n",
       "      <td>https://www.airbnb.com/users/show/169649</td>\n",
       "      <td>Chris  And Jean</td>\n",
       "      <td>2010-07-17</td>\n",
       "      <td>San Diego, California, United States</td>\n",
       "      <td>Jean is a grateful cancer survivor, activist, ...</td>\n",
       "      <td>within an hour</td>\n",
       "      <td>100%</td>\n",
       "      <td>t</td>\n",
       "      <td>https://a0.muscache.com/im/users/169649/profil...</td>\n",
       "      <td>https://a0.muscache.com/im/users/169649/profil...</td>\n",
       "      <td>North Park</td>\n",
       "      <td>1.0</td>\n",
       "      <td>1.0</td>\n",
       "      <td>['email', 'phone', 'reviews', 'jumio', 'offlin...</td>\n",
       "      <td>t</td>\n",
       "      <td>t</td>\n",
       "      <td>San Diego, CA, United States</td>\n",
       "      <td>North Park</td>\n",
       "      <td>North Hills</td>\n",
       "      <td>San Diego</td>\n",
       "      <td>CA</td>\n",
       "      <td>92104</td>\n",
       "      <td>San Diego</td>\n",
       "      <td>San Diego, CA</td>\n",
       "      <td>US</td>\n",
       "      <td>United States</td>\n",
       "      <td>32.73188</td>\n",
       "      <td>-117.11918</td>\n",
       "      <td>t</td>\n",
       "      <td>Tiny house</td>\n",
       "      <td>Entire home/apt</td>\n",
       "      <td>2</td>\n",
       "      <td>1.0</td>\n",
       "      <td>1.0</td>\n",
       "      <td>1.0</td>\n",
       "      <td>Real Bed</td>\n",
       "      <td>{Internet,Wifi,Pool,Kitchen,\"Pets live on this...</td>\n",
       "      <td>$74.00</td>\n",
       "      <td>NaN</td>\n",
       "      <td>$25.00</td>\n",
       "      <td>1</td>\n",
       "      <td>$0.00</td>\n",
       "      <td>3</td>\n",
       "      <td>7</td>\n",
       "      <td>3</td>\n",
       "      <td>3</td>\n",
       "      <td>7</td>\n",
       "      <td>7</td>\n",
       "      <td>3.0</td>\n",
       "      <td>7.0</td>\n",
       "      <td>yesterday</td>\n",
       "      <td>t</td>\n",
       "      <td>16</td>\n",
       "      <td>37</td>\n",
       "      <td>61</td>\n",
       "      <td>319</td>\n",
       "      <td>2019-11-21</td>\n",
       "      <td>384</td>\n",
       "      <td>45</td>\n",
       "      <td>2010-07-20</td>\n",
       "      <td>2019-10-28</td>\n",
       "      <td>98.0</td>\n",
       "      <td>10.0</td>\n",
       "      <td>10.0</td>\n",
       "      <td>10.0</td>\n",
       "      <td>10.0</td>\n",
       "      <td>10.0</td>\n",
       "      <td>10.0</td>\n",
       "      <td>f</td>\n",
       "      <td>{\"SAN DIEGO\",\" SAN DIEGO TOURISM MARKETING DIS...</td>\n",
       "      <td>f</td>\n",
       "      <td>f</td>\n",
       "      <td>strict_14_with_grace_period</td>\n",
       "      <td>t</td>\n",
       "      <td>f</td>\n",
       "      <td>1</td>\n",
       "      <td>1</td>\n",
       "      <td>0</td>\n",
       "      <td>0</td>\n",
       "      <td>3.38</td>\n",
       "    </tr>\n",
       "  </tbody>\n",
       "</table>\n",
       "</div>"
      ],
      "text/plain": [
       "      id                         listing_url       scrape_id last_scraped  \\\n",
       "0   5570   https://www.airbnb.com/rooms/5570  20191121092222   2019-11-21   \n",
       "1   8488   https://www.airbnb.com/rooms/8488  20191121092222   2019-11-21   \n",
       "2  29967  https://www.airbnb.com/rooms/29967  20191121092222   2019-11-21   \n",
       "3  38245  https://www.airbnb.com/rooms/38245  20191121092222   2019-11-21   \n",
       "4  39516  https://www.airbnb.com/rooms/39516  20191121092222   2019-11-21   \n",
       "\n",
       "                                  name  \\\n",
       "0        Ocean front condo on the sand   \n",
       "1  Juniper Zen Palace- SD's Best Hood!   \n",
       "2     Great home, 10 min walk to Beach   \n",
       "3       Point Loma/Liberty Station-NTC   \n",
       "4      Art Studio Retreat/Rustic Cabin   \n",
       "\n",
       "                                             summary  \\\n",
       "0  Missionbeachretreat.   Great Ocean Front Condo...   \n",
       "1  Walk every where in San Diegos most charming a...   \n",
       "2  This 2 bedroom, 2 full bathroom home offers al...   \n",
       "3  Stay in a 1928 Spanish Style home.  Den is dow...   \n",
       "4  We love having explorers from all over the wor...   \n",
       "\n",
       "                                               space  \\\n",
       "0  This charming two bedroom beachfront condomini...   \n",
       "1  Private craftsman home in the heart of Histori...   \n",
       "2  This two bedroom (1 CA king bed, 1 queen bed),...   \n",
       "3  Please note:  1928 home; remodeled in 2015. Co...   \n",
       "4  Nestled in South/North Park, a gentrified neig...   \n",
       "\n",
       "                                         description experiences_offered  \\\n",
       "0  Missionbeachretreat.   Great Ocean Front Condo...                none   \n",
       "1  Walk every where in San Diegos most charming a...                none   \n",
       "2  This 2 bedroom, 2 full bathroom home offers al...                none   \n",
       "3  Stay in a 1928 Spanish Style home.  Den is dow...                none   \n",
       "4  We love having explorers from all over the wor...                none   \n",
       "\n",
       "                               neighborhood_overview  \\\n",
       "0  While some may compare San Diego’s Mission Bea...   \n",
       "1  South Park is a charming community and our nei...   \n",
       "2                                                NaN   \n",
       "3  This neighborhood is an expensive, high-end Po...   \n",
       "4  We love our eclectic neighborhood, with a smal...   \n",
       "\n",
       "                                               notes  \\\n",
       "0                                                NaN   \n",
       "1  we have no cable tv. just streaming services. ...   \n",
       "2                                                NaN   \n",
       "3  I have a puppy now:  April 10th.  Lindbergh Fi...   \n",
       "4  There's no need to miss your exercise plan whi...   \n",
       "\n",
       "                                             transit  \\\n",
       "0  Bus #8 goes to La Jolla and Old Town transit c...   \n",
       "1          bus route  to downtown is 1/2 block away!   \n",
       "2                                                NaN   \n",
       "3  Public transit is across the street (100 meter...   \n",
       "4  If you enjoy a good hearty walk,  (1 mile) you...   \n",
       "\n",
       "                                              access  \\\n",
       "0  2 Bedrooms (1 Queen, 2 Twins)  1 Bath Balcony ...   \n",
       "1                                           backyard   \n",
       "2                                                NaN   \n",
       "3  Guests can sit in the dining room to eat or re...   \n",
       "4  Pool opens April, as weather allows Patio by A...   \n",
       "\n",
       "                                         interaction  \\\n",
       "0  Once reservation is made I will call guest.  I...   \n",
       "1                                                NaN   \n",
       "2                                                NaN   \n",
       "3  I can meet and greet you; once in a while; ano...   \n",
       "4  We take the lead from our guests. When our sid...   \n",
       "\n",
       "                                         house_rules  \\\n",
       "0  Min 4 nights winter.  7 nights Spring Break, l...   \n",
       "1  • Check-in time is 3PM. We are fun, easygoing ...   \n",
       "2  This is not a party house. This is a quiet fam...   \n",
       "3  No drugs.      light alcohol is fine.    No sm...   \n",
       "4  This is a retreat-like setting and peacefulnes...   \n",
       "\n",
       "                                         picture_url  host_id  \\\n",
       "0  https://a0.muscache.com/im/pictures/d3342744-1...     8435   \n",
       "1  https://a0.muscache.com/im/pictures/b1f12e62-1...    25186   \n",
       "2  https://a0.muscache.com/im/pictures/76103867/c...   129123   \n",
       "3  https://a0.muscache.com/im/pictures/f3073822-e...   164137   \n",
       "4  https://a0.muscache.com/im/pictures/2ee5c482-c...   169649   \n",
       "\n",
       "                                   host_url        host_name  host_since  \\\n",
       "0    https://www.airbnb.com/users/show/8435      Jef Karchin  2009-02-23   \n",
       "1   https://www.airbnb.com/users/show/25186           Helene  2009-07-10   \n",
       "2  https://www.airbnb.com/users/show/129123          Michael  2010-05-21   \n",
       "3  https://www.airbnb.com/users/show/164137          Melinda  2010-07-12   \n",
       "4  https://www.airbnb.com/users/show/169649  Chris  And Jean  2010-07-17   \n",
       "\n",
       "                            host_location  \\\n",
       "0    San Diego, California, United States   \n",
       "1  Los Angeles, California, United States   \n",
       "2    San Diego, California, United States   \n",
       "3    San Diego, California, United States   \n",
       "4    San Diego, California, United States   \n",
       "\n",
       "                                          host_about  host_response_time  \\\n",
       "0  Real estate broker,  Jef  Karchin real estate ...  within a few hours   \n",
       "1  HI! I am a photographer on tour. I have severa...      within an hour   \n",
       "2  We love living part of the year in San Diego. ...      within an hour   \n",
       "3  Hello Future and Returning Friends!   It is Sp...      within an hour   \n",
       "4  Jean is a grateful cancer survivor, activist, ...      within an hour   \n",
       "\n",
       "  host_response_rate host_is_superhost  \\\n",
       "0               100%                 f   \n",
       "1               100%                 f   \n",
       "2               100%                 f   \n",
       "3               100%                 f   \n",
       "4               100%                 t   \n",
       "\n",
       "                                  host_thumbnail_url  \\\n",
       "0  https://a0.muscache.com/im/users/8435/profile_...   \n",
       "1  https://a0.muscache.com/im/pictures/user/b83cc...   \n",
       "2  https://a0.muscache.com/im/users/129123/profil...   \n",
       "3  https://a0.muscache.com/im/users/164137/profil...   \n",
       "4  https://a0.muscache.com/im/users/169649/profil...   \n",
       "\n",
       "                                    host_picture_url host_neighbourhood  \\\n",
       "0  https://a0.muscache.com/im/users/8435/profile_...      Mission Beach   \n",
       "1  https://a0.muscache.com/im/pictures/user/b83cc...         Burlingame   \n",
       "2  https://a0.muscache.com/im/users/129123/profil...      Pacific Beach   \n",
       "3  https://a0.muscache.com/im/users/164137/profil...        Loma Portal   \n",
       "4  https://a0.muscache.com/im/users/169649/profil...         North Park   \n",
       "\n",
       "   host_listings_count  host_total_listings_count  \\\n",
       "0                  3.0                        3.0   \n",
       "1                  4.0                        4.0   \n",
       "2                  6.0                        6.0   \n",
       "3                  3.0                        3.0   \n",
       "4                  1.0                        1.0   \n",
       "\n",
       "                                  host_verifications host_has_profile_pic  \\\n",
       "0                          ['email', 'phone', 'kba']                    t   \n",
       "1  ['email', 'phone', 'facebook', 'reviews', 'off...                    t   \n",
       "2  ['email', 'phone', 'reviews', 'kba', 'work_ema...                    t   \n",
       "3               ['email', 'phone', 'reviews', 'kba']                    t   \n",
       "4  ['email', 'phone', 'reviews', 'jumio', 'offlin...                    t   \n",
       "\n",
       "  host_identity_verified                        street  neighbourhood  \\\n",
       "0                      t  San Diego, CA, United States  Mission Beach   \n",
       "1                      t  San Diego, CA, United States     South Park   \n",
       "2                      t  San Diego, CA, United States  Pacific Beach   \n",
       "3                      t  San Diego, CA, United States    Loma Portal   \n",
       "4                      t  San Diego, CA, United States     North Park   \n",
       "\n",
       "  neighbourhood_cleansed       city state zipcode     market smart_location  \\\n",
       "0            Mission Bay  San Diego    CA   92109  San Diego  San Diego, CA   \n",
       "1             South Park  San Diego    CA   92104  San Diego  San Diego, CA   \n",
       "2          Pacific Beach  San Diego    CA   92109  San Diego  San Diego, CA   \n",
       "3              Roseville  San Diego    CA   92106  San Diego  San Diego, CA   \n",
       "4            North Hills  San Diego    CA   92104  San Diego  San Diego, CA   \n",
       "\n",
       "  country_code        country  latitude  longitude is_location_exact  \\\n",
       "0           US  United States  32.78430 -117.25258                 t   \n",
       "1           US  United States  32.72839 -117.12824                 t   \n",
       "2           US  United States  32.80724 -117.25630                 t   \n",
       "3           US  United States  32.74202 -117.21870                 t   \n",
       "4           US  United States  32.73188 -117.11918                 t   \n",
       "\n",
       "  property_type        room_type  accommodates  bathrooms  bedrooms  beds  \\\n",
       "0   Condominium  Entire home/apt             6        1.0       2.0   4.0   \n",
       "1         House  Entire home/apt             5        2.0       3.0   3.0   \n",
       "2      Bungalow  Entire home/apt             8        2.0       2.0   3.0   \n",
       "3         House     Private room             1        1.0       1.0   1.0   \n",
       "4    Tiny house  Entire home/apt             2        1.0       1.0   1.0   \n",
       "\n",
       "   bed_type                                          amenities      price  \\\n",
       "0  Real Bed  {TV,\"Cable TV\",Internet,Wifi,Kitchen,\"Free par...  $2,050.00   \n",
       "1  Real Bed  {TV,Internet,Wifi,Kitchen,\"Free parking on pre...    $225.00   \n",
       "2  Real Bed  {TV,\"Cable TV\",Internet,Wifi,Kitchen,\"Free par...    $225.00   \n",
       "3  Real Bed  {TV,\"Cable TV\",Internet,Wifi,\"Air conditioning...     $75.00   \n",
       "4  Real Bed  {Internet,Wifi,Pool,Kitchen,\"Pets live on this...     $74.00   \n",
       "\n",
       "  security_deposit cleaning_fee  guests_included extra_people  minimum_nights  \\\n",
       "0          $500.00      $150.00                1        $0.00               3   \n",
       "1          $300.00      $175.00                4       $50.00               3   \n",
       "2          $250.00       $80.00                6       $15.00               4   \n",
       "3          $100.00       $16.00                1       $10.00               1   \n",
       "4              NaN       $25.00                1        $0.00               3   \n",
       "\n",
       "   maximum_nights  minimum_minimum_nights  maximum_minimum_nights  \\\n",
       "0             365                       3                       3   \n",
       "1            1125                       3                       3   \n",
       "2             365                       4                       4   \n",
       "3              21                       1                       1   \n",
       "4               7                       3                       3   \n",
       "\n",
       "   minimum_maximum_nights  maximum_maximum_nights  minimum_nights_avg_ntm  \\\n",
       "0                     365                     365                     3.0   \n",
       "1                    1125                    1125                     3.0   \n",
       "2                     365                     365                     4.0   \n",
       "3                      21                      21                     1.0   \n",
       "4                       7                       7                     3.0   \n",
       "\n",
       "   maximum_nights_avg_ntm calendar_updated has_availability  availability_30  \\\n",
       "0                   365.0     2 months ago                t               12   \n",
       "1                  1125.0      5 weeks ago                t                6   \n",
       "2                   365.0     3 months ago                t                0   \n",
       "3                    21.0       5 days ago                t                0   \n",
       "4                     7.0        yesterday                t               16   \n",
       "\n",
       "   availability_60  availability_90  availability_365 calendar_last_scraped  \\\n",
       "0               20               31               176            2019-11-21   \n",
       "1               20               42               218            2019-11-21   \n",
       "2                0                0               234            2019-11-21   \n",
       "3                1               31               306            2019-11-21   \n",
       "4               37               61               319            2019-11-21   \n",
       "\n",
       "   number_of_reviews  number_of_reviews_ltm first_review last_review  \\\n",
       "0                  0                      0          NaN         NaN   \n",
       "1                 40                      0   2010-10-13  2016-03-24   \n",
       "2                 60                      0   2010-07-09  2018-08-09   \n",
       "3                143                      6   2010-09-09  2019-10-20   \n",
       "4                384                     45   2010-07-20  2019-10-28   \n",
       "\n",
       "   review_scores_rating  review_scores_accuracy  review_scores_cleanliness  \\\n",
       "0                   NaN                     NaN                        NaN   \n",
       "1                  97.0                     9.0                        9.0   \n",
       "2                  98.0                    10.0                       10.0   \n",
       "3                  86.0                     9.0                        9.0   \n",
       "4                  98.0                    10.0                       10.0   \n",
       "\n",
       "   review_scores_checkin  review_scores_communication  review_scores_location  \\\n",
       "0                    NaN                          NaN                     NaN   \n",
       "1                   10.0                         10.0                    10.0   \n",
       "2                   10.0                         10.0                    10.0   \n",
       "3                   10.0                         10.0                     9.0   \n",
       "4                   10.0                         10.0                    10.0   \n",
       "\n",
       "   review_scores_value requires_license  \\\n",
       "0                  NaN                f   \n",
       "1                  9.0                f   \n",
       "2                 10.0                f   \n",
       "3                  9.0                f   \n",
       "4                 10.0                f   \n",
       "\n",
       "                                  jurisdiction_names instant_bookable  \\\n",
       "0  {\"SAN DIEGO\",\" SAN DIEGO TOURISM MARKETING DIS...                f   \n",
       "1  {\"SAN DIEGO\",\" SAN DIEGO TOURISM MARKETING DIS...                f   \n",
       "2  {\"SAN DIEGO\",\" SAN DIEGO TOURISM MARKETING DIS...                f   \n",
       "3  {\"SAN DIEGO\",\" SAN DIEGO TOURISM MARKETING DIS...                f   \n",
       "4  {\"SAN DIEGO\",\" SAN DIEGO TOURISM MARKETING DIS...                f   \n",
       "\n",
       "  is_business_travel_ready          cancellation_policy  \\\n",
       "0                        f  strict_14_with_grace_period   \n",
       "1                        f  strict_14_with_grace_period   \n",
       "2                        f                     moderate   \n",
       "3                        f                     moderate   \n",
       "4                        f  strict_14_with_grace_period   \n",
       "\n",
       "  require_guest_profile_picture require_guest_phone_verification  \\\n",
       "0                             f                                f   \n",
       "1                             t                                t   \n",
       "2                             f                                f   \n",
       "3                             t                                t   \n",
       "4                             t                                f   \n",
       "\n",
       "   calculated_host_listings_count  \\\n",
       "0                               2   \n",
       "1                               2   \n",
       "2                               5   \n",
       "3                               3   \n",
       "4                               1   \n",
       "\n",
       "   calculated_host_listings_count_entire_homes  \\\n",
       "0                                            2   \n",
       "1                                            2   \n",
       "2                                            5   \n",
       "3                                            0   \n",
       "4                                            1   \n",
       "\n",
       "   calculated_host_listings_count_private_rooms  \\\n",
       "0                                             0   \n",
       "1                                             0   \n",
       "2                                             0   \n",
       "3                                             3   \n",
       "4                                             0   \n",
       "\n",
       "   calculated_host_listings_count_shared_rooms  reviews_per_month  \n",
       "0                                            0                NaN  \n",
       "1                                            0               0.36  \n",
       "2                                            0               0.53  \n",
       "3                                            0               1.28  \n",
       "4                                            0               3.38  "
      ]
     },
     "execution_count": 11,
     "metadata": {},
     "output_type": "execute_result"
    }
   ],
   "source": [
    "new_df.head()"
   ]
  },
  {
   "cell_type": "code",
   "execution_count": 12,
   "metadata": {},
   "outputs": [
    {
     "name": "stdout",
     "output_type": "stream",
     "text": [
      "['thumbnail_url', 'medium_url', 'xl_picture_url', 'host_acceptance_rate', 'neighbourhood_group_cleansed', 'square_feet', 'weekly_price', 'monthly_price', 'license']\n"
     ]
    }
   ],
   "source": [
    "print(greater_than_60)"
   ]
  },
  {
   "cell_type": "code",
   "execution_count": 13,
   "metadata": {
    "scrolled": true
   },
   "outputs": [
    {
     "name": "stdout",
     "output_type": "stream",
     "text": [
      "['id', 'listing_url', 'scrape_id', 'last_scraped', 'name', 'summary', 'space', 'description', 'experiences_offered', 'neighborhood_overview', 'notes', 'transit', 'access', 'interaction', 'house_rules', 'picture_url', 'host_id', 'host_url', 'host_name', 'host_since', 'host_location', 'host_about', 'host_response_time', 'host_response_rate', 'host_is_superhost', 'host_thumbnail_url', 'host_picture_url', 'host_neighbourhood', 'host_listings_count', 'host_total_listings_count', 'host_verifications', 'host_has_profile_pic', 'host_identity_verified', 'street', 'neighbourhood', 'neighbourhood_cleansed', 'city', 'state', 'zipcode', 'market', 'smart_location', 'country_code', 'country', 'latitude', 'longitude', 'is_location_exact', 'property_type', 'room_type', 'accommodates', 'bathrooms', 'bedrooms', 'beds', 'bed_type', 'amenities', 'price', 'security_deposit', 'cleaning_fee', 'guests_included', 'extra_people', 'minimum_nights', 'maximum_nights', 'minimum_minimum_nights', 'maximum_minimum_nights', 'minimum_maximum_nights', 'maximum_maximum_nights', 'minimum_nights_avg_ntm', 'maximum_nights_avg_ntm', 'calendar_updated', 'has_availability', 'availability_30', 'availability_60', 'availability_90', 'availability_365', 'calendar_last_scraped', 'number_of_reviews', 'number_of_reviews_ltm', 'first_review', 'last_review', 'review_scores_rating', 'review_scores_accuracy', 'review_scores_cleanliness', 'review_scores_checkin', 'review_scores_communication', 'review_scores_location', 'review_scores_value', 'requires_license', 'jurisdiction_names', 'instant_bookable', 'is_business_travel_ready', 'cancellation_policy', 'require_guest_profile_picture', 'require_guest_phone_verification', 'calculated_host_listings_count', 'calculated_host_listings_count_entire_homes', 'calculated_host_listings_count_private_rooms', 'calculated_host_listings_count_shared_rooms', 'reviews_per_month']\n"
     ]
    }
   ],
   "source": [
    "print(less_than_60)"
   ]
  },
  {
   "cell_type": "code",
   "execution_count": 14,
   "metadata": {},
   "outputs": [
    {
     "name": "stdout",
     "output_type": "stream",
     "text": [
      "['summary', 'space', 'description', 'neighborhood_overview', 'notes', 'transit', 'access', 'interaction', 'house_rules', 'host_name', 'host_since', 'host_location', 'host_about', 'host_response_time', 'host_response_rate', 'host_is_superhost', 'host_thumbnail_url', 'host_picture_url', 'host_neighbourhood', 'host_listings_count', 'host_total_listings_count', 'host_has_profile_pic', 'host_identity_verified', 'neighbourhood', 'state', 'zipcode', 'market', 'bathrooms', 'bedrooms', 'beds', 'security_deposit', 'cleaning_fee', 'first_review', 'last_review', 'review_scores_rating', 'review_scores_accuracy', 'review_scores_cleanliness', 'review_scores_checkin', 'review_scores_communication', 'review_scores_location', 'review_scores_value', 'jurisdiction_names', 'reviews_per_month']\n"
     ]
    }
   ],
   "source": [
    "#Which other columns has missing values from the less than 60% missing data\n",
    "missing_col_list = list(new_df.columns[new_df.isnull().any()])\n",
    "print(missing_col_list)"
   ]
  },
  {
   "cell_type": "code",
   "execution_count": 15,
   "metadata": {},
   "outputs": [
    {
     "data": {
      "text/plain": [
       "<matplotlib.axes._subplots.AxesSubplot at 0x2925b9c7e48>"
      ]
     },
     "execution_count": 15,
     "metadata": {},
     "output_type": "execute_result"
    },
    {
     "data": {
      "image/png": "[encoded data removed]",
      "text/plain": [
       "<Figure size 432x288 with 1 Axes>"
      ]
     },
     "metadata": {
      "needs_background": "light"
     },
     "output_type": "display_data"
    }
   ],
   "source": [
    "#Heat map showing the visualization image of missing values belows in white for the columns as shown in x-axis\n",
    "#missingdata_df = new_df.columns[new_df.isnull().any()].tolist()\n",
    "sns.heatmap(new_df.isnull(), cbar=False)"
   ]
  },
  {
   "cell_type": "code",
   "execution_count": 16,
   "metadata": {},
   "outputs": [
    {
     "name": "stdout",
     "output_type": "stream",
     "text": [
      "43\n"
     ]
    }
   ],
   "source": [
    "#Total columns that has missing values\n",
    "print(len(missing_col_list))"
   ]
  },
  {
   "cell_type": "markdown",
   "metadata": {},
   "source": [
    "Columns that need to be removed - has missing values and are categorical\n",
    "summary, space, description , neighborhood_overview , notes , transit , access , interaction , house_rules , host_name , host_about , host_response_time , host_thumbnail_url', 'host_picture_url', 'host_has_profile_pic , host_identity_verified , first_review, last_review , jurisdiction_names ,  "
   ]
  },
  {
   "cell_type": "markdown",
   "metadata": {},
   "source": [
    "## RQ2) Which Services or Information about the room can be ignored for predicting the price❓\n"
   ]
  },
  {
   "cell_type": "code",
   "execution_count": 17,
   "metadata": {},
   "outputs": [],
   "source": [
    "#Dropping the columns consisting of Text Data\n",
    "new_df = new_df.drop(columns=['summary', 'space', 'description' , 'neighborhood_overview' , 'notes' , 'transit' , 'access' , 'interaction' , 'house_rules' , 'host_name' , 'host_about' , 'host_response_time' , 'host_thumbnail_url', 'host_picture_url', 'host_has_profile_pic' , 'host_identity_verified' , 'first_review' , 'last_review' , 'jurisdiction_names', 'host_since', 'host_neighbourhood' , 'neighbourhood','calendar_updated','calendar_last_scraped','requires_license','is_business_travel_ready','listing_url','scrape_id','last_scraped','name','picture_url','host_url','host_location','host_verifications','street','neighbourhood_cleansed','state','market','smart_location','country','experiences_offered','id','host_id','experiences_offered','zipcode'])"
   ]
  },
  {
   "cell_type": "code",
   "execution_count": 18,
   "metadata": {},
   "outputs": [
    {
     "data": {
      "text/plain": [
       "(13574, 53)"
      ]
     },
     "execution_count": 18,
     "metadata": {},
     "output_type": "execute_result"
    }
   ],
   "source": [
    "new_df.shape"
   ]
  },
  {
   "cell_type": "code",
   "execution_count": 19,
   "metadata": {},
   "outputs": [
    {
     "name": "stdout",
     "output_type": "stream",
     "text": [
      "['host_response_rate', 'host_is_superhost', 'host_listings_count', 'host_total_listings_count', 'bathrooms', 'bedrooms', 'beds', 'security_deposit', 'cleaning_fee', 'review_scores_rating', 'review_scores_accuracy', 'review_scores_cleanliness', 'review_scores_checkin', 'review_scores_communication', 'review_scores_location', 'review_scores_value', 'reviews_per_month']\n"
     ]
    }
   ],
   "source": [
    "#Checking the missing column list which contains missing values\n",
    "missing_col_list = list(new_df.columns[new_df.isnull().any()])\n",
    "print(missing_col_list)"
   ]
  },
  {
   "cell_type": "code",
   "execution_count": 20,
   "metadata": {},
   "outputs": [
    {
     "name": "stdout",
     "output_type": "stream",
     "text": [
      "17\n"
     ]
    }
   ],
   "source": [
    "#Total columns that has missing values remaining\n",
    "print(len(missing_col_list))"
   ]
  },
  {
   "cell_type": "markdown",
   "metadata": {},
   "source": [
    "Missing Values Imputation\n",
    "#host_location\n",
    "#host_response_rate\n",
    "#state\n",
    "#zipcode\n",
    "\n",
    "#host_listings_count  = 0\n",
    "#host_total_listings_count  = 0\n",
    "#host_is_superhost =  max\n",
    "#market = San Diego\n",
    "\n",
    "#Average\n",
    "#bathrooms                       4\n",
    "#bedrooms                         15\n",
    "#beds                             17\n",
    "#security_deposit               2706\n",
    "#cleaning_fee                   1485\n",
    "#review_scores_rating           2304\n",
    "#review_scores_accuracy         2308\n",
    "#review_scores_cleanliness      2306\n",
    "#review_scores_checkin          2317\n",
    "#review_scores_communication    2308\n",
    "#review_scores_location         2317\n",
    "#review_scores_value            2319\n"
   ]
  },
  {
   "cell_type": "code",
   "execution_count": 21,
   "metadata": {},
   "outputs": [
    {
     "data": {
      "text/plain": [
       "bathrooms                      float64\n",
       "bedrooms                       float64\n",
       "beds                           float64\n",
       "security_deposit                object\n",
       "cleaning_fee                    object\n",
       "review_scores_rating           float64\n",
       "review_scores_accuracy         float64\n",
       "review_scores_cleanliness      float64\n",
       "review_scores_checkin          float64\n",
       "review_scores_communication    float64\n",
       "review_scores_location         float64\n",
       "review_scores_value            float64\n",
       "dtype: object"
      ]
     },
     "execution_count": 21,
     "metadata": {},
     "output_type": "execute_result"
    }
   ],
   "source": [
    "#Checking the datatype of the columns\n",
    "values=['bathrooms','bedrooms','beds','security_deposit','cleaning_fee','review_scores_rating','review_scores_accuracy','review_scores_cleanliness','review_scores_checkin','review_scores_communication','review_scores_location','review_scores_value']\n",
    "new_df[values].dtypes"
   ]
  },
  {
   "cell_type": "code",
   "execution_count": 22,
   "metadata": {},
   "outputs": [],
   "source": [
    "#Remove $ sign from the column and convert into float\n",
    "new_df['security_deposit'] = new_df['security_deposit'].str.replace(r'\\D', '').astype(float)"
   ]
  },
  {
   "cell_type": "code",
   "execution_count": 23,
   "metadata": {},
   "outputs": [],
   "source": [
    "#Remove $ sign from the column and convert into float\n",
    "new_df['cleaning_fee'] = new_df['cleaning_fee'].str.replace(r'\\D', '').astype(float)\n"
   ]
  },
  {
   "cell_type": "code",
   "execution_count": 24,
   "metadata": {},
   "outputs": [],
   "source": [
    "#Remove $ sign from the column and convert into float\n",
    "new_df['price'] = new_df['price'].str.replace(r'\\D', '').astype(float)"
   ]
  },
  {
   "cell_type": "code",
   "execution_count": 25,
   "metadata": {},
   "outputs": [],
   "source": [
    "#Remove % sign from the column and convert into float\n",
    "new_df['extra_people'] = new_df['extra_people'].str.replace(r'\\D', '').astype(float)"
   ]
  },
  {
   "cell_type": "code",
   "execution_count": 26,
   "metadata": {},
   "outputs": [],
   "source": [
    "#Remove % sign from the column and convert into float\n",
    "new_df['host_response_rate'] = new_df['host_response_rate'].str.replace(r'\\D', '').astype(float)"
   ]
  },
  {
   "cell_type": "code",
   "execution_count": 27,
   "metadata": {},
   "outputs": [],
   "source": [
    "#new_df['zipcode'] = new_df['zipcode'].str.replace(r'\\D', '').astype(float)"
   ]
  },
  {
   "cell_type": "code",
   "execution_count": 28,
   "metadata": {},
   "outputs": [
    {
     "data": {
      "text/plain": [
       "bathrooms                      float64\n",
       "bedrooms                       float64\n",
       "beds                           float64\n",
       "security_deposit               float64\n",
       "cleaning_fee                   float64\n",
       "review_scores_rating           float64\n",
       "review_scores_accuracy         float64\n",
       "review_scores_cleanliness      float64\n",
       "review_scores_checkin          float64\n",
       "review_scores_communication    float64\n",
       "review_scores_location         float64\n",
       "review_scores_value            float64\n",
       "dtype: object"
      ]
     },
     "execution_count": 28,
     "metadata": {},
     "output_type": "execute_result"
    }
   ],
   "source": [
    "new_df[values].dtypes"
   ]
  },
  {
   "cell_type": "code",
   "execution_count": 29,
   "metadata": {},
   "outputs": [],
   "source": [
    "#Filling the missing values with the means values for particular columns in their rows where data is missing\n",
    "values=['bathrooms','bedrooms','beds','review_scores_rating', 'reviews_per_month']\n",
    "for i in values:\n",
    "    mean_values = round(new_df[i].mean())\n",
    "    new_df[i].fillna(mean_values, inplace=True)  "
   ]
  },
  {
   "cell_type": "code",
   "execution_count": 30,
   "metadata": {},
   "outputs": [],
   "source": [
    "#Dropping columns due to multicollinearity and similar values and also data that is unnecessary(latitude,longitude)\n",
    "new_df.drop(['review_scores_accuracy','review_scores_cleanliness','review_scores_checkin','review_scores_communication','review_scores_location','review_scores_value','minimum_minimum_nights','maximum_minimum_nights','minimum_maximum_nights','maximum_maximum_nights','minimum_nights_avg_ntm','maximum_nights_avg_ntm','number_of_reviews_ltm','latitude','longitude'],axis=1,inplace=True)"
   ]
  },
  {
   "cell_type": "code",
   "execution_count": 31,
   "metadata": {},
   "outputs": [
    {
     "data": {
      "text/plain": [
       "SimpleImputer(add_indicator=False, copy=True, fill_value=None,\n",
       "              missing_values=nan, strategy='most_frequent', verbose=0)"
      ]
     },
     "execution_count": 31,
     "metadata": {},
     "output_type": "execute_result"
    }
   ],
   "source": [
    "#Imputing cleaning fee using Simple Imputer\n",
    "imputer=SimpleImputer(missing_values=np.nan, strategy='most_frequent')\n",
    "imputer.fit(new_df['cleaning_fee'].values.reshape(-1, 1))\n",
    "new_df['cleaning_fee'] = imputer.transform(new_df['cleaning_fee'].values.reshape(-1, 1))"
   ]
  },
  {
   "cell_type": "code",
   "execution_count": 32,
   "metadata": {},
   "outputs": [
    {
     "data": {
      "text/plain": [
       "SimpleImputer(add_indicator=False, copy=True, fill_value=None,\n",
       "              missing_values=nan, strategy='most_frequent', verbose=0)"
      ]
     },
     "execution_count": 32,
     "metadata": {},
     "output_type": "execute_result"
    }
   ],
   "source": [
    "#Imputing security deposit using Simple Imputer\n",
    "imputer.fit(new_df['security_deposit'].values.reshape(-1, 1))\n",
    "new_df['security_deposit'] = imputer.transform(new_df['security_deposit'].values.reshape(-1, 1))"
   ]
  },
  {
   "cell_type": "code",
   "execution_count": 33,
   "metadata": {},
   "outputs": [],
   "source": [
    "new_df = new_df.dropna(subset = ['host_response_rate'], how='any', axis=0)"
   ]
  },
  {
   "cell_type": "code",
   "execution_count": 34,
   "metadata": {},
   "outputs": [
    {
     "data": {
      "text/plain": [
       "host_response_rate                              0\n",
       "host_is_superhost                               0\n",
       "host_listings_count                             0\n",
       "host_total_listings_count                       0\n",
       "city                                            0\n",
       "country_code                                    0\n",
       "is_location_exact                               0\n",
       "property_type                                   0\n",
       "room_type                                       0\n",
       "accommodates                                    0\n",
       "bathrooms                                       0\n",
       "bedrooms                                        0\n",
       "beds                                            0\n",
       "bed_type                                        0\n",
       "amenities                                       0\n",
       "price                                           0\n",
       "security_deposit                                0\n",
       "cleaning_fee                                    0\n",
       "guests_included                                 0\n",
       "extra_people                                    0\n",
       "minimum_nights                                  0\n",
       "maximum_nights                                  0\n",
       "has_availability                                0\n",
       "availability_30                                 0\n",
       "availability_60                                 0\n",
       "availability_90                                 0\n",
       "availability_365                                0\n",
       "number_of_reviews                               0\n",
       "review_scores_rating                            0\n",
       "instant_bookable                                0\n",
       "cancellation_policy                             0\n",
       "require_guest_profile_picture                   0\n",
       "require_guest_phone_verification                0\n",
       "calculated_host_listings_count                  0\n",
       "calculated_host_listings_count_entire_homes     0\n",
       "calculated_host_listings_count_private_rooms    0\n",
       "calculated_host_listings_count_shared_rooms     0\n",
       "reviews_per_month                               0\n",
       "dtype: int64"
      ]
     },
     "execution_count": 34,
     "metadata": {},
     "output_type": "execute_result"
    }
   ],
   "source": [
    "new_df.isnull().sum()"
   ]
  },
  {
   "cell_type": "code",
   "execution_count": 35,
   "metadata": {},
   "outputs": [],
   "source": [
    "#Fill host_listings_count with value =0\n",
    "#Fill host_total_listings_count with value =0\n",
    "#host_is_superhost =  mode\n",
    "#market = San Diego\n",
    "new_df['host_listings_count'].fillna(0, inplace=True)\n",
    "new_df['host_total_listings_count'].fillna(0, inplace=True)"
   ]
  },
  {
   "cell_type": "code",
   "execution_count": 36,
   "metadata": {},
   "outputs": [],
   "source": [
    "#Fill host_is_superhost with mode value in the column\n",
    "mode_value = new_df['host_is_superhost'].mode()\n",
    "new_df['host_is_superhost'].fillna(mode_value, inplace=True)  "
   ]
  },
  {
   "cell_type": "code",
   "execution_count": 37,
   "metadata": {},
   "outputs": [
    {
     "name": "stdout",
     "output_type": "stream",
     "text": [
      "0\n"
     ]
    }
   ],
   "source": [
    "missing_col_list = list(new_df.columns[new_df.isnull().any()])\n",
    "print(len(missing_col_list))"
   ]
  },
  {
   "cell_type": "code",
   "execution_count": 38,
   "metadata": {
    "scrolled": true
   },
   "outputs": [],
   "source": [
    "#Numerical columns in the data\n",
    "for col in new_df.columns:\n",
    "    if len(new_df[col].value_counts()) == 2 and 1 in new_df[col] \\\n",
    "       or col.find(\"_id\") > -1 or col.find(\"id\") > -1: \n",
    "        new_df[col] = new_df[col].astype(\"category\")\n",
    "    "
   ]
  },
  {
   "cell_type": "code",
   "execution_count": 39,
   "metadata": {},
   "outputs": [
    {
     "name": "stdout",
     "output_type": "stream",
     "text": [
      "['host_response_rate', 'host_listings_count', 'host_total_listings_count', 'accommodates', 'bathrooms', 'bedrooms', 'beds', 'price', 'security_deposit', 'cleaning_fee', 'guests_included', 'extra_people', 'minimum_nights', 'maximum_nights', 'availability_30', 'availability_60', 'availability_90', 'availability_365', 'number_of_reviews', 'review_scores_rating', 'calculated_host_listings_count', 'calculated_host_listings_count_entire_homes', 'calculated_host_listings_count_private_rooms', 'calculated_host_listings_count_shared_rooms', 'reviews_per_month']\n"
     ]
    }
   ],
   "source": [
    "numeric_cols = [col for col in new_df.columns if ptypes.is_numeric_dtype(new_df[col])]\n",
    "print(numeric_cols)"
   ]
  },
  {
   "cell_type": "code",
   "execution_count": 40,
   "metadata": {},
   "outputs": [],
   "source": [
    "dfnums = new_df[numeric_cols]\n",
    "cor = dfnums.corr()"
   ]
  },
  {
   "cell_type": "code",
   "execution_count": 41,
   "metadata": {},
   "outputs": [
    {
     "data": {
      "text/plain": [
       "<matplotlib.axes._subplots.AxesSubplot at 0x2925f9b3708>"
      ]
     },
     "execution_count": 41,
     "metadata": {},
     "output_type": "execute_result"
    },
    {
     "data": {
      "image/png": "[encoded data removed]",
      "text/plain": [
       "<Figure size 1080x1080 with 2 Axes>"
      ]
     },
     "metadata": {
      "needs_background": "light"
     },
     "output_type": "display_data"
    }
   ],
   "source": [
    "#Correlation visualization using heatmap\n",
    "mask = np.triu(np.ones_like(cor, dtype=np.bool))\n",
    "cmap = sns.diverging_palette(220, 10, as_cmap=True)\n",
    "\n",
    "f, ax = plt.subplots(figsize=(15, 15))\n",
    "\n",
    "# Draw the heatmap with the mask and correct aspect ratio\n",
    "sns.heatmap(cor, mask=mask, cmap=cmap, vmax=.3, center=0,\n",
    "            square=True, linewidths=.5, cbar_kws={\"shrink\": .5})"
   ]
  },
  {
   "cell_type": "code",
   "execution_count": 42,
   "metadata": {},
   "outputs": [],
   "source": [
    "#Performing Data Transformation on the categorical variables"
   ]
  },
  {
   "cell_type": "code",
   "execution_count": 43,
   "metadata": {},
   "outputs": [],
   "source": [
    "convert_to_0_1 = lambda x: 1 if x=='t' else 0\n",
    "new_df['instant_bookable'] = new_df['instant_bookable'].apply(convert_to_0_1)\n",
    "new_df['instant_bookable'] = new_df['instant_bookable'].astype(int)"
   ]
  },
  {
   "cell_type": "code",
   "execution_count": 44,
   "metadata": {},
   "outputs": [],
   "source": [
    "new_df['require_guest_profile_picture'] = new_df['require_guest_profile_picture'].apply(convert_to_0_1)\n",
    "new_df['require_guest_profile_picture'] = new_df['require_guest_profile_picture'].astype(int)"
   ]
  },
  {
   "cell_type": "code",
   "execution_count": 45,
   "metadata": {},
   "outputs": [],
   "source": [
    "new_df['is_location_exact'] = new_df['is_location_exact'].apply(convert_to_0_1)\n",
    "new_df['is_location_exact'] = new_df['is_location_exact'].astype(int)"
   ]
  },
  {
   "cell_type": "code",
   "execution_count": 46,
   "metadata": {},
   "outputs": [],
   "source": [
    "new_df['host_is_superhost'] = new_df['host_is_superhost'].apply(convert_to_0_1)\n",
    "new_df['host_is_superhost'] = new_df['host_is_superhost'].astype(int)"
   ]
  },
  {
   "cell_type": "code",
   "execution_count": 47,
   "metadata": {},
   "outputs": [],
   "source": [
    "new_df['has_availability'] = new_df['has_availability'].apply(convert_to_0_1)\n",
    "new_df['has_availability'] = new_df['has_availability'].astype(int)"
   ]
  },
  {
   "cell_type": "code",
   "execution_count": 48,
   "metadata": {},
   "outputs": [],
   "source": [
    "change_name_San_Deigo = lambda x: 'San Diego' if x=='Ocean Beach' or x=='San Diego' or x=='Ocean Beach, San Diego' or x=='San Deigo' or x=='San Diego County' or x=='San Diego, California, US' or x=='Gas lamp San Diego' or x=='SAN DIEGO' or x=='San DIego' or x=='San Diego ' or x==' San Diego' else x\n",
    "new_df['city'] = new_df['city'].apply(change_name_San_Deigo)"
   ]
  },
  {
   "cell_type": "code",
   "execution_count": 49,
   "metadata": {},
   "outputs": [],
   "source": [
    "change_name_Mission = lambda x: 'Mission Bay' if x=='Mission Beach' else x\n",
    "new_df['city'] = new_df['city'].apply(change_name_Mission)"
   ]
  },
  {
   "cell_type": "code",
   "execution_count": 50,
   "metadata": {},
   "outputs": [],
   "source": [
    "change_name_La = lambda x: 'La Jolla ' if x=='La Jolla Cove' or x=='LA JOLLA' or x=='La Jolla '  else x\n",
    "new_df['city'] = new_df['city'].apply(change_name_La)"
   ]
  },
  {
   "cell_type": "code",
   "execution_count": 51,
   "metadata": {},
   "outputs": [],
   "source": [
    "change_name_Del = lambda x: 'Del Mar' if x=='Del Mar Highlands ' else x\n",
    "new_df['city'] = new_df['city'].apply(change_name_Del)"
   ]
  },
  {
   "cell_type": "code",
   "execution_count": 52,
   "metadata": {},
   "outputs": [],
   "source": [
    "change_name_Chal = lambda x: 'Chula Vista' if x=='Chula Vista ' else x\n",
    "new_df['city'] = new_df['city'].apply(change_name_Chal)"
   ]
  },
  {
   "cell_type": "code",
   "execution_count": 53,
   "metadata": {},
   "outputs": [],
   "source": [
    "x=[]\n",
    "for i in new_df['amenities']:\n",
    "    x.append(len(i))"
   ]
  },
  {
   "cell_type": "code",
   "execution_count": 54,
   "metadata": {},
   "outputs": [],
   "source": [
    "new_df['len_amenities']=pd.Series(x).values"
   ]
  },
  {
   "cell_type": "code",
   "execution_count": 55,
   "metadata": {},
   "outputs": [],
   "source": [
    "basic_amenities = lambda x: 1 if x<400 else 0\n",
    "new_df['basic_amenities'] = new_df['len_amenities'].apply(basic_amenities)"
   ]
  },
  {
   "cell_type": "code",
   "execution_count": 56,
   "metadata": {},
   "outputs": [],
   "source": [
    "#Grouping different property types\n",
    "dict1 = {'Apartment':['Condominium','Timeshare','Loft','Serviced apartment','Guest suite'],\n",
    "         'House':['Vacation home','Villa','Townhouse','In-law','Casa particular (Cuba)','Guesthouse','Cottage','Dome house'],\n",
    "         'Hotel1':['Dorm','Hostel','Guesthouse','Aparthotel','Nature lodge'],\n",
    "         'Hotel2':['Hotel','Boutique hotel','Bed and breakfast'],\n",
    "         'Other':['Island','Castle','Yurt','Hut','Chalet','Treehouse',\n",
    "                  'Earth House','Tipi','Cave','Train','Parking Space','Lighthouse',\n",
    "                 'Tent','Boat','Cabin','Camper/RV','Bungalow','Tiny house','Resort','Bus','Igloo','Campsite','Barn','Farm stay']\n",
    "        }"
   ]
  },
  {
   "cell_type": "code",
   "execution_count": 57,
   "metadata": {},
   "outputs": [],
   "source": [
    "dict2 = {i : k for k, v in dict1.items() for i in v}\n",
    "new_df['property_type'].replace(dict2,inplace=True)"
   ]
  },
  {
   "cell_type": "code",
   "execution_count": 58,
   "metadata": {},
   "outputs": [
    {
     "data": {
      "text/plain": [
       "strict_14_with_grace_period    5298\n",
       "moderate                       2965\n",
       "flexible                       1916\n",
       "super_strict_60                 555\n",
       "super_strict_30                 126\n",
       "luxury_moderate                   6\n",
       "strict                            1\n",
       "Name: cancellation_policy, dtype: int64"
      ]
     },
     "execution_count": 58,
     "metadata": {},
     "output_type": "execute_result"
    }
   ],
   "source": [
    "new_df['cancellation_policy'].value_counts()"
   ]
  },
  {
   "cell_type": "code",
   "execution_count": 59,
   "metadata": {},
   "outputs": [],
   "source": [
    "#Grouping different cancellation policies\n",
    "strictness = {'strict':['strict_14_with_grace_period','super_strict_60','super_strict_30'],\n",
    "         'moderate':['luxury_moderate','Villa','Townhouse','In-law','Casa particular (Cuba)','Guesthouse','Cottage','Dome house'],\n",
    "         'flexible':['flexible']}"
   ]
  },
  {
   "cell_type": "code",
   "execution_count": 60,
   "metadata": {},
   "outputs": [],
   "source": [
    "strict2 = {i : k for k, v in strictness.items() for i in v}\n",
    "new_df['cancellation_policy'].replace(strict2,inplace=True)"
   ]
  },
  {
   "cell_type": "code",
   "execution_count": 61,
   "metadata": {},
   "outputs": [
    {
     "data": {
      "text/html": [
       "<div>\n",
       "<style scoped>\n",
       "    .dataframe tbody tr th:only-of-type {\n",
       "        vertical-align: middle;\n",
       "    }\n",
       "\n",
       "    .dataframe tbody tr th {\n",
       "        vertical-align: top;\n",
       "    }\n",
       "\n",
       "    .dataframe thead th {\n",
       "        text-align: right;\n",
       "    }\n",
       "</style>\n",
       "<table border=\"1\" class=\"dataframe\">\n",
       "  <thead>\n",
       "    <tr style=\"text-align: right;\">\n",
       "      <th></th>\n",
       "      <th>host_response_rate</th>\n",
       "      <th>host_is_superhost</th>\n",
       "      <th>host_listings_count</th>\n",
       "      <th>host_total_listings_count</th>\n",
       "      <th>city</th>\n",
       "      <th>country_code</th>\n",
       "      <th>is_location_exact</th>\n",
       "      <th>property_type</th>\n",
       "      <th>room_type</th>\n",
       "      <th>accommodates</th>\n",
       "      <th>bathrooms</th>\n",
       "      <th>bedrooms</th>\n",
       "      <th>beds</th>\n",
       "      <th>bed_type</th>\n",
       "      <th>amenities</th>\n",
       "      <th>price</th>\n",
       "      <th>security_deposit</th>\n",
       "      <th>cleaning_fee</th>\n",
       "      <th>guests_included</th>\n",
       "      <th>extra_people</th>\n",
       "      <th>minimum_nights</th>\n",
       "      <th>maximum_nights</th>\n",
       "      <th>has_availability</th>\n",
       "      <th>availability_30</th>\n",
       "      <th>availability_60</th>\n",
       "      <th>availability_90</th>\n",
       "      <th>availability_365</th>\n",
       "      <th>number_of_reviews</th>\n",
       "      <th>review_scores_rating</th>\n",
       "      <th>instant_bookable</th>\n",
       "      <th>cancellation_policy</th>\n",
       "      <th>require_guest_profile_picture</th>\n",
       "      <th>require_guest_phone_verification</th>\n",
       "      <th>calculated_host_listings_count</th>\n",
       "      <th>calculated_host_listings_count_entire_homes</th>\n",
       "      <th>calculated_host_listings_count_private_rooms</th>\n",
       "      <th>calculated_host_listings_count_shared_rooms</th>\n",
       "      <th>reviews_per_month</th>\n",
       "      <th>len_amenities</th>\n",
       "      <th>basic_amenities</th>\n",
       "    </tr>\n",
       "  </thead>\n",
       "  <tbody>\n",
       "    <tr>\n",
       "      <th>0</th>\n",
       "      <td>100.0</td>\n",
       "      <td>0</td>\n",
       "      <td>3.0</td>\n",
       "      <td>3.0</td>\n",
       "      <td>San Diego</td>\n",
       "      <td>US</td>\n",
       "      <td>1</td>\n",
       "      <td>Apartment</td>\n",
       "      <td>Entire home/apt</td>\n",
       "      <td>6</td>\n",
       "      <td>1.0</td>\n",
       "      <td>2.0</td>\n",
       "      <td>4.0</td>\n",
       "      <td>Real Bed</td>\n",
       "      <td>{TV,\"Cable TV\",Internet,Wifi,Kitchen,\"Free par...</td>\n",
       "      <td>205000.0</td>\n",
       "      <td>50000.0</td>\n",
       "      <td>15000.0</td>\n",
       "      <td>1</td>\n",
       "      <td>0.0</td>\n",
       "      <td>3</td>\n",
       "      <td>365</td>\n",
       "      <td>1</td>\n",
       "      <td>12</td>\n",
       "      <td>20</td>\n",
       "      <td>31</td>\n",
       "      <td>176</td>\n",
       "      <td>0</td>\n",
       "      <td>95.0</td>\n",
       "      <td>0</td>\n",
       "      <td>strict</td>\n",
       "      <td>0</td>\n",
       "      <td>f</td>\n",
       "      <td>2</td>\n",
       "      <td>2</td>\n",
       "      <td>0</td>\n",
       "      <td>0</td>\n",
       "      <td>2.00</td>\n",
       "      <td>370</td>\n",
       "      <td>1</td>\n",
       "    </tr>\n",
       "    <tr>\n",
       "      <th>1</th>\n",
       "      <td>100.0</td>\n",
       "      <td>0</td>\n",
       "      <td>4.0</td>\n",
       "      <td>4.0</td>\n",
       "      <td>San Diego</td>\n",
       "      <td>US</td>\n",
       "      <td>1</td>\n",
       "      <td>House</td>\n",
       "      <td>Entire home/apt</td>\n",
       "      <td>5</td>\n",
       "      <td>2.0</td>\n",
       "      <td>3.0</td>\n",
       "      <td>3.0</td>\n",
       "      <td>Real Bed</td>\n",
       "      <td>{TV,Internet,Wifi,Kitchen,\"Free parking on pre...</td>\n",
       "      <td>22500.0</td>\n",
       "      <td>30000.0</td>\n",
       "      <td>17500.0</td>\n",
       "      <td>4</td>\n",
       "      <td>5000.0</td>\n",
       "      <td>3</td>\n",
       "      <td>1125</td>\n",
       "      <td>1</td>\n",
       "      <td>6</td>\n",
       "      <td>20</td>\n",
       "      <td>42</td>\n",
       "      <td>218</td>\n",
       "      <td>40</td>\n",
       "      <td>97.0</td>\n",
       "      <td>0</td>\n",
       "      <td>strict</td>\n",
       "      <td>1</td>\n",
       "      <td>t</td>\n",
       "      <td>2</td>\n",
       "      <td>2</td>\n",
       "      <td>0</td>\n",
       "      <td>0</td>\n",
       "      <td>0.36</td>\n",
       "      <td>558</td>\n",
       "      <td>0</td>\n",
       "    </tr>\n",
       "    <tr>\n",
       "      <th>2</th>\n",
       "      <td>100.0</td>\n",
       "      <td>0</td>\n",
       "      <td>6.0</td>\n",
       "      <td>6.0</td>\n",
       "      <td>San Diego</td>\n",
       "      <td>US</td>\n",
       "      <td>1</td>\n",
       "      <td>Other</td>\n",
       "      <td>Entire home/apt</td>\n",
       "      <td>8</td>\n",
       "      <td>2.0</td>\n",
       "      <td>2.0</td>\n",
       "      <td>3.0</td>\n",
       "      <td>Real Bed</td>\n",
       "      <td>{TV,\"Cable TV\",Internet,Wifi,Kitchen,\"Free par...</td>\n",
       "      <td>22500.0</td>\n",
       "      <td>25000.0</td>\n",
       "      <td>8000.0</td>\n",
       "      <td>6</td>\n",
       "      <td>1500.0</td>\n",
       "      <td>4</td>\n",
       "      <td>365</td>\n",
       "      <td>1</td>\n",
       "      <td>0</td>\n",
       "      <td>0</td>\n",
       "      <td>0</td>\n",
       "      <td>234</td>\n",
       "      <td>60</td>\n",
       "      <td>98.0</td>\n",
       "      <td>0</td>\n",
       "      <td>moderate</td>\n",
       "      <td>0</td>\n",
       "      <td>f</td>\n",
       "      <td>5</td>\n",
       "      <td>5</td>\n",
       "      <td>0</td>\n",
       "      <td>0</td>\n",
       "      <td>0.53</td>\n",
       "      <td>372</td>\n",
       "      <td>1</td>\n",
       "    </tr>\n",
       "    <tr>\n",
       "      <th>3</th>\n",
       "      <td>100.0</td>\n",
       "      <td>0</td>\n",
       "      <td>3.0</td>\n",
       "      <td>3.0</td>\n",
       "      <td>San Diego</td>\n",
       "      <td>US</td>\n",
       "      <td>1</td>\n",
       "      <td>House</td>\n",
       "      <td>Private room</td>\n",
       "      <td>1</td>\n",
       "      <td>1.0</td>\n",
       "      <td>1.0</td>\n",
       "      <td>1.0</td>\n",
       "      <td>Real Bed</td>\n",
       "      <td>{TV,\"Cable TV\",Internet,Wifi,\"Air conditioning...</td>\n",
       "      <td>7500.0</td>\n",
       "      <td>10000.0</td>\n",
       "      <td>1600.0</td>\n",
       "      <td>1</td>\n",
       "      <td>1000.0</td>\n",
       "      <td>1</td>\n",
       "      <td>21</td>\n",
       "      <td>1</td>\n",
       "      <td>0</td>\n",
       "      <td>1</td>\n",
       "      <td>31</td>\n",
       "      <td>306</td>\n",
       "      <td>143</td>\n",
       "      <td>86.0</td>\n",
       "      <td>0</td>\n",
       "      <td>moderate</td>\n",
       "      <td>1</td>\n",
       "      <td>t</td>\n",
       "      <td>3</td>\n",
       "      <td>0</td>\n",
       "      <td>3</td>\n",
       "      <td>0</td>\n",
       "      <td>1.28</td>\n",
       "      <td>496</td>\n",
       "      <td>0</td>\n",
       "    </tr>\n",
       "    <tr>\n",
       "      <th>4</th>\n",
       "      <td>100.0</td>\n",
       "      <td>1</td>\n",
       "      <td>1.0</td>\n",
       "      <td>1.0</td>\n",
       "      <td>San Diego</td>\n",
       "      <td>US</td>\n",
       "      <td>1</td>\n",
       "      <td>Other</td>\n",
       "      <td>Entire home/apt</td>\n",
       "      <td>2</td>\n",
       "      <td>1.0</td>\n",
       "      <td>1.0</td>\n",
       "      <td>1.0</td>\n",
       "      <td>Real Bed</td>\n",
       "      <td>{Internet,Wifi,Pool,Kitchen,\"Pets live on this...</td>\n",
       "      <td>7400.0</td>\n",
       "      <td>0.0</td>\n",
       "      <td>2500.0</td>\n",
       "      <td>1</td>\n",
       "      <td>0.0</td>\n",
       "      <td>3</td>\n",
       "      <td>7</td>\n",
       "      <td>1</td>\n",
       "      <td>16</td>\n",
       "      <td>37</td>\n",
       "      <td>61</td>\n",
       "      <td>319</td>\n",
       "      <td>384</td>\n",
       "      <td>98.0</td>\n",
       "      <td>0</td>\n",
       "      <td>strict</td>\n",
       "      <td>1</td>\n",
       "      <td>f</td>\n",
       "      <td>1</td>\n",
       "      <td>1</td>\n",
       "      <td>0</td>\n",
       "      <td>0</td>\n",
       "      <td>3.38</td>\n",
       "      <td>514</td>\n",
       "      <td>0</td>\n",
       "    </tr>\n",
       "    <tr>\n",
       "      <th>...</th>\n",
       "      <td>...</td>\n",
       "      <td>...</td>\n",
       "      <td>...</td>\n",
       "      <td>...</td>\n",
       "      <td>...</td>\n",
       "      <td>...</td>\n",
       "      <td>...</td>\n",
       "      <td>...</td>\n",
       "      <td>...</td>\n",
       "      <td>...</td>\n",
       "      <td>...</td>\n",
       "      <td>...</td>\n",
       "      <td>...</td>\n",
       "      <td>...</td>\n",
       "      <td>...</td>\n",
       "      <td>...</td>\n",
       "      <td>...</td>\n",
       "      <td>...</td>\n",
       "      <td>...</td>\n",
       "      <td>...</td>\n",
       "      <td>...</td>\n",
       "      <td>...</td>\n",
       "      <td>...</td>\n",
       "      <td>...</td>\n",
       "      <td>...</td>\n",
       "      <td>...</td>\n",
       "      <td>...</td>\n",
       "      <td>...</td>\n",
       "      <td>...</td>\n",
       "      <td>...</td>\n",
       "      <td>...</td>\n",
       "      <td>...</td>\n",
       "      <td>...</td>\n",
       "      <td>...</td>\n",
       "      <td>...</td>\n",
       "      <td>...</td>\n",
       "      <td>...</td>\n",
       "      <td>...</td>\n",
       "      <td>...</td>\n",
       "      <td>...</td>\n",
       "    </tr>\n",
       "    <tr>\n",
       "      <th>13566</th>\n",
       "      <td>100.0</td>\n",
       "      <td>1</td>\n",
       "      <td>5.0</td>\n",
       "      <td>5.0</td>\n",
       "      <td>San Diego</td>\n",
       "      <td>US</td>\n",
       "      <td>1</td>\n",
       "      <td>House</td>\n",
       "      <td>Entire home/apt</td>\n",
       "      <td>4</td>\n",
       "      <td>2.0</td>\n",
       "      <td>2.0</td>\n",
       "      <td>3.0</td>\n",
       "      <td>Real Bed</td>\n",
       "      <td>{Internet,Wifi,\"Air conditioning\",Kitchen,\"Fre...</td>\n",
       "      <td>52900.0</td>\n",
       "      <td>0.0</td>\n",
       "      <td>0.0</td>\n",
       "      <td>4</td>\n",
       "      <td>0.0</td>\n",
       "      <td>3</td>\n",
       "      <td>1125</td>\n",
       "      <td>1</td>\n",
       "      <td>20</td>\n",
       "      <td>40</td>\n",
       "      <td>67</td>\n",
       "      <td>331</td>\n",
       "      <td>0</td>\n",
       "      <td>95.0</td>\n",
       "      <td>1</td>\n",
       "      <td>strict</td>\n",
       "      <td>0</td>\n",
       "      <td>f</td>\n",
       "      <td>5</td>\n",
       "      <td>5</td>\n",
       "      <td>0</td>\n",
       "      <td>0</td>\n",
       "      <td>2.00</td>\n",
       "      <td>286</td>\n",
       "      <td>1</td>\n",
       "    </tr>\n",
       "    <tr>\n",
       "      <th>13567</th>\n",
       "      <td>100.0</td>\n",
       "      <td>1</td>\n",
       "      <td>5.0</td>\n",
       "      <td>5.0</td>\n",
       "      <td>San Diego</td>\n",
       "      <td>US</td>\n",
       "      <td>1</td>\n",
       "      <td>House</td>\n",
       "      <td>Entire home/apt</td>\n",
       "      <td>8</td>\n",
       "      <td>2.0</td>\n",
       "      <td>3.0</td>\n",
       "      <td>5.0</td>\n",
       "      <td>Real Bed</td>\n",
       "      <td>{Internet,Wifi,\"Air conditioning\",\"Free parkin...</td>\n",
       "      <td>67900.0</td>\n",
       "      <td>0.0</td>\n",
       "      <td>0.0</td>\n",
       "      <td>8</td>\n",
       "      <td>0.0</td>\n",
       "      <td>3</td>\n",
       "      <td>1125</td>\n",
       "      <td>1</td>\n",
       "      <td>14</td>\n",
       "      <td>25</td>\n",
       "      <td>55</td>\n",
       "      <td>296</td>\n",
       "      <td>0</td>\n",
       "      <td>95.0</td>\n",
       "      <td>1</td>\n",
       "      <td>strict</td>\n",
       "      <td>0</td>\n",
       "      <td>f</td>\n",
       "      <td>5</td>\n",
       "      <td>5</td>\n",
       "      <td>0</td>\n",
       "      <td>0</td>\n",
       "      <td>2.00</td>\n",
       "      <td>145</td>\n",
       "      <td>1</td>\n",
       "    </tr>\n",
       "    <tr>\n",
       "      <th>13568</th>\n",
       "      <td>99.0</td>\n",
       "      <td>0</td>\n",
       "      <td>408.0</td>\n",
       "      <td>408.0</td>\n",
       "      <td>La Jolla</td>\n",
       "      <td>US</td>\n",
       "      <td>0</td>\n",
       "      <td>House</td>\n",
       "      <td>Entire home/apt</td>\n",
       "      <td>12</td>\n",
       "      <td>6.5</td>\n",
       "      <td>5.0</td>\n",
       "      <td>6.0</td>\n",
       "      <td>Real Bed</td>\n",
       "      <td>{TV,\"Cable TV\",Internet,Wifi,\"Air conditioning...</td>\n",
       "      <td>344300.0</td>\n",
       "      <td>100000.0</td>\n",
       "      <td>0.0</td>\n",
       "      <td>12</td>\n",
       "      <td>0.0</td>\n",
       "      <td>1</td>\n",
       "      <td>1125</td>\n",
       "      <td>1</td>\n",
       "      <td>0</td>\n",
       "      <td>0</td>\n",
       "      <td>0</td>\n",
       "      <td>0</td>\n",
       "      <td>0</td>\n",
       "      <td>95.0</td>\n",
       "      <td>1</td>\n",
       "      <td>strict</td>\n",
       "      <td>0</td>\n",
       "      <td>f</td>\n",
       "      <td>189</td>\n",
       "      <td>189</td>\n",
       "      <td>0</td>\n",
       "      <td>0</td>\n",
       "      <td>2.00</td>\n",
       "      <td>249</td>\n",
       "      <td>1</td>\n",
       "    </tr>\n",
       "    <tr>\n",
       "      <th>13572</th>\n",
       "      <td>91.0</td>\n",
       "      <td>0</td>\n",
       "      <td>0.0</td>\n",
       "      <td>0.0</td>\n",
       "      <td>San Diego</td>\n",
       "      <td>US</td>\n",
       "      <td>1</td>\n",
       "      <td>Apartment</td>\n",
       "      <td>Entire home/apt</td>\n",
       "      <td>2</td>\n",
       "      <td>1.0</td>\n",
       "      <td>1.0</td>\n",
       "      <td>0.0</td>\n",
       "      <td>Real Bed</td>\n",
       "      <td>{TV,\"Cable TV\",Wifi,\"Air conditioning\",Kitchen...</td>\n",
       "      <td>7200.0</td>\n",
       "      <td>0.0</td>\n",
       "      <td>4000.0</td>\n",
       "      <td>1</td>\n",
       "      <td>0.0</td>\n",
       "      <td>2</td>\n",
       "      <td>1125</td>\n",
       "      <td>1</td>\n",
       "      <td>21</td>\n",
       "      <td>51</td>\n",
       "      <td>81</td>\n",
       "      <td>81</td>\n",
       "      <td>0</td>\n",
       "      <td>95.0</td>\n",
       "      <td>1</td>\n",
       "      <td>flexible</td>\n",
       "      <td>0</td>\n",
       "      <td>f</td>\n",
       "      <td>2</td>\n",
       "      <td>2</td>\n",
       "      <td>0</td>\n",
       "      <td>0</td>\n",
       "      <td>2.00</td>\n",
       "      <td>460</td>\n",
       "      <td>0</td>\n",
       "    </tr>\n",
       "    <tr>\n",
       "      <th>13573</th>\n",
       "      <td>100.0</td>\n",
       "      <td>1</td>\n",
       "      <td>3.0</td>\n",
       "      <td>3.0</td>\n",
       "      <td>San Diego</td>\n",
       "      <td>US</td>\n",
       "      <td>1</td>\n",
       "      <td>Apartment</td>\n",
       "      <td>Private room</td>\n",
       "      <td>2</td>\n",
       "      <td>1.0</td>\n",
       "      <td>1.0</td>\n",
       "      <td>1.0</td>\n",
       "      <td>Real Bed</td>\n",
       "      <td>{TV,Internet,Wifi,Kitchen,\"Free parking on pre...</td>\n",
       "      <td>6000.0</td>\n",
       "      <td>0.0</td>\n",
       "      <td>4000.0</td>\n",
       "      <td>1</td>\n",
       "      <td>0.0</td>\n",
       "      <td>1</td>\n",
       "      <td>1125</td>\n",
       "      <td>1</td>\n",
       "      <td>28</td>\n",
       "      <td>58</td>\n",
       "      <td>88</td>\n",
       "      <td>88</td>\n",
       "      <td>0</td>\n",
       "      <td>95.0</td>\n",
       "      <td>0</td>\n",
       "      <td>moderate</td>\n",
       "      <td>0</td>\n",
       "      <td>f</td>\n",
       "      <td>3</td>\n",
       "      <td>0</td>\n",
       "      <td>3</td>\n",
       "      <td>0</td>\n",
       "      <td>2.00</td>\n",
       "      <td>457</td>\n",
       "      <td>0</td>\n",
       "    </tr>\n",
       "  </tbody>\n",
       "</table>\n",
       "<p>10867 rows × 40 columns</p>\n",
       "</div>"
      ],
      "text/plain": [
       "       host_response_rate  host_is_superhost  host_listings_count  \\\n",
       "0                   100.0                  0                  3.0   \n",
       "1                   100.0                  0                  4.0   \n",
       "2                   100.0                  0                  6.0   \n",
       "3                   100.0                  0                  3.0   \n",
       "4                   100.0                  1                  1.0   \n",
       "...                   ...                ...                  ...   \n",
       "13566               100.0                  1                  5.0   \n",
       "13567               100.0                  1                  5.0   \n",
       "13568                99.0                  0                408.0   \n",
       "13572                91.0                  0                  0.0   \n",
       "13573               100.0                  1                  3.0   \n",
       "\n",
       "       host_total_listings_count       city country_code  is_location_exact  \\\n",
       "0                            3.0  San Diego           US                  1   \n",
       "1                            4.0  San Diego           US                  1   \n",
       "2                            6.0  San Diego           US                  1   \n",
       "3                            3.0  San Diego           US                  1   \n",
       "4                            1.0  San Diego           US                  1   \n",
       "...                          ...        ...          ...                ...   \n",
       "13566                        5.0  San Diego           US                  1   \n",
       "13567                        5.0  San Diego           US                  1   \n",
       "13568                      408.0   La Jolla           US                  0   \n",
       "13572                        0.0  San Diego           US                  1   \n",
       "13573                        3.0  San Diego           US                  1   \n",
       "\n",
       "      property_type        room_type  accommodates  bathrooms  bedrooms  beds  \\\n",
       "0         Apartment  Entire home/apt             6        1.0       2.0   4.0   \n",
       "1             House  Entire home/apt             5        2.0       3.0   3.0   \n",
       "2             Other  Entire home/apt             8        2.0       2.0   3.0   \n",
       "3             House     Private room             1        1.0       1.0   1.0   \n",
       "4             Other  Entire home/apt             2        1.0       1.0   1.0   \n",
       "...             ...              ...           ...        ...       ...   ...   \n",
       "13566         House  Entire home/apt             4        2.0       2.0   3.0   \n",
       "13567         House  Entire home/apt             8        2.0       3.0   5.0   \n",
       "13568         House  Entire home/apt            12        6.5       5.0   6.0   \n",
       "13572     Apartment  Entire home/apt             2        1.0       1.0   0.0   \n",
       "13573     Apartment     Private room             2        1.0       1.0   1.0   \n",
       "\n",
       "       bed_type                                          amenities     price  \\\n",
       "0      Real Bed  {TV,\"Cable TV\",Internet,Wifi,Kitchen,\"Free par...  205000.0   \n",
       "1      Real Bed  {TV,Internet,Wifi,Kitchen,\"Free parking on pre...   22500.0   \n",
       "2      Real Bed  {TV,\"Cable TV\",Internet,Wifi,Kitchen,\"Free par...   22500.0   \n",
       "3      Real Bed  {TV,\"Cable TV\",Internet,Wifi,\"Air conditioning...    7500.0   \n",
       "4      Real Bed  {Internet,Wifi,Pool,Kitchen,\"Pets live on this...    7400.0   \n",
       "...         ...                                                ...       ...   \n",
       "13566  Real Bed  {Internet,Wifi,\"Air conditioning\",Kitchen,\"Fre...   52900.0   \n",
       "13567  Real Bed  {Internet,Wifi,\"Air conditioning\",\"Free parkin...   67900.0   \n",
       "13568  Real Bed  {TV,\"Cable TV\",Internet,Wifi,\"Air conditioning...  344300.0   \n",
       "13572  Real Bed  {TV,\"Cable TV\",Wifi,\"Air conditioning\",Kitchen...    7200.0   \n",
       "13573  Real Bed  {TV,Internet,Wifi,Kitchen,\"Free parking on pre...    6000.0   \n",
       "\n",
       "       security_deposit  cleaning_fee  guests_included  extra_people  \\\n",
       "0               50000.0       15000.0                1           0.0   \n",
       "1               30000.0       17500.0                4        5000.0   \n",
       "2               25000.0        8000.0                6        1500.0   \n",
       "3               10000.0        1600.0                1        1000.0   \n",
       "4                   0.0        2500.0                1           0.0   \n",
       "...                 ...           ...              ...           ...   \n",
       "13566               0.0           0.0                4           0.0   \n",
       "13567               0.0           0.0                8           0.0   \n",
       "13568          100000.0           0.0               12           0.0   \n",
       "13572               0.0        4000.0                1           0.0   \n",
       "13573               0.0        4000.0                1           0.0   \n",
       "\n",
       "       minimum_nights  maximum_nights  has_availability  availability_30  \\\n",
       "0                   3             365                 1               12   \n",
       "1                   3            1125                 1                6   \n",
       "2                   4             365                 1                0   \n",
       "3                   1              21                 1                0   \n",
       "4                   3               7                 1               16   \n",
       "...               ...             ...               ...              ...   \n",
       "13566               3            1125                 1               20   \n",
       "13567               3            1125                 1               14   \n",
       "13568               1            1125                 1                0   \n",
       "13572               2            1125                 1               21   \n",
       "13573               1            1125                 1               28   \n",
       "\n",
       "       availability_60  availability_90  availability_365  number_of_reviews  \\\n",
       "0                   20               31               176                  0   \n",
       "1                   20               42               218                 40   \n",
       "2                    0                0               234                 60   \n",
       "3                    1               31               306                143   \n",
       "4                   37               61               319                384   \n",
       "...                ...              ...               ...                ...   \n",
       "13566               40               67               331                  0   \n",
       "13567               25               55               296                  0   \n",
       "13568                0                0                 0                  0   \n",
       "13572               51               81                81                  0   \n",
       "13573               58               88                88                  0   \n",
       "\n",
       "       review_scores_rating  instant_bookable cancellation_policy  \\\n",
       "0                      95.0                 0              strict   \n",
       "1                      97.0                 0              strict   \n",
       "2                      98.0                 0            moderate   \n",
       "3                      86.0                 0            moderate   \n",
       "4                      98.0                 0              strict   \n",
       "...                     ...               ...                 ...   \n",
       "13566                  95.0                 1              strict   \n",
       "13567                  95.0                 1              strict   \n",
       "13568                  95.0                 1              strict   \n",
       "13572                  95.0                 1            flexible   \n",
       "13573                  95.0                 0            moderate   \n",
       "\n",
       "       require_guest_profile_picture require_guest_phone_verification  \\\n",
       "0                                  0                                f   \n",
       "1                                  1                                t   \n",
       "2                                  0                                f   \n",
       "3                                  1                                t   \n",
       "4                                  1                                f   \n",
       "...                              ...                              ...   \n",
       "13566                              0                                f   \n",
       "13567                              0                                f   \n",
       "13568                              0                                f   \n",
       "13572                              0                                f   \n",
       "13573                              0                                f   \n",
       "\n",
       "       calculated_host_listings_count  \\\n",
       "0                                   2   \n",
       "1                                   2   \n",
       "2                                   5   \n",
       "3                                   3   \n",
       "4                                   1   \n",
       "...                               ...   \n",
       "13566                               5   \n",
       "13567                               5   \n",
       "13568                             189   \n",
       "13572                               2   \n",
       "13573                               3   \n",
       "\n",
       "       calculated_host_listings_count_entire_homes  \\\n",
       "0                                                2   \n",
       "1                                                2   \n",
       "2                                                5   \n",
       "3                                                0   \n",
       "4                                                1   \n",
       "...                                            ...   \n",
       "13566                                            5   \n",
       "13567                                            5   \n",
       "13568                                          189   \n",
       "13572                                            2   \n",
       "13573                                            0   \n",
       "\n",
       "       calculated_host_listings_count_private_rooms  \\\n",
       "0                                                 0   \n",
       "1                                                 0   \n",
       "2                                                 0   \n",
       "3                                                 3   \n",
       "4                                                 0   \n",
       "...                                             ...   \n",
       "13566                                             0   \n",
       "13567                                             0   \n",
       "13568                                             0   \n",
       "13572                                             0   \n",
       "13573                                             3   \n",
       "\n",
       "       calculated_host_listings_count_shared_rooms  reviews_per_month  \\\n",
       "0                                                0               2.00   \n",
       "1                                                0               0.36   \n",
       "2                                                0               0.53   \n",
       "3                                                0               1.28   \n",
       "4                                                0               3.38   \n",
       "...                                            ...                ...   \n",
       "13566                                            0               2.00   \n",
       "13567                                            0               2.00   \n",
       "13568                                            0               2.00   \n",
       "13572                                            0               2.00   \n",
       "13573                                            0               2.00   \n",
       "\n",
       "       len_amenities  basic_amenities  \n",
       "0                370                1  \n",
       "1                558                0  \n",
       "2                372                1  \n",
       "3                496                0  \n",
       "4                514                0  \n",
       "...              ...              ...  \n",
       "13566            286                1  \n",
       "13567            145                1  \n",
       "13568            249                1  \n",
       "13572            460                0  \n",
       "13573            457                0  \n",
       "\n",
       "[10867 rows x 40 columns]"
      ]
     },
     "execution_count": 61,
     "metadata": {},
     "output_type": "execute_result"
    }
   ],
   "source": [
    "new_df"
   ]
  },
  {
   "cell_type": "markdown",
   "metadata": {},
   "source": [
    "## RQ1) Which all Services or Information affects the price of Airbnb Rooms in San Diego❓\n"
   ]
  },
  {
   "cell_type": "code",
   "execution_count": 62,
   "metadata": {},
   "outputs": [
    {
     "data": {
      "text/plain": [
       "Index(['host_response_rate', 'host_is_superhost', 'host_listings_count',\n",
       "       'host_total_listings_count', 'city', 'country_code',\n",
       "       'is_location_exact', 'property_type', 'room_type', 'accommodates',\n",
       "       'bathrooms', 'bedrooms', 'beds', 'bed_type', 'amenities', 'price',\n",
       "       'security_deposit', 'cleaning_fee', 'guests_included', 'extra_people',\n",
       "       'minimum_nights', 'maximum_nights', 'has_availability',\n",
       "       'availability_30', 'availability_60', 'availability_90',\n",
       "       'availability_365', 'number_of_reviews', 'review_scores_rating',\n",
       "       'instant_bookable', 'cancellation_policy',\n",
       "       'require_guest_profile_picture', 'require_guest_phone_verification',\n",
       "       'calculated_host_listings_count',\n",
       "       'calculated_host_listings_count_entire_homes',\n",
       "       'calculated_host_listings_count_private_rooms',\n",
       "       'calculated_host_listings_count_shared_rooms', 'reviews_per_month',\n",
       "       'len_amenities', 'basic_amenities'],\n",
       "      dtype='object')"
      ]
     },
     "execution_count": 62,
     "metadata": {},
     "output_type": "execute_result"
    }
   ],
   "source": [
    "new_df.columns"
   ]
  },
  {
   "cell_type": "code",
   "execution_count": 63,
   "metadata": {},
   "outputs": [],
   "source": [
    "#Creating dummy variables\n",
    "property_type = pd.get_dummies(new_df['property_type'],drop_first=True)\n",
    "room_type = pd.get_dummies(new_df['room_type'],drop_first=True)\n",
    "bed_type = pd.get_dummies(new_df['bed_type'],drop_first=True)\n",
    "cancellation_policy = pd.get_dummies(new_df['cancellation_policy'],drop_first=True)\n",
    "require_guest_phone_verification = pd.get_dummies(new_df['require_guest_phone_verification'],drop_first=True)\n",
    "country_type = pd.get_dummies(new_df['country_code'],drop_first=True)\n",
    "city_type = pd.get_dummies(new_df['city'],drop_first=True)"
   ]
  },
  {
   "cell_type": "code",
   "execution_count": 64,
   "metadata": {},
   "outputs": [],
   "source": [
    "new_df.drop(['property_type','room_type','bed_type','cancellation_policy','require_guest_phone_verification','country_code','city','amenities','len_amenities'],axis=1,inplace=True)"
   ]
  },
  {
   "cell_type": "code",
   "execution_count": 65,
   "metadata": {},
   "outputs": [],
   "source": [
    "new_df = pd.concat([new_df,property_type,room_type,bed_type,cancellation_policy,require_guest_phone_verification,country_type,city_type],axis=1)"
   ]
  },
  {
   "cell_type": "code",
   "execution_count": 66,
   "metadata": {},
   "outputs": [
    {
     "data": {
      "text/html": [
       "<div>\n",
       "<style scoped>\n",
       "    .dataframe tbody tr th:only-of-type {\n",
       "        vertical-align: middle;\n",
       "    }\n",
       "\n",
       "    .dataframe tbody tr th {\n",
       "        vertical-align: top;\n",
       "    }\n",
       "\n",
       "    .dataframe thead th {\n",
       "        text-align: right;\n",
       "    }\n",
       "</style>\n",
       "<table border=\"1\" class=\"dataframe\">\n",
       "  <thead>\n",
       "    <tr style=\"text-align: right;\">\n",
       "      <th></th>\n",
       "      <th>host_response_rate</th>\n",
       "      <th>host_is_superhost</th>\n",
       "      <th>host_listings_count</th>\n",
       "      <th>host_total_listings_count</th>\n",
       "      <th>is_location_exact</th>\n",
       "      <th>accommodates</th>\n",
       "      <th>bathrooms</th>\n",
       "      <th>bedrooms</th>\n",
       "      <th>beds</th>\n",
       "      <th>price</th>\n",
       "      <th>security_deposit</th>\n",
       "      <th>cleaning_fee</th>\n",
       "      <th>guests_included</th>\n",
       "      <th>extra_people</th>\n",
       "      <th>minimum_nights</th>\n",
       "      <th>maximum_nights</th>\n",
       "      <th>has_availability</th>\n",
       "      <th>availability_30</th>\n",
       "      <th>availability_60</th>\n",
       "      <th>availability_90</th>\n",
       "      <th>availability_365</th>\n",
       "      <th>number_of_reviews</th>\n",
       "      <th>review_scores_rating</th>\n",
       "      <th>instant_bookable</th>\n",
       "      <th>require_guest_profile_picture</th>\n",
       "      <th>calculated_host_listings_count</th>\n",
       "      <th>calculated_host_listings_count_entire_homes</th>\n",
       "      <th>calculated_host_listings_count_private_rooms</th>\n",
       "      <th>calculated_host_listings_count_shared_rooms</th>\n",
       "      <th>reviews_per_month</th>\n",
       "      <th>basic_amenities</th>\n",
       "      <th>Earth house</th>\n",
       "      <th>Hotel1</th>\n",
       "      <th>Hotel2</th>\n",
       "      <th>House</th>\n",
       "      <th>Other</th>\n",
       "      <th>Hotel room</th>\n",
       "      <th>Private room</th>\n",
       "      <th>Shared room</th>\n",
       "      <th>Couch</th>\n",
       "      <th>Futon</th>\n",
       "      <th>Pull-out Sofa</th>\n",
       "      <th>Real Bed</th>\n",
       "      <th>moderate</th>\n",
       "      <th>strict</th>\n",
       "      <th>t</th>\n",
       "      <th>US</th>\n",
       "      <th>Ajijic</th>\n",
       "      <th>Alpine</th>\n",
       "      <th>Bonita</th>\n",
       "      <th>CA</th>\n",
       "      <th>Chula Vista</th>\n",
       "      <th>Coronado</th>\n",
       "      <th>Del Mar</th>\n",
       "      <th>Escondido</th>\n",
       "      <th>Imperial Beach</th>\n",
       "      <th>La Jolla</th>\n",
       "      <th>La Jolla</th>\n",
       "      <th>La Mesa</th>\n",
       "      <th>Lemon Grove</th>\n",
       "      <th>Mission Bay</th>\n",
       "      <th>National City</th>\n",
       "      <th>San Diego</th>\n",
       "      <th>San Diego, CA, United States</th>\n",
       "      <th>Santee</th>\n",
       "      <th>Solana Beach</th>\n",
       "      <th>Sugarloaf</th>\n",
       "      <th>Tijuana</th>\n",
       "    </tr>\n",
       "  </thead>\n",
       "  <tbody>\n",
       "    <tr>\n",
       "      <th>count</th>\n",
       "      <td>10867.000000</td>\n",
       "      <td>10867.000000</td>\n",
       "      <td>10867.000000</td>\n",
       "      <td>10867.000000</td>\n",
       "      <td>10867.000000</td>\n",
       "      <td>10867.000000</td>\n",
       "      <td>10867.000000</td>\n",
       "      <td>10867.000000</td>\n",
       "      <td>10867.000000</td>\n",
       "      <td>10867.000000</td>\n",
       "      <td>10867.000000</td>\n",
       "      <td>10867.000000</td>\n",
       "      <td>10867.000000</td>\n",
       "      <td>10867.000000</td>\n",
       "      <td>10867.000000</td>\n",
       "      <td>10867.000000</td>\n",
       "      <td>10867.0</td>\n",
       "      <td>10867.000000</td>\n",
       "      <td>10867.000000</td>\n",
       "      <td>10867.000000</td>\n",
       "      <td>10867.000000</td>\n",
       "      <td>10867.000000</td>\n",
       "      <td>10867.000000</td>\n",
       "      <td>10867.000000</td>\n",
       "      <td>10867.000000</td>\n",
       "      <td>10867.000000</td>\n",
       "      <td>10867.000000</td>\n",
       "      <td>10867.000000</td>\n",
       "      <td>10867.000000</td>\n",
       "      <td>10867.000000</td>\n",
       "      <td>10867.000000</td>\n",
       "      <td>10867.000000</td>\n",
       "      <td>10867.000000</td>\n",
       "      <td>10867.000000</td>\n",
       "      <td>10867.000000</td>\n",
       "      <td>10867.000000</td>\n",
       "      <td>10867.000000</td>\n",
       "      <td>10867.000000</td>\n",
       "      <td>10867.000000</td>\n",
       "      <td>10867.000000</td>\n",
       "      <td>10867.000000</td>\n",
       "      <td>10867.000000</td>\n",
       "      <td>10867.000000</td>\n",
       "      <td>10867.000000</td>\n",
       "      <td>10867.000000</td>\n",
       "      <td>10867.000000</td>\n",
       "      <td>10867.000000</td>\n",
       "      <td>10867.000000</td>\n",
       "      <td>10867.000000</td>\n",
       "      <td>10867.000000</td>\n",
       "      <td>10867.000000</td>\n",
       "      <td>10867.000000</td>\n",
       "      <td>10867.000000</td>\n",
       "      <td>10867.000000</td>\n",
       "      <td>10867.000000</td>\n",
       "      <td>10867.000000</td>\n",
       "      <td>10867.000000</td>\n",
       "      <td>10867.000000</td>\n",
       "      <td>10867.000000</td>\n",
       "      <td>10867.000000</td>\n",
       "      <td>10867.000000</td>\n",
       "      <td>10867.000000</td>\n",
       "      <td>10867.000000</td>\n",
       "      <td>10867.000000</td>\n",
       "      <td>10867.000000</td>\n",
       "      <td>10867.000000</td>\n",
       "      <td>10867.000000</td>\n",
       "      <td>10867.000000</td>\n",
       "    </tr>\n",
       "    <tr>\n",
       "      <th>mean</th>\n",
       "      <td>96.861507</td>\n",
       "      <td>0.454403</td>\n",
       "      <td>52.613417</td>\n",
       "      <td>52.613417</td>\n",
       "      <td>0.778964</td>\n",
       "      <td>4.723199</td>\n",
       "      <td>1.528665</td>\n",
       "      <td>1.686114</td>\n",
       "      <td>2.490568</td>\n",
       "      <td>24178.807399</td>\n",
       "      <td>28532.575688</td>\n",
       "      <td>11110.941382</td>\n",
       "      <td>2.487531</td>\n",
       "      <td>1377.123401</td>\n",
       "      <td>4.467930</td>\n",
       "      <td>639.019601</td>\n",
       "      <td>1.0</td>\n",
       "      <td>15.452471</td>\n",
       "      <td>32.126070</td>\n",
       "      <td>51.609644</td>\n",
       "      <td>180.900248</td>\n",
       "      <td>43.670562</td>\n",
       "      <td>95.283979</td>\n",
       "      <td>0.563265</td>\n",
       "      <td>0.034048</td>\n",
       "      <td>16.249839</td>\n",
       "      <td>15.426613</td>\n",
       "      <td>0.699641</td>\n",
       "      <td>0.103800</td>\n",
       "      <td>2.274965</td>\n",
       "      <td>0.426705</td>\n",
       "      <td>0.000276</td>\n",
       "      <td>0.049876</td>\n",
       "      <td>0.009938</td>\n",
       "      <td>0.427901</td>\n",
       "      <td>0.038649</td>\n",
       "      <td>0.003497</td>\n",
       "      <td>0.222969</td>\n",
       "      <td>0.010582</td>\n",
       "      <td>0.000644</td>\n",
       "      <td>0.002024</td>\n",
       "      <td>0.002116</td>\n",
       "      <td>0.994571</td>\n",
       "      <td>0.273397</td>\n",
       "      <td>0.550290</td>\n",
       "      <td>0.040398</td>\n",
       "      <td>0.998528</td>\n",
       "      <td>0.000092</td>\n",
       "      <td>0.000184</td>\n",
       "      <td>0.000276</td>\n",
       "      <td>0.000276</td>\n",
       "      <td>0.023374</td>\n",
       "      <td>0.000092</td>\n",
       "      <td>0.006442</td>\n",
       "      <td>0.000276</td>\n",
       "      <td>0.000184</td>\n",
       "      <td>0.028251</td>\n",
       "      <td>0.001012</td>\n",
       "      <td>0.000828</td>\n",
       "      <td>0.000276</td>\n",
       "      <td>0.000552</td>\n",
       "      <td>0.000184</td>\n",
       "      <td>0.935585</td>\n",
       "      <td>0.000092</td>\n",
       "      <td>0.000184</td>\n",
       "      <td>0.000184</td>\n",
       "      <td>0.000092</td>\n",
       "      <td>0.001380</td>\n",
       "    </tr>\n",
       "    <tr>\n",
       "      <th>std</th>\n",
       "      <td>11.099862</td>\n",
       "      <td>0.497940</td>\n",
       "      <td>186.634156</td>\n",
       "      <td>186.634156</td>\n",
       "      <td>0.414964</td>\n",
       "      <td>3.181042</td>\n",
       "      <td>0.899660</td>\n",
       "      <td>1.233779</td>\n",
       "      <td>1.985633</td>\n",
       "      <td>53135.868713</td>\n",
       "      <td>48444.143889</td>\n",
       "      <td>10800.780563</td>\n",
       "      <td>2.491899</td>\n",
       "      <td>2622.362959</td>\n",
       "      <td>12.402261</td>\n",
       "      <td>1398.789239</td>\n",
       "      <td>0.0</td>\n",
       "      <td>10.273287</td>\n",
       "      <td>19.391434</td>\n",
       "      <td>29.449052</td>\n",
       "      <td>124.517740</td>\n",
       "      <td>67.378030</td>\n",
       "      <td>6.191672</td>\n",
       "      <td>0.496004</td>\n",
       "      <td>0.181361</td>\n",
       "      <td>35.221579</td>\n",
       "      <td>35.472704</td>\n",
       "      <td>1.634841</td>\n",
       "      <td>1.295297</td>\n",
       "      <td>2.031971</td>\n",
       "      <td>0.494621</td>\n",
       "      <td>0.016614</td>\n",
       "      <td>0.217698</td>\n",
       "      <td>0.099199</td>\n",
       "      <td>0.494797</td>\n",
       "      <td>0.192766</td>\n",
       "      <td>0.059033</td>\n",
       "      <td>0.416257</td>\n",
       "      <td>0.102330</td>\n",
       "      <td>0.025373</td>\n",
       "      <td>0.044951</td>\n",
       "      <td>0.045959</td>\n",
       "      <td>0.073487</td>\n",
       "      <td>0.445723</td>\n",
       "      <td>0.497487</td>\n",
       "      <td>0.196899</td>\n",
       "      <td>0.038345</td>\n",
       "      <td>0.009593</td>\n",
       "      <td>0.013566</td>\n",
       "      <td>0.016614</td>\n",
       "      <td>0.016614</td>\n",
       "      <td>0.151094</td>\n",
       "      <td>0.009593</td>\n",
       "      <td>0.080004</td>\n",
       "      <td>0.016614</td>\n",
       "      <td>0.013566</td>\n",
       "      <td>0.165696</td>\n",
       "      <td>0.031801</td>\n",
       "      <td>0.028768</td>\n",
       "      <td>0.016614</td>\n",
       "      <td>0.023492</td>\n",
       "      <td>0.013566</td>\n",
       "      <td>0.245502</td>\n",
       "      <td>0.009593</td>\n",
       "      <td>0.013566</td>\n",
       "      <td>0.013566</td>\n",
       "      <td>0.009593</td>\n",
       "      <td>0.037129</td>\n",
       "    </tr>\n",
       "    <tr>\n",
       "      <th>min</th>\n",
       "      <td>0.000000</td>\n",
       "      <td>0.000000</td>\n",
       "      <td>0.000000</td>\n",
       "      <td>0.000000</td>\n",
       "      <td>0.000000</td>\n",
       "      <td>1.000000</td>\n",
       "      <td>0.000000</td>\n",
       "      <td>0.000000</td>\n",
       "      <td>0.000000</td>\n",
       "      <td>0.000000</td>\n",
       "      <td>0.000000</td>\n",
       "      <td>0.000000</td>\n",
       "      <td>1.000000</td>\n",
       "      <td>0.000000</td>\n",
       "      <td>1.000000</td>\n",
       "      <td>1.000000</td>\n",
       "      <td>1.0</td>\n",
       "      <td>0.000000</td>\n",
       "      <td>0.000000</td>\n",
       "      <td>0.000000</td>\n",
       "      <td>0.000000</td>\n",
       "      <td>0.000000</td>\n",
       "      <td>20.000000</td>\n",
       "      <td>0.000000</td>\n",
       "      <td>0.000000</td>\n",
       "      <td>1.000000</td>\n",
       "      <td>0.000000</td>\n",
       "      <td>0.000000</td>\n",
       "      <td>0.000000</td>\n",
       "      <td>0.010000</td>\n",
       "      <td>0.000000</td>\n",
       "      <td>0.000000</td>\n",
       "      <td>0.000000</td>\n",
       "      <td>0.000000</td>\n",
       "      <td>0.000000</td>\n",
       "      <td>0.000000</td>\n",
       "      <td>0.000000</td>\n",
       "      <td>0.000000</td>\n",
       "      <td>0.000000</td>\n",
       "      <td>0.000000</td>\n",
       "      <td>0.000000</td>\n",
       "      <td>0.000000</td>\n",
       "      <td>0.000000</td>\n",
       "      <td>0.000000</td>\n",
       "      <td>0.000000</td>\n",
       "      <td>0.000000</td>\n",
       "      <td>0.000000</td>\n",
       "      <td>0.000000</td>\n",
       "      <td>0.000000</td>\n",
       "      <td>0.000000</td>\n",
       "      <td>0.000000</td>\n",
       "      <td>0.000000</td>\n",
       "      <td>0.000000</td>\n",
       "      <td>0.000000</td>\n",
       "      <td>0.000000</td>\n",
       "      <td>0.000000</td>\n",
       "      <td>0.000000</td>\n",
       "      <td>0.000000</td>\n",
       "      <td>0.000000</td>\n",
       "      <td>0.000000</td>\n",
       "      <td>0.000000</td>\n",
       "      <td>0.000000</td>\n",
       "      <td>0.000000</td>\n",
       "      <td>0.000000</td>\n",
       "      <td>0.000000</td>\n",
       "      <td>0.000000</td>\n",
       "      <td>0.000000</td>\n",
       "      <td>0.000000</td>\n",
       "    </tr>\n",
       "    <tr>\n",
       "      <th>25%</th>\n",
       "      <td>99.000000</td>\n",
       "      <td>0.000000</td>\n",
       "      <td>1.000000</td>\n",
       "      <td>1.000000</td>\n",
       "      <td>1.000000</td>\n",
       "      <td>2.000000</td>\n",
       "      <td>1.000000</td>\n",
       "      <td>1.000000</td>\n",
       "      <td>1.000000</td>\n",
       "      <td>8500.000000</td>\n",
       "      <td>0.000000</td>\n",
       "      <td>4500.000000</td>\n",
       "      <td>1.000000</td>\n",
       "      <td>0.000000</td>\n",
       "      <td>1.000000</td>\n",
       "      <td>30.000000</td>\n",
       "      <td>1.0</td>\n",
       "      <td>6.000000</td>\n",
       "      <td>18.000000</td>\n",
       "      <td>29.000000</td>\n",
       "      <td>68.000000</td>\n",
       "      <td>3.000000</td>\n",
       "      <td>94.000000</td>\n",
       "      <td>0.000000</td>\n",
       "      <td>0.000000</td>\n",
       "      <td>1.000000</td>\n",
       "      <td>1.000000</td>\n",
       "      <td>0.000000</td>\n",
       "      <td>0.000000</td>\n",
       "      <td>0.680000</td>\n",
       "      <td>0.000000</td>\n",
       "      <td>0.000000</td>\n",
       "      <td>0.000000</td>\n",
       "      <td>0.000000</td>\n",
       "      <td>0.000000</td>\n",
       "      <td>0.000000</td>\n",
       "      <td>0.000000</td>\n",
       "      <td>0.000000</td>\n",
       "      <td>0.000000</td>\n",
       "      <td>0.000000</td>\n",
       "      <td>0.000000</td>\n",
       "      <td>0.000000</td>\n",
       "      <td>1.000000</td>\n",
       "      <td>0.000000</td>\n",
       "      <td>0.000000</td>\n",
       "      <td>0.000000</td>\n",
       "      <td>1.000000</td>\n",
       "      <td>0.000000</td>\n",
       "      <td>0.000000</td>\n",
       "      <td>0.000000</td>\n",
       "      <td>0.000000</td>\n",
       "      <td>0.000000</td>\n",
       "      <td>0.000000</td>\n",
       "      <td>0.000000</td>\n",
       "      <td>0.000000</td>\n",
       "      <td>0.000000</td>\n",
       "      <td>0.000000</td>\n",
       "      <td>0.000000</td>\n",
       "      <td>0.000000</td>\n",
       "      <td>0.000000</td>\n",
       "      <td>0.000000</td>\n",
       "      <td>0.000000</td>\n",
       "      <td>1.000000</td>\n",
       "      <td>0.000000</td>\n",
       "      <td>0.000000</td>\n",
       "      <td>0.000000</td>\n",
       "      <td>0.000000</td>\n",
       "      <td>0.000000</td>\n",
       "    </tr>\n",
       "    <tr>\n",
       "      <th>50%</th>\n",
       "      <td>100.000000</td>\n",
       "      <td>0.000000</td>\n",
       "      <td>3.000000</td>\n",
       "      <td>3.000000</td>\n",
       "      <td>1.000000</td>\n",
       "      <td>4.000000</td>\n",
       "      <td>1.000000</td>\n",
       "      <td>1.000000</td>\n",
       "      <td>2.000000</td>\n",
       "      <td>13900.000000</td>\n",
       "      <td>15000.000000</td>\n",
       "      <td>7900.000000</td>\n",
       "      <td>1.000000</td>\n",
       "      <td>0.000000</td>\n",
       "      <td>2.000000</td>\n",
       "      <td>1100.000000</td>\n",
       "      <td>1.0</td>\n",
       "      <td>17.000000</td>\n",
       "      <td>35.000000</td>\n",
       "      <td>58.000000</td>\n",
       "      <td>170.000000</td>\n",
       "      <td>17.000000</td>\n",
       "      <td>96.000000</td>\n",
       "      <td>1.000000</td>\n",
       "      <td>0.000000</td>\n",
       "      <td>3.000000</td>\n",
       "      <td>2.000000</td>\n",
       "      <td>0.000000</td>\n",
       "      <td>0.000000</td>\n",
       "      <td>2.000000</td>\n",
       "      <td>0.000000</td>\n",
       "      <td>0.000000</td>\n",
       "      <td>0.000000</td>\n",
       "      <td>0.000000</td>\n",
       "      <td>0.000000</td>\n",
       "      <td>0.000000</td>\n",
       "      <td>0.000000</td>\n",
       "      <td>0.000000</td>\n",
       "      <td>0.000000</td>\n",
       "      <td>0.000000</td>\n",
       "      <td>0.000000</td>\n",
       "      <td>0.000000</td>\n",
       "      <td>1.000000</td>\n",
       "      <td>0.000000</td>\n",
       "      <td>1.000000</td>\n",
       "      <td>0.000000</td>\n",
       "      <td>1.000000</td>\n",
       "      <td>0.000000</td>\n",
       "      <td>0.000000</td>\n",
       "      <td>0.000000</td>\n",
       "      <td>0.000000</td>\n",
       "      <td>0.000000</td>\n",
       "      <td>0.000000</td>\n",
       "      <td>0.000000</td>\n",
       "      <td>0.000000</td>\n",
       "      <td>0.000000</td>\n",
       "      <td>0.000000</td>\n",
       "      <td>0.000000</td>\n",
       "      <td>0.000000</td>\n",
       "      <td>0.000000</td>\n",
       "      <td>0.000000</td>\n",
       "      <td>0.000000</td>\n",
       "      <td>1.000000</td>\n",
       "      <td>0.000000</td>\n",
       "      <td>0.000000</td>\n",
       "      <td>0.000000</td>\n",
       "      <td>0.000000</td>\n",
       "      <td>0.000000</td>\n",
       "    </tr>\n",
       "    <tr>\n",
       "      <th>75%</th>\n",
       "      <td>100.000000</td>\n",
       "      <td>1.000000</td>\n",
       "      <td>14.000000</td>\n",
       "      <td>14.000000</td>\n",
       "      <td>1.000000</td>\n",
       "      <td>6.000000</td>\n",
       "      <td>2.000000</td>\n",
       "      <td>2.000000</td>\n",
       "      <td>3.000000</td>\n",
       "      <td>25000.000000</td>\n",
       "      <td>40000.000000</td>\n",
       "      <td>15000.000000</td>\n",
       "      <td>3.000000</td>\n",
       "      <td>2000.000000</td>\n",
       "      <td>3.000000</td>\n",
       "      <td>1125.000000</td>\n",
       "      <td>1.0</td>\n",
       "      <td>24.000000</td>\n",
       "      <td>48.000000</td>\n",
       "      <td>76.000000</td>\n",
       "      <td>308.000000</td>\n",
       "      <td>56.000000</td>\n",
       "      <td>99.000000</td>\n",
       "      <td>1.000000</td>\n",
       "      <td>0.000000</td>\n",
       "      <td>11.000000</td>\n",
       "      <td>10.000000</td>\n",
       "      <td>1.000000</td>\n",
       "      <td>0.000000</td>\n",
       "      <td>3.210000</td>\n",
       "      <td>1.000000</td>\n",
       "      <td>0.000000</td>\n",
       "      <td>0.000000</td>\n",
       "      <td>0.000000</td>\n",
       "      <td>1.000000</td>\n",
       "      <td>0.000000</td>\n",
       "      <td>0.000000</td>\n",
       "      <td>0.000000</td>\n",
       "      <td>0.000000</td>\n",
       "      <td>0.000000</td>\n",
       "      <td>0.000000</td>\n",
       "      <td>0.000000</td>\n",
       "      <td>1.000000</td>\n",
       "      <td>1.000000</td>\n",
       "      <td>1.000000</td>\n",
       "      <td>0.000000</td>\n",
       "      <td>1.000000</td>\n",
       "      <td>0.000000</td>\n",
       "      <td>0.000000</td>\n",
       "      <td>0.000000</td>\n",
       "      <td>0.000000</td>\n",
       "      <td>0.000000</td>\n",
       "      <td>0.000000</td>\n",
       "      <td>0.000000</td>\n",
       "      <td>0.000000</td>\n",
       "      <td>0.000000</td>\n",
       "      <td>0.000000</td>\n",
       "      <td>0.000000</td>\n",
       "      <td>0.000000</td>\n",
       "      <td>0.000000</td>\n",
       "      <td>0.000000</td>\n",
       "      <td>0.000000</td>\n",
       "      <td>1.000000</td>\n",
       "      <td>0.000000</td>\n",
       "      <td>0.000000</td>\n",
       "      <td>0.000000</td>\n",
       "      <td>0.000000</td>\n",
       "      <td>0.000000</td>\n",
       "    </tr>\n",
       "    <tr>\n",
       "      <th>max</th>\n",
       "      <td>100.000000</td>\n",
       "      <td>1.000000</td>\n",
       "      <td>1820.000000</td>\n",
       "      <td>1820.000000</td>\n",
       "      <td>1.000000</td>\n",
       "      <td>28.000000</td>\n",
       "      <td>14.000000</td>\n",
       "      <td>14.000000</td>\n",
       "      <td>22.000000</td>\n",
       "      <td>1000000.000000</td>\n",
       "      <td>500000.000000</td>\n",
       "      <td>102500.000000</td>\n",
       "      <td>28.000000</td>\n",
       "      <td>30000.000000</td>\n",
       "      <td>365.000000</td>\n",
       "      <td>99999.000000</td>\n",
       "      <td>1.0</td>\n",
       "      <td>30.000000</td>\n",
       "      <td>60.000000</td>\n",
       "      <td>90.000000</td>\n",
       "      <td>365.000000</td>\n",
       "      <td>819.000000</td>\n",
       "      <td>100.000000</td>\n",
       "      <td>1.000000</td>\n",
       "      <td>1.000000</td>\n",
       "      <td>189.000000</td>\n",
       "      <td>189.000000</td>\n",
       "      <td>15.000000</td>\n",
       "      <td>24.000000</td>\n",
       "      <td>14.620000</td>\n",
       "      <td>1.000000</td>\n",
       "      <td>1.000000</td>\n",
       "      <td>1.000000</td>\n",
       "      <td>1.000000</td>\n",
       "      <td>1.000000</td>\n",
       "      <td>1.000000</td>\n",
       "      <td>1.000000</td>\n",
       "      <td>1.000000</td>\n",
       "      <td>1.000000</td>\n",
       "      <td>1.000000</td>\n",
       "      <td>1.000000</td>\n",
       "      <td>1.000000</td>\n",
       "      <td>1.000000</td>\n",
       "      <td>1.000000</td>\n",
       "      <td>1.000000</td>\n",
       "      <td>1.000000</td>\n",
       "      <td>1.000000</td>\n",
       "      <td>1.000000</td>\n",
       "      <td>1.000000</td>\n",
       "      <td>1.000000</td>\n",
       "      <td>1.000000</td>\n",
       "      <td>1.000000</td>\n",
       "      <td>1.000000</td>\n",
       "      <td>1.000000</td>\n",
       "      <td>1.000000</td>\n",
       "      <td>1.000000</td>\n",
       "      <td>1.000000</td>\n",
       "      <td>1.000000</td>\n",
       "      <td>1.000000</td>\n",
       "      <td>1.000000</td>\n",
       "      <td>1.000000</td>\n",
       "      <td>1.000000</td>\n",
       "      <td>1.000000</td>\n",
       "      <td>1.000000</td>\n",
       "      <td>1.000000</td>\n",
       "      <td>1.000000</td>\n",
       "      <td>1.000000</td>\n",
       "      <td>1.000000</td>\n",
       "    </tr>\n",
       "  </tbody>\n",
       "</table>\n",
       "</div>"
      ],
      "text/plain": [
       "       host_response_rate  host_is_superhost  host_listings_count  \\\n",
       "count        10867.000000       10867.000000         10867.000000   \n",
       "mean            96.861507           0.454403            52.613417   \n",
       "std             11.099862           0.497940           186.634156   \n",
       "min              0.000000           0.000000             0.000000   \n",
       "25%             99.000000           0.000000             1.000000   \n",
       "50%            100.000000           0.000000             3.000000   \n",
       "75%            100.000000           1.000000            14.000000   \n",
       "max            100.000000           1.000000          1820.000000   \n",
       "\n",
       "       host_total_listings_count  is_location_exact  accommodates  \\\n",
       "count               10867.000000       10867.000000  10867.000000   \n",
       "mean                   52.613417           0.778964      4.723199   \n",
       "std                   186.634156           0.414964      3.181042   \n",
       "min                     0.000000           0.000000      1.000000   \n",
       "25%                     1.000000           1.000000      2.000000   \n",
       "50%                     3.000000           1.000000      4.000000   \n",
       "75%                    14.000000           1.000000      6.000000   \n",
       "max                  1820.000000           1.000000     28.000000   \n",
       "\n",
       "          bathrooms      bedrooms          beds           price  \\\n",
       "count  10867.000000  10867.000000  10867.000000    10867.000000   \n",
       "mean       1.528665      1.686114      2.490568    24178.807399   \n",
       "std        0.899660      1.233779      1.985633    53135.868713   \n",
       "min        0.000000      0.000000      0.000000        0.000000   \n",
       "25%        1.000000      1.000000      1.000000     8500.000000   \n",
       "50%        1.000000      1.000000      2.000000    13900.000000   \n",
       "75%        2.000000      2.000000      3.000000    25000.000000   \n",
       "max       14.000000     14.000000     22.000000  1000000.000000   \n",
       "\n",
       "       security_deposit   cleaning_fee  guests_included  extra_people  \\\n",
       "count      10867.000000   10867.000000     10867.000000  10867.000000   \n",
       "mean       28532.575688   11110.941382         2.487531   1377.123401   \n",
       "std        48444.143889   10800.780563         2.491899   2622.362959   \n",
       "min            0.000000       0.000000         1.000000      0.000000   \n",
       "25%            0.000000    4500.000000         1.000000      0.000000   \n",
       "50%        15000.000000    7900.000000         1.000000      0.000000   \n",
       "75%        40000.000000   15000.000000         3.000000   2000.000000   \n",
       "max       500000.000000  102500.000000        28.000000  30000.000000   \n",
       "\n",
       "       minimum_nights  maximum_nights  has_availability  availability_30  \\\n",
       "count    10867.000000    10867.000000           10867.0     10867.000000   \n",
       "mean         4.467930      639.019601               1.0        15.452471   \n",
       "std         12.402261     1398.789239               0.0        10.273287   \n",
       "min          1.000000        1.000000               1.0         0.000000   \n",
       "25%          1.000000       30.000000               1.0         6.000000   \n",
       "50%          2.000000     1100.000000               1.0        17.000000   \n",
       "75%          3.000000     1125.000000               1.0        24.000000   \n",
       "max        365.000000    99999.000000               1.0        30.000000   \n",
       "\n",
       "       availability_60  availability_90  availability_365  number_of_reviews  \\\n",
       "count     10867.000000     10867.000000      10867.000000       10867.000000   \n",
       "mean         32.126070        51.609644        180.900248          43.670562   \n",
       "std          19.391434        29.449052        124.517740          67.378030   \n",
       "min           0.000000         0.000000          0.000000           0.000000   \n",
       "25%          18.000000        29.000000         68.000000           3.000000   \n",
       "50%          35.000000        58.000000        170.000000          17.000000   \n",
       "75%          48.000000        76.000000        308.000000          56.000000   \n",
       "max          60.000000        90.000000        365.000000         819.000000   \n",
       "\n",
       "       review_scores_rating  instant_bookable  require_guest_profile_picture  \\\n",
       "count          10867.000000      10867.000000                   10867.000000   \n",
       "mean              95.283979          0.563265                       0.034048   \n",
       "std                6.191672          0.496004                       0.181361   \n",
       "min               20.000000          0.000000                       0.000000   \n",
       "25%               94.000000          0.000000                       0.000000   \n",
       "50%               96.000000          1.000000                       0.000000   \n",
       "75%               99.000000          1.000000                       0.000000   \n",
       "max              100.000000          1.000000                       1.000000   \n",
       "\n",
       "       calculated_host_listings_count  \\\n",
       "count                    10867.000000   \n",
       "mean                        16.249839   \n",
       "std                         35.221579   \n",
       "min                          1.000000   \n",
       "25%                          1.000000   \n",
       "50%                          3.000000   \n",
       "75%                         11.000000   \n",
       "max                        189.000000   \n",
       "\n",
       "       calculated_host_listings_count_entire_homes  \\\n",
       "count                                 10867.000000   \n",
       "mean                                     15.426613   \n",
       "std                                      35.472704   \n",
       "min                                       0.000000   \n",
       "25%                                       1.000000   \n",
       "50%                                       2.000000   \n",
       "75%                                      10.000000   \n",
       "max                                     189.000000   \n",
       "\n",
       "       calculated_host_listings_count_private_rooms  \\\n",
       "count                                  10867.000000   \n",
       "mean                                       0.699641   \n",
       "std                                        1.634841   \n",
       "min                                        0.000000   \n",
       "25%                                        0.000000   \n",
       "50%                                        0.000000   \n",
       "75%                                        1.000000   \n",
       "max                                       15.000000   \n",
       "\n",
       "       calculated_host_listings_count_shared_rooms  reviews_per_month  \\\n",
       "count                                 10867.000000       10867.000000   \n",
       "mean                                      0.103800           2.274965   \n",
       "std                                       1.295297           2.031971   \n",
       "min                                       0.000000           0.010000   \n",
       "25%                                       0.000000           0.680000   \n",
       "50%                                       0.000000           2.000000   \n",
       "75%                                       0.000000           3.210000   \n",
       "max                                      24.000000          14.620000   \n",
       "\n",
       "       basic_amenities   Earth house        Hotel1        Hotel2  \\\n",
       "count     10867.000000  10867.000000  10867.000000  10867.000000   \n",
       "mean          0.426705      0.000276      0.049876      0.009938   \n",
       "std           0.494621      0.016614      0.217698      0.099199   \n",
       "min           0.000000      0.000000      0.000000      0.000000   \n",
       "25%           0.000000      0.000000      0.000000      0.000000   \n",
       "50%           0.000000      0.000000      0.000000      0.000000   \n",
       "75%           1.000000      0.000000      0.000000      0.000000   \n",
       "max           1.000000      1.000000      1.000000      1.000000   \n",
       "\n",
       "              House         Other    Hotel room  Private room   Shared room  \\\n",
       "count  10867.000000  10867.000000  10867.000000  10867.000000  10867.000000   \n",
       "mean       0.427901      0.038649      0.003497      0.222969      0.010582   \n",
       "std        0.494797      0.192766      0.059033      0.416257      0.102330   \n",
       "min        0.000000      0.000000      0.000000      0.000000      0.000000   \n",
       "25%        0.000000      0.000000      0.000000      0.000000      0.000000   \n",
       "50%        0.000000      0.000000      0.000000      0.000000      0.000000   \n",
       "75%        1.000000      0.000000      0.000000      0.000000      0.000000   \n",
       "max        1.000000      1.000000      1.000000      1.000000      1.000000   \n",
       "\n",
       "              Couch         Futon  Pull-out Sofa      Real Bed      moderate  \\\n",
       "count  10867.000000  10867.000000   10867.000000  10867.000000  10867.000000   \n",
       "mean       0.000644      0.002024       0.002116      0.994571      0.273397   \n",
       "std        0.025373      0.044951       0.045959      0.073487      0.445723   \n",
       "min        0.000000      0.000000       0.000000      0.000000      0.000000   \n",
       "25%        0.000000      0.000000       0.000000      1.000000      0.000000   \n",
       "50%        0.000000      0.000000       0.000000      1.000000      0.000000   \n",
       "75%        0.000000      0.000000       0.000000      1.000000      1.000000   \n",
       "max        1.000000      1.000000       1.000000      1.000000      1.000000   \n",
       "\n",
       "             strict             t            US        Ajijic        Alpine  \\\n",
       "count  10867.000000  10867.000000  10867.000000  10867.000000  10867.000000   \n",
       "mean       0.550290      0.040398      0.998528      0.000092      0.000184   \n",
       "std        0.497487      0.196899      0.038345      0.009593      0.013566   \n",
       "min        0.000000      0.000000      0.000000      0.000000      0.000000   \n",
       "25%        0.000000      0.000000      1.000000      0.000000      0.000000   \n",
       "50%        1.000000      0.000000      1.000000      0.000000      0.000000   \n",
       "75%        1.000000      0.000000      1.000000      0.000000      0.000000   \n",
       "max        1.000000      1.000000      1.000000      1.000000      1.000000   \n",
       "\n",
       "             Bonita            CA   Chula Vista      Coronado       Del Mar  \\\n",
       "count  10867.000000  10867.000000  10867.000000  10867.000000  10867.000000   \n",
       "mean       0.000276      0.000276      0.023374      0.000092      0.006442   \n",
       "std        0.016614      0.016614      0.151094      0.009593      0.080004   \n",
       "min        0.000000      0.000000      0.000000      0.000000      0.000000   \n",
       "25%        0.000000      0.000000      0.000000      0.000000      0.000000   \n",
       "50%        0.000000      0.000000      0.000000      0.000000      0.000000   \n",
       "75%        0.000000      0.000000      0.000000      0.000000      0.000000   \n",
       "max        1.000000      1.000000      1.000000      1.000000      1.000000   \n",
       "\n",
       "          Escondido  Imperial Beach      La Jolla     La Jolla        La Mesa  \\\n",
       "count  10867.000000    10867.000000  10867.000000  10867.000000  10867.000000   \n",
       "mean       0.000276        0.000184      0.028251      0.001012      0.000828   \n",
       "std        0.016614        0.013566      0.165696      0.031801      0.028768   \n",
       "min        0.000000        0.000000      0.000000      0.000000      0.000000   \n",
       "25%        0.000000        0.000000      0.000000      0.000000      0.000000   \n",
       "50%        0.000000        0.000000      0.000000      0.000000      0.000000   \n",
       "75%        0.000000        0.000000      0.000000      0.000000      0.000000   \n",
       "max        1.000000        1.000000      1.000000      1.000000      1.000000   \n",
       "\n",
       "        Lemon Grove   Mission Bay  National City     San Diego  \\\n",
       "count  10867.000000  10867.000000   10867.000000  10867.000000   \n",
       "mean       0.000276      0.000552       0.000184      0.935585   \n",
       "std        0.016614      0.023492       0.013566      0.245502   \n",
       "min        0.000000      0.000000       0.000000      0.000000   \n",
       "25%        0.000000      0.000000       0.000000      1.000000   \n",
       "50%        0.000000      0.000000       0.000000      1.000000   \n",
       "75%        0.000000      0.000000       0.000000      1.000000   \n",
       "max        1.000000      1.000000       1.000000      1.000000   \n",
       "\n",
       "       San Diego, CA, United States        Santee  Solana Beach     Sugarloaf  \\\n",
       "count                  10867.000000  10867.000000  10867.000000  10867.000000   \n",
       "mean                       0.000092      0.000184      0.000184      0.000092   \n",
       "std                        0.009593      0.013566      0.013566      0.009593   \n",
       "min                        0.000000      0.000000      0.000000      0.000000   \n",
       "25%                        0.000000      0.000000      0.000000      0.000000   \n",
       "50%                        0.000000      0.000000      0.000000      0.000000   \n",
       "75%                        0.000000      0.000000      0.000000      0.000000   \n",
       "max                        1.000000      1.000000      1.000000      1.000000   \n",
       "\n",
       "            Tijuana  \n",
       "count  10867.000000  \n",
       "mean       0.001380  \n",
       "std        0.037129  \n",
       "min        0.000000  \n",
       "25%        0.000000  \n",
       "50%        0.000000  \n",
       "75%        0.000000  \n",
       "max        1.000000  "
      ]
     },
     "execution_count": 66,
     "metadata": {},
     "output_type": "execute_result"
    }
   ],
   "source": [
    "new_df.describe()"
   ]
  },
  {
   "cell_type": "code",
   "execution_count": 67,
   "metadata": {},
   "outputs": [],
   "source": [
    "#Checking Skewdness for visualization\n",
    "#for i in numeric_cols:\n",
    "#    plt.figure()\n",
    "#    sns.distplot(new_df[i], bins = 10)"
   ]
  },
  {
   "cell_type": "code",
   "execution_count": 68,
   "metadata": {},
   "outputs": [
    {
     "data": {
      "text/plain": [
       "<Figure size 432x288 with 0 Axes>"
      ]
     },
     "execution_count": 68,
     "metadata": {},
     "output_type": "execute_result"
    },
    {
     "data": {
      "text/plain": [
       "<matplotlib.axes._subplots.AxesSubplot at 0x292644fa888>"
      ]
     },
     "execution_count": 68,
     "metadata": {},
     "output_type": "execute_result"
    },
    {
     "data": {
      "text/plain": [
       "<Figure size 432x288 with 0 Axes>"
      ]
     },
     "execution_count": 68,
     "metadata": {},
     "output_type": "execute_result"
    },
    {
     "data": {
      "text/plain": [
       "<matplotlib.axes._subplots.AxesSubplot at 0x29264609788>"
      ]
     },
     "execution_count": 68,
     "metadata": {},
     "output_type": "execute_result"
    },
    {
     "data": {
      "text/plain": [
       "<Figure size 432x288 with 0 Axes>"
      ]
     },
     "execution_count": 68,
     "metadata": {},
     "output_type": "execute_result"
    },
    {
     "data": {
      "text/plain": [
       "<matplotlib.axes._subplots.AxesSubplot at 0x292647ced08>"
      ]
     },
     "execution_count": 68,
     "metadata": {},
     "output_type": "execute_result"
    },
    {
     "data": {
      "text/plain": [
       "<Figure size 432x288 with 0 Axes>"
      ]
     },
     "execution_count": 68,
     "metadata": {},
     "output_type": "execute_result"
    },
    {
     "data": {
      "text/plain": [
       "<matplotlib.axes._subplots.AxesSubplot at 0x2926480cfc8>"
      ]
     },
     "execution_count": 68,
     "metadata": {},
     "output_type": "execute_result"
    },
    {
     "data": {
      "text/plain": [
       "<Figure size 432x288 with 0 Axes>"
      ]
     },
     "execution_count": 68,
     "metadata": {},
     "output_type": "execute_result"
    },
    {
     "data": {
      "text/plain": [
       "<matplotlib.axes._subplots.AxesSubplot at 0x29264857048>"
      ]
     },
     "execution_count": 68,
     "metadata": {},
     "output_type": "execute_result"
    },
    {
     "data": {
      "text/plain": [
       "<Figure size 432x288 with 0 Axes>"
      ]
     },
     "execution_count": 68,
     "metadata": {},
     "output_type": "execute_result"
    },
    {
     "data": {
      "text/plain": [
       "<matplotlib.axes._subplots.AxesSubplot at 0x2926485e6c8>"
      ]
     },
     "execution_count": 68,
     "metadata": {},
     "output_type": "execute_result"
    },
    {
     "data": {
      "text/plain": [
       "<Figure size 432x288 with 0 Axes>"
      ]
     },
     "execution_count": 68,
     "metadata": {},
     "output_type": "execute_result"
    },
    {
     "data": {
      "text/plain": [
       "<matplotlib.axes._subplots.AxesSubplot at 0x292648deac8>"
      ]
     },
     "execution_count": 68,
     "metadata": {},
     "output_type": "execute_result"
    },
    {
     "data": {
      "text/plain": [
       "<Figure size 432x288 with 0 Axes>"
      ]
     },
     "execution_count": 68,
     "metadata": {},
     "output_type": "execute_result"
    },
    {
     "data": {
      "text/plain": [
       "<matplotlib.axes._subplots.AxesSubplot at 0x29264544e08>"
      ]
     },
     "execution_count": 68,
     "metadata": {},
     "output_type": "execute_result"
    },
    {
     "data": {
      "text/plain": [
       "<Figure size 432x288 with 0 Axes>"
      ]
     },
     "execution_count": 68,
     "metadata": {},
     "output_type": "execute_result"
    },
    {
     "data": {
      "text/plain": [
       "<matplotlib.axes._subplots.AxesSubplot at 0x29264be8c08>"
      ]
     },
     "execution_count": 68,
     "metadata": {},
     "output_type": "execute_result"
    },
    {
     "data": {
      "text/plain": [
       "<Figure size 432x288 with 0 Axes>"
      ]
     },
     "execution_count": 68,
     "metadata": {},
     "output_type": "execute_result"
    },
    {
     "data": {
      "text/plain": [
       "<matplotlib.axes._subplots.AxesSubplot at 0x29264c212c8>"
      ]
     },
     "execution_count": 68,
     "metadata": {},
     "output_type": "execute_result"
    },
    {
     "data": {
      "text/plain": [
       "<Figure size 432x288 with 0 Axes>"
      ]
     },
     "execution_count": 68,
     "metadata": {},
     "output_type": "execute_result"
    },
    {
     "data": {
      "text/plain": [
       "<matplotlib.axes._subplots.AxesSubplot at 0x29264c63988>"
      ]
     },
     "execution_count": 68,
     "metadata": {},
     "output_type": "execute_result"
    },
    {
     "data": {
      "text/plain": [
       "<Figure size 432x288 with 0 Axes>"
      ]
     },
     "execution_count": 68,
     "metadata": {},
     "output_type": "execute_result"
    },
    {
     "data": {
      "text/plain": [
       "<matplotlib.axes._subplots.AxesSubplot at 0x29264cb8b88>"
      ]
     },
     "execution_count": 68,
     "metadata": {},
     "output_type": "execute_result"
    },
    {
     "data": {
      "text/plain": [
       "<Figure size 432x288 with 0 Axes>"
      ]
     },
     "execution_count": 68,
     "metadata": {},
     "output_type": "execute_result"
    },
    {
     "data": {
      "text/plain": [
       "<matplotlib.axes._subplots.AxesSubplot at 0x29264ce53c8>"
      ]
     },
     "execution_count": 68,
     "metadata": {},
     "output_type": "execute_result"
    },
    {
     "data": {
      "text/plain": [
       "<Figure size 432x288 with 0 Axes>"
      ]
     },
     "execution_count": 68,
     "metadata": {},
     "output_type": "execute_result"
    },
    {
     "data": {
      "text/plain": [
       "<matplotlib.axes._subplots.AxesSubplot at 0x29264d34e48>"
      ]
     },
     "execution_count": 68,
     "metadata": {},
     "output_type": "execute_result"
    },
    {
     "data": {
      "text/plain": [
       "<Figure size 432x288 with 0 Axes>"
      ]
     },
     "execution_count": 68,
     "metadata": {},
     "output_type": "execute_result"
    },
    {
     "data": {
      "text/plain": [
       "<matplotlib.axes._subplots.AxesSubplot at 0x29264d7c508>"
      ]
     },
     "execution_count": 68,
     "metadata": {},
     "output_type": "execute_result"
    },
    {
     "data": {
      "text/plain": [
       "<Figure size 432x288 with 0 Axes>"
      ]
     },
     "execution_count": 68,
     "metadata": {},
     "output_type": "execute_result"
    },
    {
     "data": {
      "text/plain": [
       "<matplotlib.axes._subplots.AxesSubplot at 0x29264dd3f88>"
      ]
     },
     "execution_count": 68,
     "metadata": {},
     "output_type": "execute_result"
    },
    {
     "data": {
      "text/plain": [
       "<Figure size 432x288 with 0 Axes>"
      ]
     },
     "execution_count": 68,
     "metadata": {},
     "output_type": "execute_result"
    },
    {
     "data": {
      "text/plain": [
       "<matplotlib.axes._subplots.AxesSubplot at 0x29264e15208>"
      ]
     },
     "execution_count": 68,
     "metadata": {},
     "output_type": "execute_result"
    },
    {
     "data": {
      "text/plain": [
       "<Figure size 432x288 with 0 Axes>"
      ]
     },
     "execution_count": 68,
     "metadata": {},
     "output_type": "execute_result"
    },
    {
     "data": {
      "text/plain": [
       "<matplotlib.axes._subplots.AxesSubplot at 0x29264e588c8>"
      ]
     },
     "execution_count": 68,
     "metadata": {},
     "output_type": "execute_result"
    },
    {
     "data": {
      "text/plain": [
       "<Figure size 432x288 with 0 Axes>"
      ]
     },
     "execution_count": 68,
     "metadata": {},
     "output_type": "execute_result"
    },
    {
     "data": {
      "text/plain": [
       "<matplotlib.axes._subplots.AxesSubplot at 0x29264ea4d48>"
      ]
     },
     "execution_count": 68,
     "metadata": {},
     "output_type": "execute_result"
    },
    {
     "data": {
      "text/plain": [
       "<Figure size 432x288 with 0 Axes>"
      ]
     },
     "execution_count": 68,
     "metadata": {},
     "output_type": "execute_result"
    },
    {
     "data": {
      "text/plain": [
       "<matplotlib.axes._subplots.AxesSubplot at 0x29264ee5788>"
      ]
     },
     "execution_count": 68,
     "metadata": {},
     "output_type": "execute_result"
    },
    {
     "name": "stderr",
     "output_type": "stream",
     "text": [
      "C:\\Users\\Anish\\Anaconda3\\lib\\site-packages\\ipykernel_launcher.py:3: RuntimeWarning: More than 20 figures have been opened. Figures created through the pyplot interface (`matplotlib.pyplot.figure`) are retained until explicitly closed and may consume too much memory. (To control this warning, see the rcParam `figure.max_open_warning`).\n",
      "  This is separate from the ipykernel package so we can avoid doing imports until\n"
     ]
    },
    {
     "data": {
      "text/plain": [
       "<Figure size 432x288 with 0 Axes>"
      ]
     },
     "execution_count": 68,
     "metadata": {},
     "output_type": "execute_result"
    },
    {
     "data": {
      "text/plain": [
       "<matplotlib.axes._subplots.AxesSubplot at 0x29265422888>"
      ]
     },
     "execution_count": 68,
     "metadata": {},
     "output_type": "execute_result"
    },
    {
     "name": "stderr",
     "output_type": "stream",
     "text": [
      "C:\\Users\\Anish\\Anaconda3\\lib\\site-packages\\ipykernel_launcher.py:3: RuntimeWarning: More than 20 figures have been opened. Figures created through the pyplot interface (`matplotlib.pyplot.figure`) are retained until explicitly closed and may consume too much memory. (To control this warning, see the rcParam `figure.max_open_warning`).\n",
      "  This is separate from the ipykernel package so we can avoid doing imports until\n"
     ]
    },
    {
     "data": {
      "text/plain": [
       "<Figure size 432x288 with 0 Axes>"
      ]
     },
     "execution_count": 68,
     "metadata": {},
     "output_type": "execute_result"
    },
    {
     "data": {
      "text/plain": [
       "<matplotlib.axes._subplots.AxesSubplot at 0x29265477a08>"
      ]
     },
     "execution_count": 68,
     "metadata": {},
     "output_type": "execute_result"
    },
    {
     "name": "stderr",
     "output_type": "stream",
     "text": [
      "C:\\Users\\Anish\\Anaconda3\\lib\\site-packages\\ipykernel_launcher.py:3: RuntimeWarning: More than 20 figures have been opened. Figures created through the pyplot interface (`matplotlib.pyplot.figure`) are retained until explicitly closed and may consume too much memory. (To control this warning, see the rcParam `figure.max_open_warning`).\n",
      "  This is separate from the ipykernel package so we can avoid doing imports until\n"
     ]
    },
    {
     "data": {
      "text/plain": [
       "<Figure size 432x288 with 0 Axes>"
      ]
     },
     "execution_count": 68,
     "metadata": {},
     "output_type": "execute_result"
    },
    {
     "data": {
      "text/plain": [
       "<matplotlib.axes._subplots.AxesSubplot at 0x292654b8f48>"
      ]
     },
     "execution_count": 68,
     "metadata": {},
     "output_type": "execute_result"
    },
    {
     "name": "stderr",
     "output_type": "stream",
     "text": [
      "C:\\Users\\Anish\\Anaconda3\\lib\\site-packages\\ipykernel_launcher.py:3: RuntimeWarning: More than 20 figures have been opened. Figures created through the pyplot interface (`matplotlib.pyplot.figure`) are retained until explicitly closed and may consume too much memory. (To control this warning, see the rcParam `figure.max_open_warning`).\n",
      "  This is separate from the ipykernel package so we can avoid doing imports until\n"
     ]
    },
    {
     "data": {
      "text/plain": [
       "<Figure size 432x288 with 0 Axes>"
      ]
     },
     "execution_count": 68,
     "metadata": {},
     "output_type": "execute_result"
    },
    {
     "data": {
      "text/plain": [
       "<matplotlib.axes._subplots.AxesSubplot at 0x292654f2d48>"
      ]
     },
     "execution_count": 68,
     "metadata": {},
     "output_type": "execute_result"
    },
    {
     "name": "stderr",
     "output_type": "stream",
     "text": [
      "C:\\Users\\Anish\\Anaconda3\\lib\\site-packages\\ipykernel_launcher.py:3: RuntimeWarning: More than 20 figures have been opened. Figures created through the pyplot interface (`matplotlib.pyplot.figure`) are retained until explicitly closed and may consume too much memory. (To control this warning, see the rcParam `figure.max_open_warning`).\n",
      "  This is separate from the ipykernel package so we can avoid doing imports until\n"
     ]
    },
    {
     "data": {
      "text/plain": [
       "<Figure size 432x288 with 0 Axes>"
      ]
     },
     "execution_count": 68,
     "metadata": {},
     "output_type": "execute_result"
    },
    {
     "data": {
      "text/plain": [
       "<matplotlib.axes._subplots.AxesSubplot at 0x29265549dc8>"
      ]
     },
     "execution_count": 68,
     "metadata": {},
     "output_type": "execute_result"
    },
    {
     "data": {
      "image/png": "[encoded data removed]",
      "text/plain": [
       "<Figure size 432x288 with 1 Axes>"
      ]
     },
     "metadata": {
      "needs_background": "light"
     },
     "output_type": "display_data"
    },
    {
     "data": {
      "image/png": "[encoded data removed]",
      "text/plain": [
       "<Figure size 432x288 with 1 Axes>"
      ]
     },
     "metadata": {
      "needs_background": "light"
     },
     "output_type": "display_data"
    },
    {
     "data": {
      "image/png": "[encoded data removed]",
      "text/plain": [
       "<Figure size 432x288 with 1 Axes>"
      ]
     },
     "metadata": {
      "needs_background": "light"
     },
     "output_type": "display_data"
    },
    {
     "data": {
      "image/png": "[encoded data removed]",
      "text/plain": [
       "<Figure size 432x288 with 1 Axes>"
      ]
     },
     "metadata": {
      "needs_background": "light"
     },
     "output_type": "display_data"
    },
    {
     "data": {
      "image/png": "[encoded data removed]",
      "text/plain": [
       "<Figure size 432x288 with 1 Axes>"
      ]
     },
     "metadata": {
      "needs_background": "light"
     },
     "output_type": "display_data"
    },
    {
     "data": {
      "image/png": "[encoded data removed]",
      "text/plain": [
       "<Figure size 432x288 with 1 Axes>"
      ]
     },
     "metadata": {
      "needs_background": "light"
     },
     "output_type": "display_data"
    },
    {
     "data": {
      "image/png": "[encoded data removed]",
      "text/plain": [
       "<Figure size 432x288 with 1 Axes>"
      ]
     },
     "metadata": {
      "needs_background": "light"
     },
     "output_type": "display_data"
    },
    {
     "data": {
      "image/png": "[encoded data removed]",
      "text/plain": [
       "<Figure size 432x288 with 1 Axes>"
      ]
     },
     "metadata": {
      "needs_background": "light"
     },
     "output_type": "display_data"
    },
    {
     "data": {
      "image/png": "[encoded data removed]",
      "text/plain": [
       "<Figure size 432x288 with 1 Axes>"
      ]
     },
     "metadata": {
      "needs_background": "light"
     },
     "output_type": "display_data"
    },
    {
     "data": {
      "image/png": "[encoded data removed]",
      "text/plain": [
       "<Figure size 432x288 with 1 Axes>"
      ]
     },
     "metadata": {
      "needs_background": "light"
     },
     "output_type": "display_data"
    },
    {
     "data": {
      "image/png": "[encoded data removed]",
      "text/plain": [
       "<Figure size 432x288 with 1 Axes>"
      ]
     },
     "metadata": {
      "needs_background": "light"
     },
     "output_type": "display_data"
    },
    {
     "data": {
      "image/png": "[encoded data removed]",
      "text/plain": [
       "<Figure size 432x288 with 1 Axes>"
      ]
     },
     "metadata": {
      "needs_background": "light"
     },
     "output_type": "display_data"
    },
    {
     "data": {
      "image/png": "[encoded data removed]",
      "text/plain": [
       "<Figure size 432x288 with 1 Axes>"
      ]
     },
     "metadata": {
      "needs_background": "light"
     },
     "output_type": "display_data"
    },
    {
     "data": {
      "image/png": "[encoded data removed]",
      "text/plain": [
       "<Figure size 432x288 with 1 Axes>"
      ]
     },
     "metadata": {
      "needs_background": "light"
     },
     "output_type": "display_data"
    },
    {
     "data": {
      "image/png": "[encoded data removed]",
      "text/plain": [
       "<Figure size 432x288 with 1 Axes>"
      ]
     },
     "metadata": {
      "needs_background": "light"
     },
     "output_type": "display_data"
    },
    {
     "data": {
      "image/png": "[encoded data removed]",
      "text/plain": [
       "<Figure size 432x288 with 1 Axes>"
      ]
     },
     "metadata": {
      "needs_background": "light"
     },
     "output_type": "display_data"
    },
    {
     "data": {
      "image/png": "[encoded data removed]",
      "text/plain": [
       "<Figure size 432x288 with 1 Axes>"
      ]
     },
     "metadata": {
      "needs_background": "light"
     },
     "output_type": "display_data"
    },
    {
     "data": {
      "image/png": "[encoded data removed]",
      "text/plain": [
       "<Figure size 432x288 with 1 Axes>"
      ]
     },
     "metadata": {
      "needs_background": "light"
     },
     "output_type": "display_data"
    },
    {
     "data": {
      "image/png": "[encoded data removed]",
      "text/plain": [
       "<Figure size 432x288 with 1 Axes>"
      ]
     },
     "metadata": {
      "needs_background": "light"
     },
     "output_type": "display_data"
    },
    {
     "data": {
      "image/png": "[encoded data removed]",
      "text/plain": [
       "<Figure size 432x288 with 1 Axes>"
      ]
     },
     "metadata": {
      "needs_background": "light"
     },
     "output_type": "display_data"
    },
    {
     "data": {
      "image/png": "[encoded data removed]",
      "text/plain": [
       "<Figure size 432x288 with 1 Axes>"
      ]
     },
     "metadata": {
      "needs_background": "light"
     },
     "output_type": "display_data"
    },
    {
     "data": {
      "image/png": "[encoded data removed]",
      "text/plain": [
       "<Figure size 432x288 with 1 Axes>"
      ]
     },
     "metadata": {
      "needs_background": "light"
     },
     "output_type": "display_data"
    },
    {
     "data": {
      "image/png": "[encoded data removed]",
      "text/plain": [
       "<Figure size 432x288 with 1 Axes>"
      ]
     },
     "metadata": {
      "needs_background": "light"
     },
     "output_type": "display_data"
    },
    {
     "data": {
      "image/png": "[encoded data removed]",
      "text/plain": [
       "<Figure size 432x288 with 1 Axes>"
      ]
     },
     "metadata": {
      "needs_background": "light"
     },
     "output_type": "display_data"
    },
    {
     "data": {
      "image/png": "[encoded data removed]",
      "text/plain": [
       "<Figure size 432x288 with 1 Axes>"
      ]
     },
     "metadata": {
      "needs_background": "light"
     },
     "output_type": "display_data"
    }
   ],
   "source": [
    "#plotting scatter plot \n",
    "for i in numeric_cols:\n",
    "    plt.figure()\n",
    "    sns.regplot(x = new_df[i], y= new_df['price'])"
   ]
  },
  {
   "cell_type": "code",
   "execution_count": 69,
   "metadata": {},
   "outputs": [],
   "source": [
    "#building the linear regression model\n",
    "from sklearn.model_selection import train_test_split"
   ]
  },
  {
   "cell_type": "code",
   "execution_count": 70,
   "metadata": {},
   "outputs": [],
   "source": [
    "new_df.to_csv(\"Cleaned_Data_final.csv\")"
   ]
  },
  {
   "cell_type": "code",
   "execution_count": 71,
   "metadata": {},
   "outputs": [],
   "source": [
    "col_list=list(new_df.columns)\n",
    "col_list.remove('price')\n",
    "X=new_df[col_list]\n",
    "y=new_df['price']\n",
    "X = X.iloc[:,:]\n",
    "y = y.iloc[:]\n",
    "\n",
    "# Define train and test\n",
    "X_train, X_test, y_train, y_test = train_test_split(X,y,test_size=0.20)"
   ]
  },
  {
   "cell_type": "code",
   "execution_count": 72,
   "metadata": {},
   "outputs": [
    {
     "data": {
      "text/plain": [
       "host_response_rate              False\n",
       "host_is_superhost               False\n",
       "host_listings_count             False\n",
       "host_total_listings_count       False\n",
       "is_location_exact               False\n",
       "                                ...  \n",
       "San Diego, CA, United States    False\n",
       "Santee                          False\n",
       "Solana Beach                    False\n",
       "Sugarloaf                       False\n",
       "Tijuana                         False\n",
       "Length: 68, dtype: bool"
      ]
     },
     "execution_count": 72,
     "metadata": {},
     "output_type": "execute_result"
    }
   ],
   "source": [
    "new_df.dtypes == object"
   ]
  },
  {
   "cell_type": "code",
   "execution_count": 73,
   "metadata": {},
   "outputs": [
    {
     "data": {
      "text/plain": [
       "<matplotlib.axes._subplots.AxesSubplot at 0x29265993548>"
      ]
     },
     "execution_count": 73,
     "metadata": {},
     "output_type": "execute_result"
    },
    {
     "data": {
      "image/png": "[encoded data removed]",
      "text/plain": [
       "<Figure size 432x288 with 1 Axes>"
      ]
     },
     "metadata": {
      "needs_background": "light"
     },
     "output_type": "display_data"
    }
   ],
   "source": [
    "sns.lineplot(x=new_df['price'],y=new_df['reviews_per_month'])"
   ]
  },
  {
   "cell_type": "code",
   "execution_count": 74,
   "metadata": {},
   "outputs": [
    {
     "data": {
      "text/plain": [
       "<matplotlib.axes._subplots.AxesSubplot at 0x292658c4448>"
      ]
     },
     "execution_count": 74,
     "metadata": {},
     "output_type": "execute_result"
    },
    {
     "data": {
      "image/png": "[encoded data removed]",
      "text/plain": [
       "<Figure size 432x288 with 1 Axes>"
      ]
     },
     "metadata": {
      "needs_background": "light"
     },
     "output_type": "display_data"
    }
   ],
   "source": [
    "sns.distplot(new_df['bedrooms'])"
   ]
  },
  {
   "cell_type": "code",
   "execution_count": 75,
   "metadata": {},
   "outputs": [],
   "source": [
    "from sklearn.preprocessing import StandardScaler\n",
    "feature_scaler = StandardScaler()\n",
    "X_train = feature_scaler.fit_transform(X_train)\n",
    "X_test = feature_scaler.transform(X_test)"
   ]
  },
  {
   "cell_type": "code",
   "execution_count": 76,
   "metadata": {},
   "outputs": [
    {
     "data": {
      "text/plain": [
       "LinearRegression(copy_X=True, fit_intercept=True, n_jobs=None, normalize=False)"
      ]
     },
     "execution_count": 76,
     "metadata": {},
     "output_type": "execute_result"
    }
   ],
   "source": [
    "regressor = LinearRegression()  \n",
    "regressor.fit(X_train, y_train) #training the algorithm"
   ]
  },
  {
   "cell_type": "code",
   "execution_count": 77,
   "metadata": {},
   "outputs": [],
   "source": [
    "y_pred = regressor.predict(X_test)"
   ]
  },
  {
   "cell_type": "code",
   "execution_count": 78,
   "metadata": {},
   "outputs": [
    {
     "name": "stdout",
     "output_type": "stream",
     "text": [
      "Mean Absolute Error: 13793.612584783992\n",
      "Mean Squared Error: 2331523096.8377137\n",
      "Root Mean Squared Error: 48285.84779040038\n"
     ]
    }
   ],
   "source": [
    "print('Mean Absolute Error:', metrics.mean_absolute_error(y_test, y_pred))  \n",
    "print('Mean Squared Error:', metrics.mean_squared_error(y_test, y_pred))  \n",
    "print('Root Mean Squared Error:', np.sqrt(metrics.mean_squared_error(y_test, y_pred)))"
   ]
  },
  {
   "cell_type": "code",
   "execution_count": 79,
   "metadata": {},
   "outputs": [
    {
     "name": "stdout",
     "output_type": "stream",
     "text": [
      "R2-score: 0.16614222115864175\n"
     ]
    }
   ],
   "source": [
    "print('R2-score:', metrics.r2_score(y_test, y_pred))"
   ]
  },
  {
   "cell_type": "code",
   "execution_count": 80,
   "metadata": {},
   "outputs": [
    {
     "data": {
      "image/png": "[encoded data removed]",
      "text/plain": [
       "<Figure size 648x504 with 1 Axes>"
      ]
     },
     "metadata": {
      "needs_background": "light"
     },
     "output_type": "display_data"
    }
   ],
   "source": [
    "plt.figure(figsize=(9,7))\n",
    "plt.scatter(y_pred, y_test, alpha=0.5, c='r')\n",
    "plt.title('predicted vs true for test data')\n",
    "plt.xlabel('predicted price')\n",
    "plt.ylabel('True price')\n",
    "#axes = plt.gca()\n",
    "#axes.set_xlim([0,11000])\n",
    "#axes.set_ylim([0,10000])\n",
    "plt.show();"
   ]
  },
  {
   "cell_type": "code",
   "execution_count": 81,
   "metadata": {},
   "outputs": [
    {
     "data": {
      "text/plain": [
       "Ridge(alpha=0.8, copy_X=True, fit_intercept=True, max_iter=None,\n",
       "      normalize=False, random_state=None, solver='auto', tol=0.001)"
      ]
     },
     "execution_count": 81,
     "metadata": {},
     "output_type": "execute_result"
    },
    {
     "name": "stdout",
     "output_type": "stream",
     "text": [
      "R2-score: 0.1661745002637982\n",
      "Mean Absolute Error: 13801.176469563088\n",
      "Mean Squared Error: 2331432842.26298\n",
      "Root Mean Squared Error: 48284.91319514802\n"
     ]
    }
   ],
   "source": [
    "#Performing Linear Regression using Ridge\n",
    "from sklearn. linear_model import Ridge\n",
    "rid=Ridge(alpha=0.8)\n",
    "rid.fit(X_train,y_train)\n",
    "rid_pred=rid.predict(X_test)\n",
    "print('R2-score:', metrics.r2_score(y_test, rid_pred))\n",
    "print('Mean Absolute Error:', metrics.mean_absolute_error(y_test, rid_pred))  \n",
    "print('Mean Squared Error:', metrics.mean_squared_error(y_test, rid_pred))  \n",
    "print('Root Mean Squared Error:', np.sqrt(metrics.mean_squared_error(y_test, rid_pred)))"
   ]
  },
  {
   "cell_type": "code",
   "execution_count": 82,
   "metadata": {},
   "outputs": [
    {
     "name": "stderr",
     "output_type": "stream",
     "text": [
      "C:\\Users\\Anish\\Anaconda3\\lib\\site-packages\\sklearn\\linear_model\\_coordinate_descent.py:476: ConvergenceWarning: Objective did not converge. You might want to increase the number of iterations. Duality gap: 4345663669.0546875, tolerance: 2460044614.2135057\n",
      "  positive)\n"
     ]
    },
    {
     "data": {
      "text/plain": [
       "Lasso(alpha=0.9, copy_X=True, fit_intercept=True, max_iter=1000,\n",
       "      normalize=False, positive=False, precompute=False, random_state=None,\n",
       "      selection='cyclic', tol=0.0001, warm_start=False)"
      ]
     },
     "execution_count": 82,
     "metadata": {},
     "output_type": "execute_result"
    },
    {
     "name": "stdout",
     "output_type": "stream",
     "text": [
      "R2-score: 0.1661745002637982\n",
      "Mean Absolute Error: 13801.176469563088\n",
      "Mean Squared Error: 2331432842.26298\n",
      "Root Mean Squared Error: 48284.91319514802\n"
     ]
    }
   ],
   "source": [
    "#Performing Linear Regression using Lasso\n",
    "from sklearn. linear_model import Lasso\n",
    "lass=Lasso(alpha=0.9)\n",
    "lass.fit(X_train,y_train)\n",
    "lass_pred=rid.predict(X_test)\n",
    "print('R2-score:', metrics.r2_score(y_test, lass_pred))\n",
    "print('Mean Absolute Error:', metrics.mean_absolute_error(y_test, lass_pred))  \n",
    "print('Mean Squared Error:', metrics.mean_squared_error(y_test, lass_pred))  \n",
    "print('Root Mean Squared Error:', np.sqrt(metrics.mean_squared_error(y_test, lass_pred)))"
   ]
  },
  {
   "cell_type": "code",
   "execution_count": 83,
   "metadata": {},
   "outputs": [
    {
     "data": {
      "text/plain": [
       "ElasticNet(alpha=0.7, copy_X=True, fit_intercept=True, l1_ratio=0.6,\n",
       "           max_iter=1000, normalize=False, positive=False, precompute=False,\n",
       "           random_state=None, selection='cyclic', tol=0.0001, warm_start=False)"
      ]
     },
     "execution_count": 83,
     "metadata": {},
     "output_type": "execute_result"
    },
    {
     "name": "stdout",
     "output_type": "stream",
     "text": [
      "R2-score: 0.1661745002637982\n",
      "Mean Absolute Error: 13801.176469563088\n",
      "Mean Squared Error: 2331432842.26298\n",
      "Root Mean Squared Error: 48284.91319514802\n"
     ]
    }
   ],
   "source": [
    "#Performing Linear Regression using ElasticNet\n",
    "from sklearn. linear_model import ElasticNet\n",
    "elastic=ElasticNet(alpha=0.7,l1_ratio=0.6)\n",
    "elastic.fit(X_train,y_train)\n",
    "elastic_pred=rid.predict(X_test)\n",
    "print('R2-score:', metrics.r2_score(y_test, elastic_pred))\n",
    "print('Mean Absolute Error:', metrics.mean_absolute_error(y_test, elastic_pred))  \n",
    "print('Mean Squared Error:', metrics.mean_squared_error(y_test, elastic_pred))  \n",
    "print('Root Mean Squared Error:', np.sqrt(metrics.mean_squared_error(y_test, elastic_pred)))"
   ]
  },
  {
   "cell_type": "code",
   "execution_count": 84,
   "metadata": {},
   "outputs": [
    {
     "data": {
      "text/plain": [
       "GradientBoostingRegressor(alpha=0.9, ccp_alpha=0.0, criterion='friedman_mse',\n",
       "                          init=None, learning_rate=0.3, loss='ls', max_depth=3,\n",
       "                          max_features=None, max_leaf_nodes=None,\n",
       "                          min_impurity_decrease=0.0, min_impurity_split=None,\n",
       "                          min_samples_leaf=1, min_samples_split=2,\n",
       "                          min_weight_fraction_leaf=0.0, n_estimators=200,\n",
       "                          n_iter_no_change=None, presort='deprecated',\n",
       "                          random_state=None, subsample=1.0, tol=0.0001,\n",
       "                          validation_fraction=0.1, verbose=0, warm_start=False)"
      ]
     },
     "execution_count": 84,
     "metadata": {},
     "output_type": "execute_result"
    }
   ],
   "source": [
    "#Performing Gradient Boosting Regressor to increase the accuracy\n",
    "from sklearn.ensemble import GradientBoostingRegressor\n",
    "from sklearn.model_selection import cross_val_score\n",
    "from sklearn.model_selection import KFold\n",
    "\n",
    "gr=GradientBoostingRegressor(learning_rate=0.3,n_estimators=200)\n",
    "gr.fit(X_train,y_train)\n"
   ]
  },
  {
   "cell_type": "code",
   "execution_count": 85,
   "metadata": {},
   "outputs": [
    {
     "name": "stdout",
     "output_type": "stream",
     "text": [
      "R2 sq: %.2f 0.9480359916740219\n",
      "Mean squared error: 595820164.12\n",
      "Root Mean squared error: 24409.43\n",
      "Test Variance score: 0.79\n"
     ]
    }
   ],
   "source": [
    "from sklearn.metrics import mean_squared_error, r2_score\n",
    "model_score = gr.score(X_train,y_train)\n",
    "# Have a look at R sq to give an idea of the fit ,\n",
    "# Explained variance score: 1 is perfect prediction\n",
    "print('R2 sq: %.2f',model_score)\n",
    "y_predicted = gr.predict(X_test)\n",
    "\n",
    "# The mean squared error\n",
    "mse = mean_squared_error(y_test, y_predicted)\n",
    "print(\"Mean squared error: %.2f\"% mse)\n",
    "\n",
    "# The root mean squared error\n",
    "rmse = np.sqrt(mse)\n",
    "print(\"Root Mean squared error: %.2f\"% rmse)\n",
    "\n",
    "# Explained variance score: 1 is perfect prediction\n",
    "print('Test Variance score: %.2f' % r2_score(y_test, y_predicted))"
   ]
  },
  {
   "cell_type": "code",
   "execution_count": 86,
   "metadata": {},
   "outputs": [
    {
     "data": {
      "text/plain": [
       "<matplotlib.collections.PathCollection at 0x29263e9c188>"
      ]
     },
     "execution_count": 86,
     "metadata": {},
     "output_type": "execute_result"
    },
    {
     "data": {
      "text/plain": [
       "[<matplotlib.lines.Line2D at 0x29263e9cd88>]"
      ]
     },
     "execution_count": 86,
     "metadata": {},
     "output_type": "execute_result"
    },
    {
     "data": {
      "text/plain": [
       "Text(0.5, 0, 'Actual')"
      ]
     },
     "execution_count": 86,
     "metadata": {},
     "output_type": "execute_result"
    },
    {
     "data": {
      "text/plain": [
       "Text(0, 0.5, 'Predicted')"
      ]
     },
     "execution_count": 86,
     "metadata": {},
     "output_type": "execute_result"
    },
    {
     "data": {
      "text/plain": [
       "Text(0.5, 1.0, 'True vs Predicted')"
      ]
     },
     "execution_count": 86,
     "metadata": {},
     "output_type": "execute_result"
    },
    {
     "data": {
      "image/png": "[encoded data removed]",
      "text/plain": [
       "<Figure size 432x288 with 1 Axes>"
      ]
     },
     "metadata": {
      "needs_background": "light"
     },
     "output_type": "display_data"
    }
   ],
   "source": [
    "# So let's run the model against the test data\n",
    "from sklearn.model_selection import cross_val_predict\n",
    "\n",
    "fig, ax = plt.subplots()\n",
    "ax.scatter(y_test, y_predicted, edgecolors=(0, 0, 0))\n",
    "ax.plot([y_test.min(), y_test.max()], [y_test.min(), y_test.max()], 'k--', lw=4)\n",
    "ax.set_xlabel('Actual')\n",
    "ax.set_ylabel('Predicted')\n",
    "ax.set_title(\"True vs Predicted\")\n",
    "plt.show()"
   ]
  },
  {
   "cell_type": "code",
   "execution_count": 87,
   "metadata": {},
   "outputs": [
    {
     "data": {
      "text/plain": [
       "RandomForestRegressor(bootstrap=True, ccp_alpha=0.0, criterion='mse',\n",
       "                      max_depth=None, max_features='auto', max_leaf_nodes=None,\n",
       "                      max_samples=None, min_impurity_decrease=0.0,\n",
       "                      min_impurity_split=None, min_samples_leaf=1,\n",
       "                      min_samples_split=2, min_weight_fraction_leaf=0.0,\n",
       "                      n_estimators=100, n_jobs=None, oob_score=False,\n",
       "                      random_state=None, verbose=0, warm_start=False)"
      ]
     },
     "execution_count": 87,
     "metadata": {},
     "output_type": "execute_result"
    },
    {
     "name": "stdout",
     "output_type": "stream",
     "text": [
      "R2 sq:  0.9669233126052073\n",
      "Mean squared error: 736781121.02\n",
      "Root Mean squared error: 27143.71\n",
      "Test Variance score: 0.74\n"
     ]
    }
   ],
   "source": [
    "#Building Random Forest Regressor\n",
    "from sklearn.ensemble import RandomForestRegressor\n",
    "from math import sqrt\n",
    "\n",
    "rf=RandomForestRegressor(n_estimators=100)\n",
    "rf.fit(X_train,y_train)\n",
    "\n",
    "model_score = rf.score(X_train,y_train)\n",
    "# Have a look at R sq to give an idea of the fit ,\n",
    "# Explained variance score: 1 is perfect prediction\n",
    "print('R2 sq: ',model_score)\n",
    "rf_predicted = rf.predict(X_test)\n",
    "\n",
    "# The mean squared error\n",
    "x = mean_squared_error(y_test, rf_predicted)\n",
    "print(\"Mean squared error: %.2f\"% x)\n",
    "print (\"Root Mean squared error: %.2f\"% sqrt(x))\n",
    "# Explained variance score: 1 is perfect prediction\n",
    "print(\"Test Variance score: %.2f\" % r2_score(y_test, rf_predicted))"
   ]
  },
  {
   "cell_type": "code",
   "execution_count": 88,
   "metadata": {},
   "outputs": [
    {
     "data": {
      "text/plain": [
       "<matplotlib.collections.PathCollection at 0x2926464d808>"
      ]
     },
     "execution_count": 88,
     "metadata": {},
     "output_type": "execute_result"
    },
    {
     "data": {
      "text/plain": [
       "[<matplotlib.lines.Line2D at 0x2926464d048>]"
      ]
     },
     "execution_count": 88,
     "metadata": {},
     "output_type": "execute_result"
    },
    {
     "data": {
      "text/plain": [
       "Text(0.5, 0, 'Actual')"
      ]
     },
     "execution_count": 88,
     "metadata": {},
     "output_type": "execute_result"
    },
    {
     "data": {
      "text/plain": [
       "Text(0, 0.5, 'Predicted')"
      ]
     },
     "execution_count": 88,
     "metadata": {},
     "output_type": "execute_result"
    },
    {
     "data": {
      "text/plain": [
       "Text(0.5, 1.0, 'True vs Predicted')"
      ]
     },
     "execution_count": 88,
     "metadata": {},
     "output_type": "execute_result"
    },
    {
     "data": {
      "image/png": "[encoded data removed]",
      "text/plain": [
       "<Figure size 432x288 with 1 Axes>"
      ]
     },
     "metadata": {
      "needs_background": "light"
     },
     "output_type": "display_data"
    }
   ],
   "source": [
    "# So let's run the model against the test data\n",
    "\n",
    "fig, ax = plt.subplots()\n",
    "ax.scatter(y_test, rf_predicted, edgecolors=(0, 0, 0))\n",
    "ax.plot([y_test.min(), y_test.max()], [y_test.min(), y_test.max()], 'k--', lw=4)\n",
    "ax.set_xlabel('Actual')\n",
    "ax.set_ylabel('Predicted')\n",
    "ax.set_title(\"True vs Predicted\")\n",
    "plt.show()"
   ]
  },
  {
   "cell_type": "code",
   "execution_count": 89,
   "metadata": {},
   "outputs": [
    {
     "name": "stdout",
     "output_type": "stream",
     "text": [
      "[01:42:12] WARNING: C:/Jenkins/workspace/xgboost-win64_release_0.90/src/objective/regression_obj.cu:152: reg:linear is now deprecated in favor of reg:squarederror.\n"
     ]
    },
    {
     "data": {
      "text/plain": [
       "XGBRegressor(base_score=0.5, booster='gbtree', colsample_bylevel=1,\n",
       "             colsample_bynode=1, colsample_bytree=1, gamma=0,\n",
       "             importance_type='gain', learning_rate=0.3, max_delta_step=0,\n",
       "             max_depth=6, min_child_weight=1, missing=None, n_estimators=200,\n",
       "             n_jobs=1, nthread=None, objective='reg:linear', random_state=0,\n",
       "             reg_alpha=0, reg_lambda=1, scale_pos_weight=1, seed=None,\n",
       "             silent=None, subsample=1, verbosity=1)"
      ]
     },
     "execution_count": 89,
     "metadata": {},
     "output_type": "execute_result"
    },
    {
     "name": "stdout",
     "output_type": "stream",
     "text": [
      "Mean squared error: 606409878.48\n",
      "Root Mean squared error: 24625.39\n",
      "Test Variance score: 0.78\n"
     ]
    }
   ],
   "source": [
    "from xgboost import XGBRegressor\n",
    "xgb=XGBRegressor(n_estimators=200,learning_rate=0.3,max_depth=6)\n",
    "xgb.fit(X_train,y_train)\n",
    "xgb_pred=xgb.predict(X_test)\n",
    "mse = mean_squared_error(y_test, xgb_pred)\n",
    "print(\"Mean squared error: %.2f\"% mse)\n",
    "print (\"Root Mean squared error: %.2f\"% sqrt(mse))\n",
    "# Explained variance score: 1 is perfect prediction\n",
    "print(\"Test Variance score: %.2f\" % r2_score(y_test, xgb_pred))"
   ]
  },
  {
   "cell_type": "code",
   "execution_count": 90,
   "metadata": {},
   "outputs": [
    {
     "data": {
      "text/plain": [
       "<matplotlib.collections.PathCollection at 0x29264e94e48>"
      ]
     },
     "execution_count": 90,
     "metadata": {},
     "output_type": "execute_result"
    },
    {
     "data": {
      "text/plain": [
       "[<matplotlib.lines.Line2D at 0x29264ec5048>]"
      ]
     },
     "execution_count": 90,
     "metadata": {},
     "output_type": "execute_result"
    },
    {
     "data": {
      "text/plain": [
       "Text(0.5, 0, 'Actual')"
      ]
     },
     "execution_count": 90,
     "metadata": {},
     "output_type": "execute_result"
    },
    {
     "data": {
      "text/plain": [
       "Text(0, 0.5, 'Predicted')"
      ]
     },
     "execution_count": 90,
     "metadata": {},
     "output_type": "execute_result"
    },
    {
     "data": {
      "text/plain": [
       "Text(0.5, 1.0, 'True vs Predicted')"
      ]
     },
     "execution_count": 90,
     "metadata": {},
     "output_type": "execute_result"
    },
    {
     "data": {
      "image/png": "[encoded data removed]",
      "text/plain": [
       "<Figure size 432x288 with 1 Axes>"
      ]
     },
     "metadata": {
      "needs_background": "light"
     },
     "output_type": "display_data"
    }
   ],
   "source": [
    "# So let's run the model against the test data\n",
    "\n",
    "fig, ax = plt.subplots()\n",
    "ax.scatter(y_test, xgb_pred, edgecolors=(0, 0, 0))\n",
    "ax.plot([y_test.min(), y_test.max()], [y_test.min(), y_test.max()], 'k--', lw=4)\n",
    "ax.set_xlabel('Actual')\n",
    "ax.set_ylabel('Predicted')\n",
    "ax.set_title(\"True vs Predicted\")\n",
    "plt.show()"
   ]
  },
  {
   "cell_type": "markdown",
   "metadata": {},
   "source": [
    "# Using Cross Validation and Grid Search for the best model and parameter tuning"
   ]
  },
  {
   "cell_type": "code",
   "execution_count": 91,
   "metadata": {},
   "outputs": [],
   "source": [
    "rfr = RandomForestRegressor(n_estimators=300,max_depth=6)"
   ]
  },
  {
   "cell_type": "code",
   "execution_count": 92,
   "metadata": {},
   "outputs": [],
   "source": [
    "from sklearn.model_selection import cross_val_score\n",
    "all_accuracies = cross_val_score(estimator=rfr, X=X_train, y=y_train, cv=5)"
   ]
  },
  {
   "cell_type": "code",
   "execution_count": 93,
   "metadata": {},
   "outputs": [
    {
     "name": "stdout",
     "output_type": "stream",
     "text": [
      "[0.648384   0.77761424 0.75887921 0.70126007 0.8017659 ]\n"
     ]
    }
   ],
   "source": [
    "print(all_accuracies)"
   ]
  },
  {
   "cell_type": "code",
   "execution_count": 94,
   "metadata": {},
   "outputs": [
    {
     "name": "stdout",
     "output_type": "stream",
     "text": [
      "0.7375806834439184\n"
     ]
    }
   ],
   "source": [
    "print(all_accuracies.mean())\n"
   ]
  },
  {
   "cell_type": "code",
   "execution_count": 95,
   "metadata": {},
   "outputs": [
    {
     "name": "stdout",
     "output_type": "stream",
     "text": [
      "0.05559008912797371\n"
     ]
    }
   ],
   "source": [
    "#Variance\n",
    "print(all_accuracies.std())"
   ]
  },
  {
   "cell_type": "code",
   "execution_count": 96,
   "metadata": {},
   "outputs": [],
   "source": [
    "from sklearn.model_selection import GridSearchCV"
   ]
  },
  {
   "cell_type": "code",
   "execution_count": 97,
   "metadata": {},
   "outputs": [],
   "source": [
    "grid_param = {\n",
    "    'n_estimators': [100, 300, 500, 800, 1000],\n",
    "    'min_impurity_decrease': [0.1, 0.01, 0.0],\n",
    "    'max_depth':[6,7,8],\n",
    "    'criterion': ['mse'],\n",
    "    'bootstrap': [True],\n",
    "    \n",
    "    \n",
    "}"
   ]
  },
  {
   "cell_type": "code",
   "execution_count": 98,
   "metadata": {},
   "outputs": [],
   "source": [
    "rf = RandomForestRegressor()\n",
    "# Instantiate the grid search model\n",
    "gd_sr = GridSearchCV(estimator=rf,\n",
    "                     param_grid=grid_param,\n",
    "                     scoring='r2',\n",
    "                     cv=5,\n",
    "                     n_jobs=-1)"
   ]
  },
  {
   "cell_type": "code",
   "execution_count": null,
   "metadata": {},
   "outputs": [],
   "source": [
    "gd_sr.fit(X_train, y_train)"
   ]
  },
  {
   "cell_type": "code",
   "execution_count": null,
   "metadata": {},
   "outputs": [],
   "source": [
    "best_parameters = gd_sr.best_params_\n",
    "print(best_parameters)"
   ]
  },
  {
   "cell_type": "code",
   "execution_count": null,
   "metadata": {},
   "outputs": [],
   "source": [
    "test_pred_score = gd_sr.score(X_test, y_test)"
   ]
  },
  {
   "cell_type": "code",
   "execution_count": null,
   "metadata": {},
   "outputs": [],
   "source": [
    "test_pred_score"
   ]
  },
  {
   "cell_type": "code",
   "execution_count": null,
   "metadata": {},
   "outputs": [],
   "source": [
    "grid_param = {\n",
    "    'n_estimators': [100, 300, 500, 800, 1000],\n",
    "    'learning_rate:': [0.1, 0.01, 0.05],\n",
    "    'max_depth': [4,5,6]\n",
    "}"
   ]
  },
  {
   "cell_type": "code",
   "execution_count": null,
   "metadata": {},
   "outputs": [],
   "source": [
    "xgb=XGBRegressor()\n",
    "gd_sr = GridSearchCV(estimator=xgb,\n",
    "                     param_grid=grid_param,\n",
    "                     scoring='r2',\n",
    "                     cv=5,\n",
    "                     n_jobs=-1)\n"
   ]
  },
  {
   "cell_type": "code",
   "execution_count": null,
   "metadata": {
    "scrolled": true
   },
   "outputs": [],
   "source": [
    "gd_sr.fit(X_train, y_train)"
   ]
  },
  {
   "cell_type": "code",
   "execution_count": null,
   "metadata": {},
   "outputs": [],
   "source": [
    "best_parameters = gd_sr.best_params_\n",
    "print(best_parameters)"
   ]
  },
  {
   "cell_type": "code",
   "execution_count": null,
   "metadata": {},
   "outputs": [],
   "source": [
    "test_pred_score = gd_sr.score(X_test, y_test)\n",
    "test_pred_score"
   ]
  },
  {
   "cell_type": "markdown",
   "metadata": {},
   "source": [
    "# Got the best R2 score using XGboost"
   ]
  },
  {
   "cell_type": "code",
   "execution_count": null,
   "metadata": {},
   "outputs": [],
   "source": [
    "len(new_df.columns)"
   ]
  },
  {
   "cell_type": "code",
   "execution_count": null,
   "metadata": {},
   "outputs": [],
   "source": [
    "import tensorflow as tf\n",
    "from tensorflow import keras\n",
    "from sklearn.metrics import mean_absolute_error,mean_squared_error"
   ]
  },
  {
   "cell_type": "code",
   "execution_count": null,
   "metadata": {},
   "outputs": [],
   "source": [
    "model= keras.Sequential([\n",
    "keras.layers.Dense(68,input_dim=X_train.shape[1],kernel_initializer='normal',activation='relu'), \n",
    "keras.layers.Dense(68,kernel_initializer='normal',activation='relu'),\n",
    "keras.layers.Dense(34,kernel_initializer='normal',activation='relu'),\n",
    "keras.layers.Dense(1,kernel_initializer='normal',activation='linear'),\n",
    "]\n",
    ")"
   ]
  },
  {
   "cell_type": "code",
   "execution_count": null,
   "metadata": {},
   "outputs": [],
   "source": [
    "model.compile(loss='mean_absolute_error', optimizer='adam',metrics=['mean_absolute_error'])"
   ]
  },
  {
   "cell_type": "code",
   "execution_count": null,
   "metadata": {},
   "outputs": [],
   "source": [
    "model.fit(X_train,y_train,validation_split=0.3)"
   ]
  },
  {
   "cell_type": "code",
   "execution_count": null,
   "metadata": {},
   "outputs": [],
   "source": [
    "prediction=model.predict(X_test)"
   ]
  },
  {
   "cell_type": "code",
   "execution_count": null,
   "metadata": {},
   "outputs": [],
   "source": [
    "metrics.r2_score(y_test,prediction)"
   ]
  },
  {
   "cell_type": "markdown",
   "metadata": {},
   "source": [
    "### We used different models like Linear models, Random Forest, Boosting and Neural Networks for our dataset. The model that we are most confident in is the XGBoost with cross validation and parameter tuning. We are confident that our model does not overfit and still give us great results.\n",
    "\n"
   ]
  },
  {
   "cell_type": "code",
   "execution_count": null,
   "metadata": {},
   "outputs": [],
   "source": []
  }
 ],
 "metadata": {
  "kernelspec": {
   "display_name": "Python 3",
   "language": "python",
   "name": "python3"
  },
  "language_info": {
   "codemirror_mode": {
    "name": "ipython",
    "version": 3
   },
   "file_extension": ".py",
   "mimetype": "text/x-python",
   "name": "python",
   "nbconvert_exporter": "python",
   "pygments_lexer": "ipython3",
   "version": "3.7.7"
  }
 },
 "nbformat": 4,
 "nbformat_minor": 2
}
